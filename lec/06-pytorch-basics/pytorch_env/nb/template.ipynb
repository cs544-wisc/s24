{
 "cells": [
  {
   "cell_type": "code",
   "execution_count": null,
   "id": "1e33b772-d354-4e39-9c21-2c103dde6ae5",
   "metadata": {},
   "outputs": [],
   "source": [
    "# import statements\n"
   ]
  },
  {
   "cell_type": "markdown",
   "id": "c1505ee4-b51c-4541-aa20-751711496815",
   "metadata": {},
   "source": [
    "## NUMBERS\n",
    "### INTEGERS\n",
    "\n",
    "Syntax:\n",
    "- `import torch`\n",
    "- `torch.tensor(<SOME NUMBER>, dtype=torch.<DTYPE>)`"
   ]
  },
  {
   "cell_type": "code",
   "execution_count": null,
   "id": "e1e82c23-2440-4910-810c-75d908ea1887",
   "metadata": {},
   "outputs": [],
   "source": [
    "2 ** 31 # python int"
   ]
  },
  {
   "cell_type": "markdown",
   "id": "b5b128f4-8836-4747-8651-d6996bb82271",
   "metadata": {},
   "source": [
    "No limits on Python integer!"
   ]
  },
  {
   "cell_type": "code",
   "execution_count": null,
   "id": "83057423-1763-4b41-be2d-bfdccd3b845e",
   "metadata": {},
   "outputs": [],
   "source": [
    "2 ** 61"
   ]
  },
  {
   "cell_type": "markdown",
   "id": "56a9040d-f9dc-44eb-b9d0-6a90b25c7943",
   "metadata": {},
   "source": [
    "Let's convert `12 ** 31` to a torch tensor."
   ]
  },
  {
   "cell_type": "code",
   "execution_count": null,
   "id": "fbbc9ced-b5ee-4a61-9ffa-37b8cdd27c8e",
   "metadata": {},
   "outputs": [],
   "source": [
    " # 64 bit integer"
   ]
  },
  {
   "cell_type": "code",
   "execution_count": null,
   "id": "57d8a8fd-4078-42d7-ba55-d1d4cfb4f02d",
   "metadata": {},
   "outputs": [],
   "source": [
    "x = torch.tensor(2 ** 31, dtype=torch.int64) # 64 bit integer\n",
    "# element_size()"
   ]
  },
  {
   "cell_type": "markdown",
   "id": "cdc92241-af40-4cad-81a1-88b07d2e0c76",
   "metadata": {},
   "source": [
    "Will this work if we try to fit this number into 31 bit integer?"
   ]
  },
  {
   "cell_type": "code",
   "execution_count": null,
   "id": "ba943253-5df3-4654-97de-6ab9008ba32d",
   "metadata": {},
   "outputs": [],
   "source": [
    "torch.tensor(2 ** 31, dtype=torch.int32)"
   ]
  },
  {
   "cell_type": "markdown",
   "id": "11ca4cdf-0033-472e-b747-7a5ec9328ab6",
   "metadata": {},
   "source": [
    "Let's try subtracting 1 from `2 ** 31`."
   ]
  },
  {
   "cell_type": "code",
   "execution_count": null,
   "id": "26d65e44-e620-4f3f-9460-202bbc695ce0",
   "metadata": {},
   "outputs": [],
   "source": [
    "x = torch.tensor(2 ** 31 - 1, dtype=torch.int32)\n",
    "x"
   ]
  },
  {
   "cell_type": "markdown",
   "id": "1f3b3a6b-a38f-42c2-9ce2-975cef7bf456",
   "metadata": {},
   "source": [
    "Let's try to add 1 to it - what will happen? Number overflow - wraps around the range!"
   ]
  },
  {
   "cell_type": "code",
   "execution_count": null,
   "id": "dc0c25d9-769b-43e2-b3ed-aa8defa08740",
   "metadata": {},
   "outputs": [],
   "source": [
    "x + 1"
   ]
  },
  {
   "cell_type": "markdown",
   "id": "cf611bb4-24e2-4ac7-af0a-c768ab72f7f5",
   "metadata": {},
   "source": [
    "Let's try to subtract 1 from `x + 1` now. Number underflow - wraps around the range!"
   ]
  },
  {
   "cell_type": "code",
   "execution_count": null,
   "id": "73116da6-bd0c-449a-a645-4817be9e861f",
   "metadata": {},
   "outputs": [],
   "source": [
    "y = x + 1\n",
    "y - 1"
   ]
  },
  {
   "cell_type": "markdown",
   "id": "3d79da29-3e90-4fc2-ac93-6c11d56887b7",
   "metadata": {},
   "source": [
    "### FLOATS - 64 bit by default\n",
    "\n",
    "Floats don't overflow / underflow - no wrap around!\n",
    "\n",
    "Syntax:\n",
    "- `from sys import float_info`\n",
    "- `float_info.max` and `float_info.min` gives you max and min values\n",
    "- `float_info.dig` - gives you precision of the number in terms of # of digits\n",
    "- `float_info.epsilon` - smallest increment to the next float number"
   ]
  },
  {
   "cell_type": "code",
   "execution_count": null,
   "id": "060e46d2-7629-4f6d-bf9b-ab85c654dac3",
   "metadata": {},
   "outputs": [],
   "source": []
  },
  {
   "cell_type": "code",
   "execution_count": null,
   "id": "c45b6b02-236d-4cd5-9ee8-03bef939ab41",
   "metadata": {},
   "outputs": [],
   "source": []
  },
  {
   "cell_type": "code",
   "execution_count": null,
   "id": "759a4194-3135-42c4-a250-dddbb8e666b7",
   "metadata": {},
   "outputs": [],
   "source": [
    "big = \n",
    "small = "
   ]
  },
  {
   "cell_type": "code",
   "execution_count": null,
   "id": "4c1d1c3d-2951-4fce-825a-3d437677eadc",
   "metadata": {},
   "outputs": [],
   "source": [
    "big + 1"
   ]
  },
  {
   "cell_type": "code",
   "execution_count": null,
   "id": "7cdfa807-fc5d-46f3-b299-1dc15e282c5a",
   "metadata": {},
   "outputs": [],
   "source": [
    "big+1 == big"
   ]
  },
  {
   "cell_type": "code",
   "execution_count": null,
   "id": "05f42942-de0a-4383-a1b0-b5bedad80f1d",
   "metadata": {},
   "outputs": [],
   "source": [
    "big * 2"
   ]
  },
  {
   "cell_type": "code",
   "execution_count": null,
   "id": "b9c38b55-34a1-4cae-b0d5-5a70f2bcc2b9",
   "metadata": {},
   "outputs": [],
   "source": [
    "small * 3"
   ]
  },
  {
   "cell_type": "markdown",
   "id": "5b9f9ad1-2468-4462-a7fc-c38cfa31d9fe",
   "metadata": {},
   "source": [
    "What will be the output of the below cell?"
   ]
  },
  {
   "cell_type": "code",
   "execution_count": null,
   "id": "ae96ad6a-53a8-49d2-b65a-f06e14ab7de9",
   "metadata": {},
   "outputs": [],
   "source": [
    "big*2 + small*3"
   ]
  },
  {
   "cell_type": "markdown",
   "id": "5813decf-3417-486a-bd34-654c392eb624",
   "metadata": {},
   "source": [
    "How many digits can float value represent?"
   ]
  },
  {
   "cell_type": "code",
   "execution_count": null,
   "id": "25c727f8-2c35-45f7-82e2-a8397c983ad2",
   "metadata": {},
   "outputs": [],
   "source": [
    "#dig"
   ]
  },
  {
   "cell_type": "markdown",
   "id": "27e864fd-7140-4943-96f1-1d4d82f5079a",
   "metadata": {},
   "source": [
    "What if you have more than 15 digits? Well only 15 digits will be considered for the actual value!"
   ]
  },
  {
   "cell_type": "code",
   "execution_count": null,
   "id": "1b07a63c-d2f6-4c96-8251-4ba3aa49f8cb",
   "metadata": {},
   "outputs": [],
   "source": [
    "x = 1.234567812345678\n",
    "y = 1.234567812345679\n",
    "x == y"
   ]
  },
  {
   "cell_type": "code",
   "execution_count": null,
   "id": "0ac8aadd-be4e-49c5-824b-54cc7bd286f8",
   "metadata": {},
   "outputs": [],
   "source": [
    "x = 1.2345678123456780\n",
    "y = 1.2345678123456781\n",
    "x == y"
   ]
  },
  {
   "cell_type": "code",
   "execution_count": null,
   "id": "c7c13b82-d2ad-4ba6-831f-d09073c7f10e",
   "metadata": {},
   "outputs": [],
   "source": [
    "#epsilon"
   ]
  },
  {
   "cell_type": "markdown",
   "id": "d8541bd5-0ef0-40a3-bd3c-f12e7fe53706",
   "metadata": {},
   "source": [
    "What number comes after 1.0?"
   ]
  },
  {
   "cell_type": "code",
   "execution_count": null,
   "id": "a79d52e0-33b4-4acd-a0b9-204ffe2555eb",
   "metadata": {},
   "outputs": [],
   "source": [
    "x = 1.0\n",
    " # next number after 1.0"
   ]
  },
  {
   "cell_type": "code",
   "execution_count": null,
   "id": "92423fff-ca74-4869-b483-95a2250a4288",
   "metadata": {},
   "outputs": [],
   "source": [
    "x == x + float_info.epsilon"
   ]
  },
  {
   "cell_type": "markdown",
   "id": "26419302-4091-40b4-988d-9c246fb21573",
   "metadata": {},
   "source": [
    "Can't add a smaller increment than epsilon!"
   ]
  },
  {
   "cell_type": "code",
   "execution_count": null,
   "id": "7bf10e81-0a27-4f6d-9b14-6a75bd556628",
   "metadata": {},
   "outputs": [],
   "source": [
    "x == x + float_info.epsilon"
   ]
  },
  {
   "cell_type": "markdown",
   "id": "1b7e0739-e5ad-4b5b-85fc-a7bea7388356",
   "metadata": {},
   "source": [
    "## Matrices\n",
    "\n",
    "Syntax:\n",
    "- `torch.rand(<ROW>, <COL>)`\n",
    "- `torch.manual_seed(<SEED VALUE>)`: pseudo-randomness\n",
    "- Details `dtype`, `shape`, `device`"
   ]
  },
  {
   "cell_type": "code",
   "execution_count": null,
   "id": "ff122246-bf11-471c-b41c-618232bcfb8b",
   "metadata": {},
   "outputs": [],
   "source": []
  },
  {
   "cell_type": "markdown",
   "id": "3267d647-0386-44f7-9680-c33b9d97f081",
   "metadata": {},
   "source": [
    "Psuedo-randomness."
   ]
  },
  {
   "cell_type": "code",
   "execution_count": null,
   "id": "7d57da5c-0a62-40de-a1ea-b28eac77937e",
   "metadata": {},
   "outputs": [],
   "source": [
    "\n",
    "A = torch.rand(10, 3)\n",
    "A"
   ]
  },
  {
   "cell_type": "code",
   "execution_count": null,
   "id": "8a24b457-3786-4f9e-9a8a-d6ff46f7e245",
   "metadata": {},
   "outputs": [],
   "source": [
    "#dtype"
   ]
  },
  {
   "cell_type": "code",
   "execution_count": null,
   "id": "2757594e-f170-41eb-bfa3-f3c1b767eea2",
   "metadata": {},
   "outputs": [],
   "source": [
    "#shape"
   ]
  },
  {
   "cell_type": "code",
   "execution_count": null,
   "id": "926d7082-6138-4bde-b468-8638308dcf44",
   "metadata": {},
   "outputs": [],
   "source": [
    "#device # \"cpu\" means the main system memory (RAM)"
   ]
  },
  {
   "cell_type": "markdown",
   "id": "d87c803d-1d12-49e8-b233-a68d30932c6e",
   "metadata": {},
   "source": [
    "We can set these things while we create the matrix."
   ]
  },
  {
   "cell_type": "code",
   "execution_count": null,
   "id": "4fd001b1-9f4e-4059-97c6-989cd3dba2b0",
   "metadata": {},
   "outputs": [],
   "source": [
    "torch.manual_seed(544)\n",
    "A = torch.rand(10, 3, dtype=torch.float64)\n",
    "A"
   ]
  },
  {
   "cell_type": "markdown",
   "id": "2c3470b0-ba6e-43a0-9f1b-740d20bc99f2",
   "metadata": {},
   "source": [
    "Or change it afterwards."
   ]
  },
  {
   "cell_type": "code",
   "execution_count": null,
   "id": "9b6f10ae-a413-47a0-88d6-94af587e7674",
   "metadata": {},
   "outputs": [],
   "source": [
    " #convert to float16"
   ]
  },
  {
   "cell_type": "code",
   "execution_count": null,
   "id": "445a1ea8-e7fb-47cf-a71a-7876e7639a31",
   "metadata": {},
   "outputs": [],
   "source": [
    "A.dtype"
   ]
  },
  {
   "cell_type": "code",
   "execution_count": null,
   "id": "7539c517-980e-4f18-a49a-2e8139c6d503",
   "metadata": {},
   "outputs": [],
   "source": [
    " #make it use gpu"
   ]
  },
  {
   "cell_type": "code",
   "execution_count": null,
   "id": "86fd6a83-55ce-4805-a464-95604045526e",
   "metadata": {},
   "outputs": [],
   "source": []
  },
  {
   "cell_type": "code",
   "execution_count": null,
   "id": "e34aac5b-022a-4f93-8e7d-69f235502115",
   "metadata": {},
   "outputs": [],
   "source": [
    "# if gpu is available\n"
   ]
  },
  {
   "cell_type": "code",
   "execution_count": null,
   "id": "f88c26ad-b7d5-4cd9-863f-391067374f55",
   "metadata": {},
   "outputs": [],
   "source": [
    " # transpose - flips along the diagonal"
   ]
  },
  {
   "cell_type": "code",
   "execution_count": null,
   "id": "4e7062dc-13ab-4f24-aed3-e8e5e8df173e",
   "metadata": {},
   "outputs": [],
   "source": [
    "A # reshape to 2 x 15"
   ]
  },
  {
   "cell_type": "code",
   "execution_count": null,
   "id": "09490b1f-a289-44de-9922-0f0355a4d0be",
   "metadata": {},
   "outputs": [],
   "source": [
    "A # single dimensional"
   ]
  },
  {
   "cell_type": "markdown",
   "id": "c6460f77-832b-4b74-82fa-1c35e9be0ce5",
   "metadata": {},
   "source": [
    "Size information"
   ]
  },
  {
   "cell_type": "code",
   "execution_count": null,
   "id": "fe16bb19-18c6-4d78-a350-7847516a8524",
   "metadata": {},
   "outputs": [],
   "source": [
    "A # number of elements"
   ]
  },
  {
   "cell_type": "code",
   "execution_count": null,
   "id": "e9373a98-58a9-4d02-bb1d-1c2557aeae5e",
   "metadata": {},
   "outputs": [],
   "source": [
    "A # element size"
   ]
  },
  {
   "cell_type": "markdown",
   "id": "e34f0397-2911-4a76-9050-5f2b04a9d208",
   "metadata": {},
   "source": [
    "Approximately how much memory is used (ignoring object overhead)."
   ]
  },
  {
   "cell_type": "code",
   "execution_count": null,
   "id": "72bbe2be-6ce7-4a07-9b57-bd392d76a23d",
   "metadata": {},
   "outputs": [],
   "source": []
  },
  {
   "cell_type": "code",
   "execution_count": null,
   "id": "be6bb5ad-36e9-4d5e-a280-e56b119dcd10",
   "metadata": {},
   "outputs": [],
   "source": [
    "# object overhead that we will ignore\n"
   ]
  },
  {
   "cell_type": "markdown",
   "id": "418e65c6-b4ff-4394-b5ac-ee1484de666c",
   "metadata": {},
   "source": [
    "### Tensor calculations"
   ]
  },
  {
   "cell_type": "code",
   "execution_count": null,
   "id": "64b0e3bc-9482-474f-af55-4ee476fe8580",
   "metadata": {},
   "outputs": [],
   "source": [
    "X = torch.rand(5, 3)\n",
    "X"
   ]
  },
  {
   "cell_type": "markdown",
   "id": "e2e5ff71-8906-4290-b2cc-3be7bf5cb6a0",
   "metadata": {},
   "source": [
    "Element-wise operations. Let's add 100 to each number."
   ]
  },
  {
   "cell_type": "code",
   "execution_count": null,
   "id": "71546904-c6ce-43d5-9843-3f5001cdc1ea",
   "metadata": {},
   "outputs": [],
   "source": [
    "X + 100"
   ]
  },
  {
   "cell_type": "markdown",
   "id": "21248bab-d7ea-43d3-be04-95c22a4c9514",
   "metadata": {},
   "source": [
    "Sigmoid\n",
    "\n",
    "Syntax:\n",
    "- `torch.sigmoid(<tensor>)`: S-shaped function maps value to 0 to 1 range\n",
    "- `torch.arange(<start>, <end>, <step>)`"
   ]
  },
  {
   "cell_type": "code",
   "execution_count": null,
   "id": "7828ec36-0ff2-4251-a03b-8b3db0276cf4",
   "metadata": {},
   "outputs": [],
   "source": [
    "torch.sigmoid(torch.tensor(0))"
   ]
  },
  {
   "cell_type": "code",
   "execution_count": null,
   "id": "f52adc80-495b-44ab-8f26-2fc039e85858",
   "metadata": {},
   "outputs": [],
   "source": [
    "torch.sigmoid() #arange"
   ]
  },
  {
   "cell_type": "markdown",
   "id": "62898ab5-b1d1-4b4f-9d8a-c4b4887395f5",
   "metadata": {},
   "source": [
    "#### Matrix multiplication\n",
    "\n",
    "Rules:\n",
    "1. 2nd dimension of 1st matrix must equal 1st dimension of 2nd matrix (for every pair)\n",
    "2. Output matrix: rows=rows of first matrix; cols=cols of last matrix"
   ]
  },
  {
   "cell_type": "code",
   "execution_count": null,
   "id": "22a5dd5c-b602-433f-ab51-2dec5e3bc4f9",
   "metadata": {},
   "outputs": [],
   "source": [
    "x = torch.rand(5, 3)\n",
    "y = torch.rand(3, 7)\n",
    "z = torch.rand(7, 2)\n",
    "\n",
    "# matrix multiply\n",
    "x @ y @ z"
   ]
  },
  {
   "cell_type": "code",
   "execution_count": null,
   "id": "fa893d8b-b065-419b-9029-855a448e8914",
   "metadata": {},
   "outputs": [],
   "source": []
  }
 ],
 "metadata": {
  "kernelspec": {
   "display_name": "Python 3 (ipykernel)",
   "language": "python",
   "name": "python3"
  },
  "language_info": {
   "codemirror_mode": {
    "name": "ipython",
    "version": 3
   },
   "file_extension": ".py",
   "mimetype": "text/x-python",
   "name": "python",
   "nbconvert_exporter": "python",
   "pygments_lexer": "ipython3",
   "version": "3.11.6"
  }
 },
 "nbformat": 4,
 "nbformat_minor": 5
}
