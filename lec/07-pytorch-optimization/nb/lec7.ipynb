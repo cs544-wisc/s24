{
 "cells": [
  {
   "cell_type": "code",
   "execution_count": null,
   "id": "46c1a7b7-e5a0-4845-9e9d-37bfb025bbc2",
   "metadata": {},
   "outputs": [],
   "source": [
    "# import statements\n",
    "import torch\n",
    "import matplotlib.pyplot as plt\n",
    "import pandas as pd"
   ]
  },
  {
   "cell_type": "markdown",
   "id": "0ad7f13e-8796-4ffa-8a4c-ad8bfcd56e6a",
   "metadata": {},
   "source": [
    "### Tensor calculations"
   ]
  },
  {
   "cell_type": "code",
   "execution_count": null,
   "id": "b20ef066-cac2-46cb-82fe-54b0ba956c7b",
   "metadata": {},
   "outputs": [],
   "source": [
    "X = torch.rand(5, 3)\n",
    "X"
   ]
  },
  {
   "cell_type": "markdown",
   "id": "5525d1db-837d-4f0d-baa7-c94374db4e45",
   "metadata": {},
   "source": [
    "Element-wise operations. Let's add 100 to each number."
   ]
  },
  {
   "cell_type": "code",
   "execution_count": null,
   "id": "dc4a89ef-8f9a-46b7-89a3-eb18e6154d92",
   "metadata": {},
   "outputs": [],
   "source": [
    "X + 100"
   ]
  },
  {
   "cell_type": "markdown",
   "id": "1b1befab-230a-4466-9840-8d5af9bec76e",
   "metadata": {},
   "source": [
    "Sigmoid\n",
    "\n",
    "Syntax:\n",
    "- `torch.sigmoid(<tensor>)`: S-shaped function maps value to 0 to 1 range\n",
    "- `torch.arange(<start>, <end>, <step>)`"
   ]
  },
  {
   "cell_type": "code",
   "execution_count": null,
   "id": "55b9e071-0cf5-454d-bd9c-df19cf6f8076",
   "metadata": {},
   "outputs": [],
   "source": [
    "torch.sigmoid(torch.tensor(0))"
   ]
  },
  {
   "cell_type": "code",
   "execution_count": null,
   "id": "2a934318-6b69-4229-8458-c9401faa858e",
   "metadata": {},
   "outputs": [],
   "source": [
    "torch.sigmoid(torch.arange(-6, 6, 1))"
   ]
  },
  {
   "cell_type": "markdown",
   "id": "1035a358-d99b-4890-8ad3-5b51c13fbbeb",
   "metadata": {},
   "source": [
    "#### Matrix multiplication\n",
    "\n",
    "Rules:\n",
    "1. 2nd dimension of 1st matrix must equal 1st dimension of 2nd matrix (for every pair)\n",
    "2. Output matrix: rows=rows of first matrix; cols=cols of last matrix"
   ]
  },
  {
   "cell_type": "code",
   "execution_count": null,
   "id": "8633093b-5219-4ea4-ae14-6c07e3546358",
   "metadata": {},
   "outputs": [],
   "source": [
    "x = torch.rand(5, 3)\n",
    "y = torch.rand(3, 7)\n",
    "z = torch.rand(7, 2)\n",
    "\n",
    "# matrix multiply\n",
    "x @ y @ z"
   ]
  },
  {
   "cell_type": "markdown",
   "id": "36368648-d7e0-4ce9-98d1-eaf591c3341e",
   "metadata": {},
   "source": [
    "## Optimization using SGD\n",
    "\n",
    "Steps:\n",
    "1. Initialize x with some value - let's start at 1.0\n",
    "2. Initialize optimizer - SGD - let's start with l1 0.1\n",
    "3. Compute y\n",
    "4. Plot x and y\n",
    "5. Fill grad for y using backward() and step()\n",
    "6. Optimize using step()\n",
    "7. Don't forget to set zero value for grad"
   ]
  },
  {
   "cell_type": "code",
   "execution_count": null,
   "id": "e5779896-6fbd-4029-92ab-0f4f9ee0cdd9",
   "metadata": {},
   "outputs": [],
   "source": [
    "def f(x):\n",
    "    return (x - 1) * (x + 2) * (x - 3) * (x + 6)\n",
    "# plotting of the function\n",
    "x = torch.arange(-8, 5, 0.1)\n",
    "y = f(x)\n",
    "plt.plot(x, y)\n",
    "\n",
    "# Objective: try to find a good x value, to make y small\n",
    "x = torch.tensor(0.0, requires_grad=True)\n",
    "optimizer = torch.optim.SGD([x], lr=0.01)   # minimizes by default\n",
    "\n",
    "for epoch in range(10):\n",
    "    y = f(x)\n",
    "    plt.plot(x.detach(), y.detach(), \"ro\", markersize=3+epoch)\n",
    "    y.backward()\n",
    "    optimizer.step()\n",
    "    optimizer.zero_grad()\n",
    "x"
   ]
  },
  {
   "cell_type": "markdown",
   "id": "3d0d4078-ad6c-413d-82f2-b913f4205241",
   "metadata": {},
   "source": [
    "## Train a Model using Iris dataset"
   ]
  },
  {
   "cell_type": "code",
   "execution_count": null,
   "id": "fab81f6e-8c7f-4d69-9eb0-48ae031e94fe",
   "metadata": {},
   "outputs": [],
   "source": [
    "df = pd.read_csv(\"https://archive.ics.uci.edu/ml/machine-learning-databases/iris/iris.data\",\n",
    "                 names=[\"seplen\", \"sepwid\", \"petlen\", \"petwid\", \"variety\"])\n",
    "df.plot.scatter(x=\"petlen\", y=\"petwid\")"
   ]
  },
  {
   "cell_type": "code",
   "execution_count": null,
   "id": "32902181-6c28-4e84-8290-3c65fa690523",
   "metadata": {},
   "outputs": [],
   "source": [
    "ds = torch.utils.data.TensorDataset(\n",
    "    torch.tensor(df.loc[:, \"seplen\":\"petlen\"].values),\n",
    "    torch.tensor(df.loc[:, [\"petwid\"]].values)\n",
    ")"
   ]
  },
  {
   "cell_type": "code",
   "execution_count": null,
   "id": "db674a7f-0220-4501-a159-30ed93928d59",
   "metadata": {},
   "outputs": [],
   "source": [
    "train, test = torch.utils.data.random_split(ds, [0.75, 0.25])"
   ]
  },
  {
   "cell_type": "code",
   "execution_count": null,
   "id": "927c9fae-078f-4a45-b87a-c2b71af4af51",
   "metadata": {},
   "outputs": [],
   "source": [
    "batchX, batchY = train[0:5]\n",
    "batchX"
   ]
  },
  {
   "cell_type": "code",
   "execution_count": null,
   "id": "1c08e7d7-9b2d-44ea-91e1-5cf7662f1640",
   "metadata": {},
   "outputs": [],
   "source": [
    "batchY"
   ]
  },
  {
   "cell_type": "code",
   "execution_count": null,
   "id": "97d15b7a-dac2-4f38-b192-caffdb24c8e8",
   "metadata": {},
   "outputs": [],
   "source": [
    "dl = torch.utils.data.DataLoader(train, batch_size=5, shuffle=True)"
   ]
  },
  {
   "cell_type": "code",
   "execution_count": null,
   "id": "0447391e-998c-4134-99f4-bcf0865e8df8",
   "metadata": {},
   "outputs": [],
   "source": [
    "for batchX, batchY in dl:\n",
    "    print(X)\n",
    "    print(y)\n",
    "    break"
   ]
  },
  {
   "cell_type": "code",
   "execution_count": null,
   "id": "978b31d0-5987-4d44-8b44-a3392d4d31d1",
   "metadata": {},
   "outputs": [],
   "source": [
    "batchX.shape"
   ]
  },
  {
   "cell_type": "code",
   "execution_count": null,
   "id": "8b9a0387-d91a-4223-ba3e-2c80d0dbfc31",
   "metadata": {},
   "outputs": [],
   "source": [
    "loss_fn = torch.nn.MSELoss()\n",
    "coef = torch.zeros((3, 1), dtype=torch.float64, requires_grad=True)\n",
    "optimizer = torch.optim.SGD([coef], lr=0.001)\n",
    "\n",
    "for epoch in range(100):\n",
    "    for batchX, batchY in dl:\n",
    "        predictions = batchX @ coef\n",
    "        loss = loss_fn(predictions, batchY)\n",
    "        loss.backward()   # computes gradient, and adds it to coef.grad\n",
    "        optimizer.step()\n",
    "        optimizer.zero_grad()\n",
    "\n",
    "    X, Y = train[:]\n",
    "    print(loss_fn(X @ coef, Y))"
   ]
  },
  {
   "cell_type": "code",
   "execution_count": null,
   "id": "fb174814-fc2e-472b-b1b7-da04d54c6ff9",
   "metadata": {},
   "outputs": [],
   "source": [
    "X, Y = test[:]\n",
    "print(loss_fn(X @ coef, Y))"
   ]
  },
  {
   "cell_type": "code",
   "execution_count": null,
   "id": "b9482147-f3e5-48eb-9b8c-07e6b8d59225",
   "metadata": {},
   "outputs": [],
   "source": []
  }
 ],
 "metadata": {
  "kernelspec": {
   "display_name": "Python 3 (ipykernel)",
   "language": "python",
   "name": "python3"
  },
  "language_info": {
   "codemirror_mode": {
    "name": "ipython",
    "version": 3
   },
   "file_extension": ".py",
   "mimetype": "text/x-python",
   "name": "python",
   "nbconvert_exporter": "python",
   "pygments_lexer": "ipython3",
   "version": "3.11.6"
  }
 },
 "nbformat": 4,
 "nbformat_minor": 5
}
