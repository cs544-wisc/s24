{
 "cells": [
  {
   "cell_type": "code",
   "execution_count": null,
   "id": "46c1a7b7-e5a0-4845-9e9d-37bfb025bbc2",
   "metadata": {},
   "outputs": [],
   "source": [
    "# import statements\n",
    "import torch\n",
    "import matplotlib.pyplot as plt\n",
    "import pandas as pd"
   ]
  },
  {
   "cell_type": "code",
   "execution_count": null,
   "id": "e5779896-6fbd-4029-92ab-0f4f9ee0cdd9",
   "metadata": {},
   "outputs": [],
   "source": [
    "def f(x):\n",
    "    return (x - 1) * (x + 2) * (x - 3) * (x + 6)\n",
    "# plotting of the function\n",
    "x = torch.arange(-8, 5, 0.1)\n",
    "y = f(x)\n",
    "plt.plot(x, y)\n",
    "\n",
    "# Objective: try to find a good x value, to make y small\n",
    "x = torch.tensor(0.0, requires_grad=True)\n",
    "optimizer = torch.optim.SGD([x], lr=0.01)   # minimizes by default\n",
    "\n",
    "for epoch in range(10):\n",
    "    y = f(x)\n",
    "    plt.plot(x.detach(), y.detach(), \"ro\", markersize=3+epoch)\n",
    "    y.backward()\n",
    "    optimizer.step()\n",
    "    optimizer.zero_grad()\n",
    "x"
   ]
  },
  {
   "cell_type": "markdown",
   "id": "3d0d4078-ad6c-413d-82f2-b913f4205241",
   "metadata": {},
   "source": [
    "## Train a Model using Iris dataset"
   ]
  },
  {
   "cell_type": "code",
   "execution_count": null,
   "id": "fab81f6e-8c7f-4d69-9eb0-48ae031e94fe",
   "metadata": {},
   "outputs": [],
   "source": [
    "df = pd.read_csv(\"https://archive.ics.uci.edu/ml/machine-learning-databases/iris/iris.data\",\n",
    "                 names=[\"seplen\", \"sepwid\", \"petlen\", \"petwid\", \"variety\"])\n",
    "df.plot.scatter(x=\"petlen\", y=\"petwid\")"
   ]
  },
  {
   "cell_type": "markdown",
   "id": "317230dc-9e2d-41ee-a36c-a39dd1889e99",
   "metadata": {},
   "source": [
    "DataFrame slicing and `numpy` conversion\n",
    "\n",
    "Syntax:\n",
    "- `<dataframe>.loc[<ROW SLICE>:<COL SLICE>]`\n",
    "- `<dataframe>.values`"
   ]
  },
  {
   "cell_type": "code",
   "execution_count": null,
   "id": "9e964fd9-5969-4d48-a379-d427e5f90773",
   "metadata": {},
   "outputs": [],
   "source": []
  },
  {
   "cell_type": "code",
   "execution_count": null,
   "id": "32902181-6c28-4e84-8290-3c65fa690523",
   "metadata": {},
   "outputs": [],
   "source": [
    "# Create TensorDataset using two tensors for X values and Y values\n"
   ]
  },
  {
   "cell_type": "code",
   "execution_count": null,
   "id": "c66de03d-a253-4686-84db-855b54bc4076",
   "metadata": {},
   "outputs": [],
   "source": [
    "X, Y = ds[:5]"
   ]
  },
  {
   "cell_type": "code",
   "execution_count": null,
   "id": "08bd35c7-3e72-4551-8897-84739f2badcb",
   "metadata": {},
   "outputs": [],
   "source": [
    "X"
   ]
  },
  {
   "cell_type": "code",
   "execution_count": null,
   "id": "3051c540-e3ac-46a4-a3f1-15113bb3b0bb",
   "metadata": {},
   "outputs": [],
   "source": [
    "Y"
   ]
  },
  {
   "cell_type": "code",
   "execution_count": null,
   "id": "db674a7f-0220-4501-a159-30ed93928d59",
   "metadata": {},
   "outputs": [],
   "source": [
    "# Spit train and test using 75%-25% split\n"
   ]
  },
  {
   "cell_type": "code",
   "execution_count": null,
   "id": "927c9fae-078f-4a45-b87a-c2b71af4af51",
   "metadata": {},
   "outputs": [],
   "source": [
    "batchX, batchY = train[0:5]\n",
    "batchX"
   ]
  },
  {
   "cell_type": "code",
   "execution_count": null,
   "id": "1c08e7d7-9b2d-44ea-91e1-5cf7662f1640",
   "metadata": {},
   "outputs": [],
   "source": [
    "batchY"
   ]
  },
  {
   "cell_type": "code",
   "execution_count": null,
   "id": "97d15b7a-dac2-4f38-b192-caffdb24c8e8",
   "metadata": {},
   "outputs": [],
   "source": [
    "# DataLoader - creates batches while handling shuffling\n"
   ]
  },
  {
   "cell_type": "code",
   "execution_count": null,
   "id": "0447391e-998c-4134-99f4-bcf0865e8df8",
   "metadata": {},
   "outputs": [],
   "source": [
    "# Let's print just the first batch\n",
    "for batchX, batchY in dl:\n",
    "    print(X)\n",
    "    print(y)\n",
    "    break"
   ]
  },
  {
   "cell_type": "code",
   "execution_count": null,
   "id": "978b31d0-5987-4d44-8b44-a3392d4d31d1",
   "metadata": {},
   "outputs": [],
   "source": [
    "# X's shape\n"
   ]
  },
  {
   "cell_type": "code",
   "execution_count": null,
   "id": "ad947b06-334a-42cb-99db-be2e86938bd5",
   "metadata": {},
   "outputs": [],
   "source": [
    "# Y's shape\n"
   ]
  },
  {
   "cell_type": "markdown",
   "id": "50f20f9a-dddf-493a-a554-8cc0c5508537",
   "metadata": {},
   "source": [
    "Let's initialize our co-efficients tensor using zero values. What should the shape be?"
   ]
  },
  {
   "cell_type": "code",
   "execution_count": null,
   "id": "d8c2eb4e-39e2-44df-a9d1-718eeab83314",
   "metadata": {},
   "outputs": [],
   "source": [
    "coef = \n",
    "coef"
   ]
  },
  {
   "cell_type": "markdown",
   "id": "e3456d20-22fe-4de4-9d54-097569fba0d4",
   "metadata": {},
   "source": [
    "Let's apply matrix multiplication for making our initial predictions."
   ]
  },
  {
   "cell_type": "code",
   "execution_count": null,
   "id": "f9634964-06fe-4baf-b2b5-9bd0d0826db7",
   "metadata": {},
   "outputs": [],
   "source": [
    "# we need double precision float\n",
    "predictions = \n",
    "predictions"
   ]
  },
  {
   "cell_type": "markdown",
   "id": "0674c17d-fbf1-4f76-b516-80b5a45c659e",
   "metadata": {},
   "source": [
    "#### Loss function - MSELoss"
   ]
  },
  {
   "cell_type": "code",
   "execution_count": null,
   "id": "8b9a0387-d91a-4223-ba3e-2c80d0dbfc31",
   "metadata": {},
   "outputs": [],
   "source": [
    "coef = torch.zeros((3, 1), dtype=torch.float64)\n",
    "\n",
    "predictions = batchX @ coef\n"
   ]
  },
  {
   "cell_type": "markdown",
   "id": "449e7a31-0044-4c1d-ae46-8866bd6da378",
   "metadata": {},
   "source": [
    "Final step - check MSE using test dataset"
   ]
  },
  {
   "cell_type": "code",
   "execution_count": null,
   "id": "fb174814-fc2e-472b-b1b7-da04d54c6ff9",
   "metadata": {},
   "outputs": [],
   "source": [
    "X, Y = test[:]\n",
    "print(loss_fn(X @ coef, Y))"
   ]
  }
 ],
 "metadata": {
  "kernelspec": {
   "display_name": "Python 3 (ipykernel)",
   "language": "python",
   "name": "python3"
  },
  "language_info": {
   "codemirror_mode": {
    "name": "ipython",
    "version": 3
   },
   "file_extension": ".py",
   "mimetype": "text/x-python",
   "name": "python",
   "nbconvert_exporter": "python",
   "pygments_lexer": "ipython3",
   "version": "3.11.6"
  }
 },
 "nbformat": 4,
 "nbformat_minor": 5
}
