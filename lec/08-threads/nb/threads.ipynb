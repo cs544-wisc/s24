{
 "cells": [
  {
   "cell_type": "code",
   "execution_count": null,
   "id": "2f7779d3-9ff0-4e1e-8e5d-2b22c7cf1a09",
   "metadata": {},
   "outputs": [],
   "source": [
    "import threading"
   ]
  },
  {
   "cell_type": "code",
   "execution_count": null,
   "id": "712f0af0-d480-47e9-9176-65f5f9ddf2a4",
   "metadata": {},
   "outputs": [],
   "source": [
    "def task():\n",
    "    print(\"hello world, from thread\", threading.get_native_id())\n",
    "\n",
    "t = threading.Thread(target=task)\n",
    "t.start()\n",
    "print(\"hello from the main thread,\", threading.get_native_id())"
   ]
  },
  {
   "cell_type": "markdown",
   "id": "126838af-7f39-4f09-9dc6-30d0fd91934c",
   "metadata": {},
   "source": [
    "### Race condition\n",
    "\n",
    "- race between adding and printing threads\n",
    "- who gets further first determines whether the result is correct => we should only run the print thread after running the add thread"
   ]
  },
  {
   "cell_type": "code",
   "execution_count": null,
   "id": "e92ca174-f6cf-454c-815f-2615077e18e0",
   "metadata": {},
   "outputs": [],
   "source": [
    "total = 0\n",
    "\n",
    "def add(count):\n",
    "    global total\n",
    "    for i in range(count):\n",
    "        total += i\n",
    "\n",
    "t = threading.Thread(target=add, args=[1_000_000])\n",
    "t.start()\n",
    "print(total)"
   ]
  },
  {
   "cell_type": "code",
   "execution_count": null,
   "id": "e50da9c6-b5d7-4d38-b9b3-6283dd47890f",
   "metadata": {},
   "outputs": [],
   "source": [
    "total = 0\n",
    "\n",
    "def add(count):\n",
    "    global total\n",
    "    for i in range(count):\n",
    "        total += i\n",
    "\n",
    "t = threading.Thread(target=add, args=[1_000_000])\n",
    "t.start()\n",
    "t.join()    # wait for t to finish\n",
    "print(total)"
   ]
  },
  {
   "cell_type": "code",
   "execution_count": null,
   "id": "3a14b2ff-41dd-4156-839a-39c054565d23",
   "metadata": {},
   "outputs": [],
   "source": []
  }
 ],
 "metadata": {
  "kernelspec": {
   "display_name": "Python 3 (ipykernel)",
   "language": "python",
   "name": "python3"
  },
  "language_info": {
   "codemirror_mode": {
    "name": "ipython",
    "version": 3
   },
   "file_extension": ".py",
   "mimetype": "text/x-python",
   "name": "python",
   "nbconvert_exporter": "python",
   "pygments_lexer": "ipython3",
   "version": "3.11.6"
  }
 },
 "nbformat": 4,
 "nbformat_minor": 5
}
