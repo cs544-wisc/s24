{
 "cells": [
  {
   "cell_type": "code",
   "execution_count": null,
   "id": "2f7779d3-9ff0-4e1e-8e5d-2b22c7cf1a09",
   "metadata": {},
   "outputs": [],
   "source": [
    "import threading\n",
    "import torch\n",
    "import time\n",
    "import dis"
   ]
  },
  {
   "cell_type": "code",
   "execution_count": null,
   "id": "712f0af0-d480-47e9-9176-65f5f9ddf2a4",
   "metadata": {},
   "outputs": [],
   "source": [
    "def task():\n",
    "    print(\"hello world, from thread\", threading.get_native_id())\n",
    "\n",
    "t = threading.Thread(target=task)\n",
    "t.start()\n",
    "print(\"hello from the main thread,\", threading.get_native_id())"
   ]
  },
  {
   "cell_type": "markdown",
   "id": "126838af-7f39-4f09-9dc6-30d0fd91934c",
   "metadata": {},
   "source": [
    "### Race condition\n",
    "\n",
    "- race between adding and printing threads\n",
    "- who gets further first determines whether the result is correct => we should only run the print thread after running the add thread"
   ]
  },
  {
   "cell_type": "code",
   "execution_count": null,
   "id": "e92ca174-f6cf-454c-815f-2615077e18e0",
   "metadata": {},
   "outputs": [],
   "source": [
    "total = 0\n",
    "\n",
    "def add(count):\n",
    "    global total\n",
    "    for i in range(count):\n",
    "        total += i\n",
    "\n",
    "t = threading.Thread(target=add, args=[1_000_000])\n",
    "t.start()\n",
    "print(total)"
   ]
  },
  {
   "cell_type": "code",
   "execution_count": null,
   "id": "e50da9c6-b5d7-4d38-b9b3-6283dd47890f",
   "metadata": {},
   "outputs": [],
   "source": [
    "total = 0\n",
    "\n",
    "def add(count):\n",
    "    global total\n",
    "    for i in range(count):\n",
    "        total += i\n",
    "\n",
    "t = threading.Thread(target=add, args=[1_000_000])\n",
    "t.start()\n",
    "t.join()    # wait for t to finish\n",
    "print(total)"
   ]
  },
  {
   "cell_type": "markdown",
   "id": "84abe017-9351-4e94-8471-4128bfcd4992",
   "metadata": {},
   "source": [
    "### Fine-grained locking\n",
    "- only hold the lock for a small piece of work"
   ]
  },
  {
   "cell_type": "code",
   "execution_count": null,
   "id": "b15348cd-646a-404d-a228-493e05f3247f",
   "metadata": {},
   "outputs": [],
   "source": [
    "lock = threading.Lock()\n",
    "total = torch.tensor(0, dtype=torch.int32)\n",
    "\n",
    "def inc(count):\n",
    "    global total\n",
    "    for i in range(count):\n",
    "        lock.acquire()\n",
    "        total += 1\n",
    "        lock.release()\n",
    "\n",
    "# inc(1000)\n",
    "t1 = threading.Thread(target=inc, args=[1_000_000])\n",
    "t2 = threading.Thread(target=inc, args=[1_000_000])\n",
    "\n",
    "start = time.time()\n",
    "t1.start()\n",
    "t2.start()\n",
    "t1.join()\n",
    "t2.join()\n",
    "end = time.time()\n",
    "print(end-start, \"seconds\")\n",
    "total"
   ]
  },
  {
   "cell_type": "markdown",
   "id": "7a0c288d-8bdf-4234-bf73-63efa3c77fcb",
   "metadata": {},
   "source": [
    "### coarse-grained locking\n",
    "- don't release lock if you are going to immediately ask for the lock again"
   ]
  },
  {
   "cell_type": "code",
   "execution_count": null,
   "id": "dadc1e6d-b864-44fb-a509-99554d7116e1",
   "metadata": {},
   "outputs": [],
   "source": [
    "lock = threading.Lock()\n",
    "total = torch.tensor(0, dtype=torch.int32)\n",
    "\n",
    "def inc(count):\n",
    "    global total\n",
    "    lock.acquire()\n",
    "    for i in range(count):\n",
    "        total += 1\n",
    "    lock.release()\n",
    "\n",
    "t1 = threading.Thread(target=inc, args=[1_000_000])\n",
    "t2 = threading.Thread(target=inc, args=[1_000_000])\n",
    "\n",
    "start = time.time()\n",
    "t1.start()\n",
    "t2.start()\n",
    "t1.join()\n",
    "t2.join()\n",
    "end = time.time()\n",
    "print(end-start, \"seconds\")\n",
    "total"
   ]
  },
  {
   "cell_type": "markdown",
   "id": "2ce72ed7-91fd-4612-8969-345c56206082",
   "metadata": {},
   "source": [
    "### Bank account example"
   ]
  },
  {
   "cell_type": "code",
   "execution_count": null,
   "id": "b83f88ab-276a-4646-8dfe-75a414b24f96",
   "metadata": {},
   "outputs": [],
   "source": [
    "bank_accounts = {\"x\": 25, \"y\": 100, \"z\": 200} # in dollars\n",
    "lock = threading.Lock() # protects bank_accounts\n",
    "\n",
    "def transfer(src, dst, amount):\n",
    "    lock.acquire()\n",
    "    success = False\n",
    "    if bank_accounts[src] >= amount:\n",
    "        bank_accounts[src] -= amount\n",
    "        bank_accounts[dst] += amount\n",
    "        success = True\n",
    "    print(\"transferred\" if success else \"denied\")\n",
    "    lock.release()"
   ]
  },
  {
   "cell_type": "code",
   "execution_count": null,
   "id": "c877393b-cb69-45a9-bb54-d591cf878154",
   "metadata": {},
   "outputs": [],
   "source": [
    "transfer(\"x\", \"y\", 20)"
   ]
  },
  {
   "cell_type": "code",
   "execution_count": null,
   "id": "b6ee3666-0105-49d8-b35d-c98b9274dd62",
   "metadata": {},
   "outputs": [],
   "source": [
    "transfer(\"x\", \"z\", 10)"
   ]
  },
  {
   "cell_type": "code",
   "execution_count": null,
   "id": "6f7a5380-e7fc-4fff-bf0e-2ad0c1ab3108",
   "metadata": {},
   "outputs": [],
   "source": [
    "transfer(\"w\", \"x\", 50)"
   ]
  },
  {
   "cell_type": "markdown",
   "id": "3c4a8e18-b008-4db2-b9c4-eb81767f9d0e",
   "metadata": {},
   "source": [
    "What's wrong now?"
   ]
  },
  {
   "cell_type": "code",
   "execution_count": null,
   "id": "f5b82a57-5c35-418f-a13a-9d6dbbd588ab",
   "metadata": {},
   "outputs": [],
   "source": [
    "bank_accounts = {\"x\": 25, \"y\": 100, \"z\": 200} # in dollars\n",
    "lock = threading.Lock() # protects bank_accounts\n",
    "\n",
    "def transfer(src, dst, amount):\n",
    "    with lock:\n",
    "        #lock.acquire()\n",
    "        success = False\n",
    "        if bank_accounts[src] >= amount:\n",
    "            bank_accounts[src] -= amount\n",
    "            bank_accounts[dst] += amount\n",
    "            success = True\n",
    "        print(\"transferred\" if success else \"denied\")\n",
    "        # lock.release()    with statement calls automatically, even with exceptions"
   ]
  },
  {
   "cell_type": "code",
   "execution_count": null,
   "id": "07382c71-2773-4777-b1da-3bb5b0be30cf",
   "metadata": {},
   "outputs": [],
   "source": [
    "transfer(\"z\", \"x\", 50)"
   ]
  }
 ],
 "metadata": {
  "kernelspec": {
   "display_name": "Python 3 (ipykernel)",
   "language": "python",
   "name": "python3"
  },
  "language_info": {
   "codemirror_mode": {
    "name": "ipython",
    "version": 3
   },
   "file_extension": ".py",
   "mimetype": "text/x-python",
   "name": "python",
   "nbconvert_exporter": "python",
   "pygments_lexer": "ipython3",
   "version": "3.11.6"
  }
 },
 "nbformat": 4,
 "nbformat_minor": 5
}
