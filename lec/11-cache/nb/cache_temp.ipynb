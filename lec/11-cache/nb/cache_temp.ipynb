{
 "cells": [
  {
   "cell_type": "markdown",
   "id": "dd6a3b72-ed6e-4012-9874-03ae71ab557e",
   "metadata": {},
   "source": [
    "# Caching policies"
   ]
  },
  {
   "cell_type": "code",
   "execution_count": 1,
   "id": "c17304ae-d789-47d4-b8e4-29e03b73298f",
   "metadata": {},
   "outputs": [],
   "source": [
    "import random\n",
    "import requests\n",
    "import pandas as pd\n",
    "import time"
   ]
  },
  {
   "cell_type": "code",
   "execution_count": 2,
   "id": "4afdf0dc-3dd0-418d-ad76-60e7e7189c9c",
   "metadata": {},
   "outputs": [],
   "source": [
    "r = requests.get(\"https://ms.sites.cs.wisc.edu/cs544/data/wi-stations/stations.txt\")\n",
    "r.raise_for_status()\n",
    "stations = r.text.strip().split(\"\\n\")\n",
    "stations = random.sample(stations, k=10) # 10 random stations\n",
    "workload = random.choices(stations, k=100, weights=[0.3, 0.2] + [0.5/8]*8) # repeats"
   ]
  },
  {
   "cell_type": "code",
   "execution_count": 3,
   "id": "257831fc-da5c-4320-9921-bf3846c6b0b9",
   "metadata": {},
   "outputs": [
    {
     "data": {
      "text/plain": [
       "['US1WIPK0024',\n",
       " 'US1WIWK0065',\n",
       " 'US1WIBR0041',\n",
       " 'US1WIWS0006',\n",
       " 'USC00474523',\n",
       " 'USW00014897',\n",
       " 'US1WIBT0025',\n",
       " 'US1WIBN0018',\n",
       " 'US1WIWB0017',\n",
       " 'USC00472413']"
      ]
     },
     "execution_count": 3,
     "metadata": {},
     "output_type": "execute_result"
    }
   ],
   "source": [
    "stations"
   ]
  },
  {
   "cell_type": "code",
   "execution_count": 4,
   "id": "fe9c420c-c0fb-40d7-9823-a816f39782fa",
   "metadata": {},
   "outputs": [
    {
     "data": {
      "text/plain": [
       "['US1WIWK0065',\n",
       " 'US1WIWB0017',\n",
       " 'US1WIBT0025',\n",
       " 'US1WIBR0041',\n",
       " 'US1WIPK0024',\n",
       " 'US1WIPK0024',\n",
       " 'USC00472413',\n",
       " 'US1WIWK0065',\n",
       " 'US1WIPK0024',\n",
       " 'US1WIBR0041']"
      ]
     },
     "execution_count": 4,
     "metadata": {},
     "output_type": "execute_result"
    }
   ],
   "source": [
    "workload[:10]"
   ]
  },
  {
   "cell_type": "code",
   "execution_count": 6,
   "id": "2fa5e880-efbc-44c2-b97f-fca9c8482000",
   "metadata": {},
   "outputs": [
    {
     "data": {
      "text/html": [
       "<div>\n",
       "<style scoped>\n",
       "    .dataframe tbody tr th:only-of-type {\n",
       "        vertical-align: middle;\n",
       "    }\n",
       "\n",
       "    .dataframe tbody tr th {\n",
       "        vertical-align: top;\n",
       "    }\n",
       "\n",
       "    .dataframe thead th {\n",
       "        text-align: right;\n",
       "    }\n",
       "</style>\n",
       "<table border=\"1\" class=\"dataframe\">\n",
       "  <thead>\n",
       "    <tr style=\"text-align: right;\">\n",
       "      <th></th>\n",
       "      <th>station</th>\n",
       "      <th>date</th>\n",
       "      <th>element</th>\n",
       "      <th>value</th>\n",
       "      <th>m</th>\n",
       "      <th>q</th>\n",
       "      <th>s</th>\n",
       "      <th>obs</th>\n",
       "    </tr>\n",
       "  </thead>\n",
       "  <tbody>\n",
       "    <tr>\n",
       "      <th>0</th>\n",
       "      <td>USC00478267</td>\n",
       "      <td>19050301</td>\n",
       "      <td>PRCP</td>\n",
       "      <td>0</td>\n",
       "      <td>NaN</td>\n",
       "      <td>NaN</td>\n",
       "      <td>0</td>\n",
       "      <td>NaN</td>\n",
       "    </tr>\n",
       "    <tr>\n",
       "      <th>1</th>\n",
       "      <td>USC00478267</td>\n",
       "      <td>19050302</td>\n",
       "      <td>PRCP</td>\n",
       "      <td>0</td>\n",
       "      <td>NaN</td>\n",
       "      <td>NaN</td>\n",
       "      <td>0</td>\n",
       "      <td>NaN</td>\n",
       "    </tr>\n",
       "    <tr>\n",
       "      <th>2</th>\n",
       "      <td>USC00478267</td>\n",
       "      <td>19050303</td>\n",
       "      <td>PRCP</td>\n",
       "      <td>0</td>\n",
       "      <td>T</td>\n",
       "      <td>NaN</td>\n",
       "      <td>0</td>\n",
       "      <td>NaN</td>\n",
       "    </tr>\n",
       "  </tbody>\n",
       "</table>\n",
       "</div>"
      ],
      "text/plain": [
       "       station      date element  value    m    q  s  obs\n",
       "0  USC00478267  19050301    PRCP      0  NaN  NaN  0  NaN\n",
       "1  USC00478267  19050302    PRCP      0  NaN  NaN  0  NaN\n",
       "2  USC00478267  19050303    PRCP      0    T  NaN  0  NaN"
      ]
     },
     "execution_count": 6,
     "metadata": {},
     "output_type": "execute_result"
    }
   ],
   "source": [
    "station = 'USC00478267'\n",
    "df = pd.read_csv(f\"https://ms.sites.cs.wisc.edu/cs544/data/wi-stations/{station}.csv.gz\",\n",
    "                         names=[\"station\", \"date\", \"element\", \"value\", \"m\", \"q\", \"s\", \"obs\"], low_memory=False)\n",
    "df.head(3)"
   ]
  },
  {
   "cell_type": "markdown",
   "id": "9c70c141-fd60-47cf-9d25-e4f85bdf4b3c",
   "metadata": {},
   "source": [
    "## FIFO"
   ]
  },
  {
   "cell_type": "code",
   "execution_count": null,
   "id": "ac78fdb6-45c3-4af6-836b-87be14f94ca4",
   "metadata": {},
   "outputs": [],
   "source": []
  },
  {
   "cell_type": "code",
   "execution_count": null,
   "id": "24b35cc3-8113-4bd0-8cef-556e2ac17419",
   "metadata": {},
   "outputs": [],
   "source": []
  },
  {
   "cell_type": "code",
   "execution_count": null,
   "id": "53f93761-5a2a-4089-9ab4-baf7da70b3c8",
   "metadata": {},
   "outputs": [],
   "source": []
  },
  {
   "cell_type": "markdown",
   "id": "901e7691-928a-4094-9538-56f94bc2beb7",
   "metadata": {},
   "source": [
    "## LRU"
   ]
  },
  {
   "cell_type": "code",
   "execution_count": null,
   "id": "f6dfbc98-500b-4797-bc00-52ed8ea4ec60",
   "metadata": {},
   "outputs": [],
   "source": []
  },
  {
   "cell_type": "code",
   "execution_count": null,
   "id": "511d40dd-236f-4381-bf61-f1cc1c903825",
   "metadata": {},
   "outputs": [],
   "source": []
  },
  {
   "cell_type": "code",
   "execution_count": null,
   "id": "5bbfa0bb-2a17-409b-83ed-1a3b24f4ee3b",
   "metadata": {},
   "outputs": [],
   "source": []
  }
 ],
 "metadata": {
  "kernelspec": {
   "display_name": "Python 3 (ipykernel)",
   "language": "python",
   "name": "python3"
  },
  "language_info": {
   "codemirror_mode": {
    "name": "ipython",
    "version": 3
   },
   "file_extension": ".py",
   "mimetype": "text/x-python",
   "name": "python",
   "nbconvert_exporter": "python",
   "pygments_lexer": "ipython3",
   "version": "3.11.6"
  }
 },
 "nbformat": 4,
 "nbformat_minor": 5
}
