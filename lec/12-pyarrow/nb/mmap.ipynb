{
 "cells": [
  {
   "cell_type": "markdown",
   "id": "94e3156d-71df-44ef-b6c2-95f81a940260",
   "metadata": {},
   "source": [
    "## Setup\n",
    "\n",
    "1. Build docker using <br>`docker build . -t pyarrow`\n",
    "2. Run container with memory restrictions using `-m option`:<br>\n",
    "   `docker run -d -p 127.0.0.1:5440:5440 -v ./nb:/nb -m 512m pyarrow`"
   ]
  },
  {
   "cell_type": "code",
   "execution_count": null,
   "id": "5ec4f2a6-4103-4a59-b922-8b7ed2e164e3",
   "metadata": {},
   "outputs": [],
   "source": [
    "import pyarrow as pa"
   ]
  },
  {
   "cell_type": "code",
   "execution_count": null,
   "id": "265d6862-e745-4a8a-b886-d171fdb3db0b",
   "metadata": {},
   "outputs": [],
   "source": [
    "batch = pa.RecordBatch.from_arrays([range(1,1_000_000),\n",
    "                                    range(1,1_000_000),\n",
    "                                    range(1,1_000_000)],\n",
    "                                   names=[\"x\", \"y\", \"z\"])\n",
    "batch.nbytes / 1024**2"
   ]
  },
  {
   "cell_type": "code",
   "execution_count": null,
   "id": "56950ea4-49c7-44a0-9a0c-404ba2bbb7c0",
   "metadata": {},
   "outputs": [],
   "source": [
    "with pa.ipc.new_file(\"test.arrow\", schema=batch.schema) as f:\n",
    "    for i in range(50):\n",
    "        f.write_batch(batch)"
   ]
  },
  {
   "cell_type": "code",
   "execution_count": null,
   "id": "ad8d4550-32a5-45cb-a464-cb3cf44ca252",
   "metadata": {},
   "outputs": [],
   "source": [
    "!ls -lah"
   ]
  },
  {
   "cell_type": "code",
   "execution_count": null,
   "id": "8c4dce71-95b4-4e76-84b0-8ed554b8086e",
   "metadata": {},
   "outputs": [],
   "source": [
    "# not enough memory!\n",
    "with pa.ipc.open_file(\"test.arrow\") as f:\n",
    "    tbl = f.read_all()"
   ]
  },
  {
   "cell_type": "code",
   "execution_count": null,
   "id": "aefdb66f-7152-4fb9-8d7d-934434617220",
   "metadata": {},
   "outputs": [],
   "source": [
    "import pyarrow as pa\n",
    "import mmap"
   ]
  },
  {
   "cell_type": "markdown",
   "id": "94bf0639-1343-4de8-829c-b48a135fca76",
   "metadata": {},
   "source": [
    "### File backed mmap"
   ]
  },
  {
   "cell_type": "code",
   "execution_count": null,
   "id": "3748f902-157e-4314-b91b-6f34f1aac949",
   "metadata": {},
   "outputs": [],
   "source": [
    "with open(\"test.arrow\", \"rb\") as f:\n",
    "    mm = mmap.mmap(f.fileno(), 0, access=mmap.ACCESS_READ)"
   ]
  },
  {
   "cell_type": "code",
   "execution_count": null,
   "id": "b9967361-2e79-4179-816f-c2ec760a1256",
   "metadata": {},
   "outputs": [],
   "source": [
    "mm[:10]"
   ]
  },
  {
   "cell_type": "markdown",
   "id": "5eb6b8b8-9bbc-4c1d-9137-ea563e10213d",
   "metadata": {},
   "source": [
    "Observe memory usage using `htop` and `docker stats` commands as you run the below cells of code."
   ]
  },
  {
   "cell_type": "code",
   "execution_count": null,
   "id": "3dbe45e2-0b1c-42f6-b860-b423110a5822",
   "metadata": {},
   "outputs": [],
   "source": [
    "with pa.ipc.open_file(mm) as f:\n",
    "    tbl = f.read_all() \n",
    "# data is still not in RAM because we haven't used it yet"
   ]
  },
  {
   "cell_type": "markdown",
   "id": "f29171bb-dbd7-4854-8a84-73c732f5fae6",
   "metadata": {},
   "source": [
    "Because of page evictions, it is now possible for us to perform computations on this dataset despite it being larger than allocated 512 MB for the `docker` container."
   ]
  },
  {
   "cell_type": "code",
   "execution_count": null,
   "id": "3e17042f-770e-43d0-94bd-0607beae0b9c",
   "metadata": {},
   "outputs": [],
   "source": [
    "import pyarrow.compute as pc\n",
    "pc.sum(tbl[\"x\"]).as_py()"
   ]
  },
  {
   "cell_type": "code",
   "execution_count": null,
   "id": "5667d90f-568d-4b62-a4b3-1f3a8815c3f1",
   "metadata": {},
   "outputs": [],
   "source": [
    "pc.sum(tbl[\"y\"])"
   ]
  },
  {
   "cell_type": "code",
   "execution_count": null,
   "id": "a7ec0b99-3dc3-4763-a1bd-4865a7962672",
   "metadata": {},
   "outputs": [],
   "source": [
    "pc.sum(tbl[\"z\"])"
   ]
  }
 ],
 "metadata": {
  "kernelspec": {
   "display_name": "Python 3 (ipykernel)",
   "language": "python",
   "name": "python3"
  },
  "language_info": {
   "codemirror_mode": {
    "name": "ipython",
    "version": 3
   },
   "file_extension": ".py",
   "mimetype": "text/x-python",
   "name": "python",
   "nbconvert_exporter": "python",
   "pygments_lexer": "ipython3",
   "version": "3.11.6"
  }
 },
 "nbformat": 4,
 "nbformat_minor": 5
}
