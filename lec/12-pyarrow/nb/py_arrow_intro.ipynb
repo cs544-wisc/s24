{
 "cells": [
  {
   "cell_type": "markdown",
   "id": "7902402a-5fb6-4605-96e9-75cb97fc4d02",
   "metadata": {},
   "source": [
    "## CAUTION: Whenever you see a cell containing `import` statements, you should stop your jupyter kernel and restart or stop the Docker container and start again\n",
    "\n",
    "You will **run out of memory** if you don't do that!"
   ]
  },
  {
   "cell_type": "code",
   "execution_count": null,
   "id": "f1814ccb-d212-4c64-a1e8-a1096aa00b41",
   "metadata": {},
   "outputs": [],
   "source": [
    "import torch\n",
    "import time"
   ]
  },
  {
   "cell_type": "markdown",
   "id": "97a5e72e-d782-4b55-844f-5cf3fd9a8396",
   "metadata": {},
   "source": [
    "## Matrix storage - contiguous rows vs contiguos columns"
   ]
  },
  {
   "cell_type": "code",
   "execution_count": null,
   "id": "041f907e-c968-43a6-8a72-ff4b6738e546",
   "metadata": {},
   "outputs": [],
   "source": [
    "A = torch.rand(10_000, 10_000)   # default is float32, so this is about 400 MB"
   ]
  },
  {
   "cell_type": "markdown",
   "id": "7f3ae257-274d-4e0f-9858-c4729de4c9fe",
   "metadata": {},
   "source": [
    "Which will be faster now: sum over rows or over columns? Rows. That is because by default the rows are stored contiguously in memory."
   ]
  },
  {
   "cell_type": "markdown",
   "id": "af1f50b0-e8b6-4ed6-8abe-af4165758353",
   "metadata": {},
   "source": [
    "Sum over columns:"
   ]
  },
  {
   "cell_type": "code",
   "execution_count": null,
   "id": "e0fb2377-fde6-4bb9-9fc2-09f8a7c7709e",
   "metadata": {},
   "outputs": [],
   "source": [
    "start = time.time()\n",
    "A.sum(dim=0)       # 0 is down, so this is summing over columns\n",
    "end = time.time()\n",
    "(end-start)*1000   # milliseconds"
   ]
  },
  {
   "cell_type": "markdown",
   "id": "957c13d2-38f1-4ea2-aaf4-148476b8b602",
   "metadata": {},
   "source": [
    "Sum over rows:"
   ]
  },
  {
   "cell_type": "code",
   "execution_count": null,
   "id": "9ed296f0-a879-4f84-af8d-4a98e077792f",
   "metadata": {},
   "outputs": [],
   "source": [
    "start = time.time()\n",
    "A.sum(dim=1)       # 1 is across, so this is summing over rows\n",
    "end = time.time()\n",
    "(end-start)*1000   # milliseconds"
   ]
  },
  {
   "cell_type": "markdown",
   "id": "223bf676-4305-4f85-9c21-9c832667807a",
   "metadata": {},
   "source": [
    "Now let's create the initial matrix as the transpose. Now summation over columns should be faster than rows.\n",
    "\n",
    "Just taking a transpose using `.T` won't be sufficient to change the data in memory! Your initial matrix object itself should be storing columns as rows."
   ]
  },
  {
   "cell_type": "code",
   "execution_count": null,
   "id": "3e036d20-35e7-48d5-a333-9264e39851f6",
   "metadata": {},
   "outputs": [],
   "source": [
    "A = torch.rand(10_000, 10_000).T   # default is float32, so this is about 400 MB"
   ]
  },
  {
   "cell_type": "markdown",
   "id": "31bc1bad-dea6-4dfa-9eb3-a30da2ba9f75",
   "metadata": {},
   "source": [
    "Sum over columns (should now be faster):"
   ]
  },
  {
   "cell_type": "code",
   "execution_count": null,
   "id": "c4922775-e0ee-46a8-b62a-d5c906a6b016",
   "metadata": {},
   "outputs": [],
   "source": [
    "start = time.time()\n",
    "A.sum(dim=0)       # 0 is down, so this is summing over columns\n",
    "end = time.time()\n",
    "(end-start)*1000   # milliseconds"
   ]
  },
  {
   "cell_type": "markdown",
   "id": "59ccab7b-b46e-41ed-99c5-1670ad033fbd",
   "metadata": {},
   "source": [
    "Sum over rows (should now be slower):"
   ]
  },
  {
   "cell_type": "code",
   "execution_count": null,
   "id": "523cac83-5cc3-4052-9e22-859ea296bae1",
   "metadata": {},
   "outputs": [],
   "source": [
    "start = time.time()\n",
    "A.sum(dim=1)       # 1 is across, so this is summing over rows\n",
    "end = time.time()\n",
    "(end-start)*1000   # milliseconds"
   ]
  },
  {
   "cell_type": "markdown",
   "id": "5dadf9c8-a4f7-4878-be05-16e25d23f866",
   "metadata": {},
   "source": [
    "## PyArrow"
   ]
  },
  {
   "cell_type": "code",
   "execution_count": null,
   "id": "d9fbb721-e75f-4a03-bd78-0f441a63e7e9",
   "metadata": {},
   "outputs": [],
   "source": [
    "!wget https://pages.cs.wisc.edu/~harter/cs544/data/hdma-wi-2021.zip"
   ]
  },
  {
   "cell_type": "code",
   "execution_count": null,
   "id": "ac531274-8628-4acb-bbe4-c3e7f67d6c68",
   "metadata": {},
   "outputs": [],
   "source": [
    "!unzip hdma-wi-2021.zip"
   ]
  },
  {
   "cell_type": "code",
   "execution_count": null,
   "id": "6316690d-f1a3-452c-adcd-c4ffd875a1b9",
   "metadata": {},
   "outputs": [],
   "source": [
    "!ls -lah"
   ]
  },
  {
   "cell_type": "code",
   "execution_count": null,
   "id": "e00f146f-5076-49ee-9716-4df4fbbaec55",
   "metadata": {},
   "outputs": [],
   "source": [
    "import time\n",
    "import pandas as pd"
   ]
  },
  {
   "cell_type": "code",
   "execution_count": null,
   "id": "fe0fcf42-e295-4061-9868-066fdd4a945c",
   "metadata": {},
   "outputs": [],
   "source": [
    "start = time.time()\n",
    "pd.read_csv(\"hdma-wi-2021.csv\")\n",
    "end = time.time()\n",
    "end-start # seconds"
   ]
  },
  {
   "cell_type": "code",
   "execution_count": null,
   "id": "a26f8eca-0e51-47e7-9119-015bf5bc2f2d",
   "metadata": {},
   "outputs": [],
   "source": [
    "import pyarrow.csv\n",
    "import time\n",
    "import pyarrow.compute as pc"
   ]
  },
  {
   "cell_type": "code",
   "execution_count": null,
   "id": "440d952f-9139-409d-bccf-92f3fa15cbd8",
   "metadata": {},
   "outputs": [],
   "source": [
    "start = time.time()\n",
    "tbl = pyarrow.csv.read_csv(\"hdma-wi-2021.csv\")\n",
    "end = time.time()"
   ]
  },
  {
   "cell_type": "code",
   "execution_count": null,
   "id": "84a70ace-b8ff-41b7-a30e-125b0a1cdb1f",
   "metadata": {},
   "outputs": [],
   "source": [
    "end-start"
   ]
  },
  {
   "cell_type": "code",
   "execution_count": null,
   "id": "9e66ce54-bc2e-4da9-9965-9ac697cd3c47",
   "metadata": {},
   "outputs": [],
   "source": [
    "start = time.time()\n",
    "df = tbl.to_pandas()\n",
    "end = time.time()\n",
    "end-start"
   ]
  },
  {
   "cell_type": "code",
   "execution_count": null,
   "id": "f2007918-18ae-49e9-ab0e-01e51ad9eb0a",
   "metadata": {},
   "outputs": [],
   "source": [
    "pc.utf8_lower(tbl[\"lei\"]).to_pandas()"
   ]
  },
  {
   "cell_type": "code",
   "execution_count": null,
   "id": "74ae1d84-1cbd-4b15-bda7-29ebb4c07aba",
   "metadata": {},
   "outputs": [],
   "source": [
    "pc.mean(tbl[\"income\"].drop_null()).as_py()"
   ]
  },
  {
   "cell_type": "code",
   "execution_count": null,
   "id": "8e556c01-2e5b-4520-9e15-c016c86f81b0",
   "metadata": {},
   "outputs": [],
   "source": [
    "tbl[:10].to_pandas()"
   ]
  }
 ],
 "metadata": {
  "kernelspec": {
   "display_name": "Python 3 (ipykernel)",
   "language": "python",
   "name": "python3"
  },
  "language_info": {
   "codemirror_mode": {
    "name": "ipython",
    "version": 3
   },
   "file_extension": ".py",
   "mimetype": "text/x-python",
   "name": "python",
   "nbconvert_exporter": "python",
   "pygments_lexer": "ipython3",
   "version": "3.11.6"
  }
 },
 "nbformat": 4,
 "nbformat_minor": 5
}
