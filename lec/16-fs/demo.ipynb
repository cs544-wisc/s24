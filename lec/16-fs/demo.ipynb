{
 "cells": [
  {
   "cell_type": "markdown",
   "id": "148c9b82-6e68-4aa9-ae27-0178667fabe7",
   "metadata": {},
   "source": [
    "### Install requirements (on your VM)\n",
    "\n",
    "- `pip3 install jupyter pytorch`\n",
    "- Launch `jupyter notebook`and make sure to establish proper ssh forwarding tunnel"
   ]
  },
  {
   "cell_type": "code",
   "execution_count": 1,
   "id": "fc6bc14b-899b-4cbb-ac30-2d7300ab6e86",
   "metadata": {},
   "outputs": [
    {
     "name": "stdout",
     "output_type": "stream",
     "text": [
      "--2024-03-01 17:20:08--  https://ms.sites.cs.wisc.edu/cs544/data/hdma-wi-2021.zip\n",
      "Resolving ms.sites.cs.wisc.edu (ms.sites.cs.wisc.edu)... 108.156.107.32, 108.156.107.107, 108.156.107.90, ...\n",
      "Connecting to ms.sites.cs.wisc.edu (ms.sites.cs.wisc.edu)|108.156.107.32|:443... connected.\n",
      "HTTP request sent, awaiting response... 200 OK\n",
      "Length: 21494278 (20M) [application/zip]\n",
      "Saving to: ‘hdma-wi-2021.zip’\n",
      "\n",
      "hdma-wi-2021.zip    100%[===================>]  20.50M  22.4MB/s    in 0.9s    \n",
      "\n",
      "2024-03-01 17:20:09 (22.4 MB/s) - ‘hdma-wi-2021.zip’ saved [21494278/21494278]\n",
      "\n"
     ]
    }
   ],
   "source": [
    "!wget https://ms.sites.cs.wisc.edu/cs544/data/hdma-wi-2021.zip"
   ]
  },
  {
   "cell_type": "code",
   "execution_count": 2,
   "id": "56137fd1-2508-4cd7-8e4b-138a46626920",
   "metadata": {},
   "outputs": [
    {
     "name": "stdout",
     "output_type": "stream",
     "text": [
      "Archive:  hdma-wi-2021.zip\n",
      "  inflating: hdma-wi-2021.csv        \n"
     ]
    }
   ],
   "source": [
    "!unzip hdma-wi-2021.zip"
   ]
  },
  {
   "cell_type": "code",
   "execution_count": 3,
   "id": "1c983824-40bd-4b30-b556-2cf827ba33ee",
   "metadata": {},
   "outputs": [],
   "source": [
    "import pyarrow as pa\n",
    "import pyarrow.parquet\n",
    "import pyarrow.csv"
   ]
  },
  {
   "cell_type": "code",
   "execution_count": 4,
   "id": "04f40fd8-0810-4c76-bd26-589e37cc9163",
   "metadata": {},
   "outputs": [
    {
     "name": "stdout",
     "output_type": "stream",
     "text": [
      "total 216M\n",
      "drwxrwxr-x  3 meenakshisyamkumar meenakshisyamkumar 4.0K Mar  1 17:20 .\n",
      "drwxrwxr-x 14 meenakshisyamkumar meenakshisyamkumar 4.0K Feb 28 18:30 ..\n",
      "drwxrwxr-x  2 meenakshisyamkumar meenakshisyamkumar 4.0K Mar  1 16:58 .ipynb_checkpoints\n",
      "-rw-rw-r--  1 meenakshisyamkumar meenakshisyamkumar 8.5K Mar  1 17:19 demo.ipynb\n",
      "-rw-rw-r--  1 meenakshisyamkumar meenakshisyamkumar  266 Feb 28 18:50 demo_commands\n",
      "-rw-rw-r--  1 meenakshisyamkumar meenakshisyamkumar  13M Mar  1 17:19 gzip_parquet\n",
      "-rw-r-----  1 meenakshisyamkumar meenakshisyamkumar 167M Nov  1  2022 hdma-wi-2021.csv\n",
      "-rw-rw-r--  1 meenakshisyamkumar meenakshisyamkumar  21M Feb 29 16:21 hdma-wi-2021.zip\n",
      "-rw-rw-r--  1 meenakshisyamkumar meenakshisyamkumar  16M Mar  1 17:19 snappy_parquet\n"
     ]
    }
   ],
   "source": [
    "!ls -lah"
   ]
  },
  {
   "cell_type": "markdown",
   "id": "203322c1-e5f5-42bc-8b38-9f0a555fc458",
   "metadata": {},
   "source": [
    "#### Built-in magic commands\n",
    "\n",
    "- begin with `%%` only work inside `jupyter notebook`\n",
    "- https://ipython.readthedocs.io/en/stable/interactive/magics.html\n",
    "- example: `%%time`: measures execution time"
   ]
  },
  {
   "cell_type": "code",
   "execution_count": 5,
   "id": "69b66d04-72a5-48b3-9eac-5096bc798da9",
   "metadata": {},
   "outputs": [
    {
     "name": "stdout",
     "output_type": "stream",
     "text": [
      "CPU times: user 2.74 s, sys: 1.99 s, total: 4.73 s\n",
      "Wall time: 2.45 s\n"
     ]
    }
   ],
   "source": [
    "%%time\n",
    "t = pa.csv.read_csv(\"hdma-wi-2021.csv\")"
   ]
  },
  {
   "cell_type": "markdown",
   "id": "116516e0-97ea-4006-83b6-c3273ea443d7",
   "metadata": {},
   "source": [
    "Let's write the data into parquet format."
   ]
  },
  {
   "cell_type": "code",
   "execution_count": 6,
   "id": "d002aa99-7863-4640-9cdf-fcc497355e6f",
   "metadata": {},
   "outputs": [],
   "source": [
    "pa.parquet.write_table(t, \"hdma-wi-2021.parquet\")"
   ]
  },
  {
   "cell_type": "markdown",
   "id": "80ff6244-9431-4a9f-bcf4-e3c12986cc0e",
   "metadata": {},
   "source": [
    "## WARNING: You will run out of memory and your VM will freeze if you try to read this data twice (csv and parquet format)\n",
    "\n",
    "- Make sure to do \"Kernal > Restart Kernel..\""
   ]
  },
  {
   "cell_type": "code",
   "execution_count": 1,
   "id": "e8600693-08dd-46bb-912b-88222aa75b4c",
   "metadata": {},
   "outputs": [],
   "source": [
    "import pyarrow as pa\n",
    "import pyarrow.parquet\n",
    "import pyarrow.csv"
   ]
  },
  {
   "cell_type": "code",
   "execution_count": 2,
   "id": "80e39d9d-9985-4336-b16f-b10af94a06fd",
   "metadata": {},
   "outputs": [
    {
     "name": "stdout",
     "output_type": "stream",
     "text": [
      "CPU times: user 788 ms, sys: 345 ms, total: 1.13 s\n",
      "Wall time: 626 ms\n"
     ]
    }
   ],
   "source": [
    "%%time\n",
    "t = pa.parquet.read_table(\"hdma-wi-2021.parquet\")"
   ]
  },
  {
   "cell_type": "markdown",
   "id": "caac28c6-884c-4588-8946-a1e21042c864",
   "metadata": {},
   "source": [
    "### Binary versus Text"
   ]
  },
  {
   "cell_type": "markdown",
   "id": "b66f2fe6-50a1-4e88-87c0-e4e16f4582a5",
   "metadata": {},
   "source": [
    "Let's try to read first 100 bytes of csv file."
   ]
  },
  {
   "cell_type": "code",
   "execution_count": 3,
   "id": "8e4f159e-fec0-4236-800e-9df3b0157c83",
   "metadata": {},
   "outputs": [
    {
     "name": "stdout",
     "output_type": "stream",
     "text": [
      "b'activity_year,lei,derived_msa-md,state_code,county_code,census_tract,conforming_loan_limit,derived_l'\n"
     ]
    }
   ],
   "source": [
    "with open(\"hdma-wi-2021.csv\", \"rb\") as f:\n",
    "    print(f.read(100))"
   ]
  },
  {
   "cell_type": "markdown",
   "id": "87a0c814-7f14-4acf-a4aa-ce199ef7f3c9",
   "metadata": {},
   "source": [
    "As opposed to csv which stores text type of data, first 100 bytes of csv file actually stores data in the form of bytes."
   ]
  },
  {
   "cell_type": "code",
   "execution_count": 4,
   "id": "a95d57c2-8536-4edf-b71d-7395f721a1e3",
   "metadata": {},
   "outputs": [
    {
     "name": "stdout",
     "output_type": "stream",
     "text": [
      "b'PAR1\\x15\\x04\\x15\\x10\\x15\\x14L\\x15\\x02\\x15\\x00\\x12\\x00\\x00\\x08\\x1c\\xe5\\x07\\x00\\x00\\x00\\x00\\x00\\x00\\x15\\x00\\x15\\x1a\\x15\\x1e,\\x15\\x8e\\xce6\\x15\\x10\\x15\\x06\\x15\\x06\\x1c\\x18\\x08\\xe5\\x07\\x00\\x00\\x00\\x00\\x00\\x00\\x18\\x08\\xe5\\x07\\x00\\x00\\x00\\x00\\x00\\x00\\x16\\x00(\\x08\\xe5\\x07\\x00\\x00\\x00\\x00\\x00\\x00\\x18\\x08\\xe5\\x07\\x00\\x00\\x00\\x00\\x00\\x00\\x00\\x00\\x00\\r0\\x04\\x00\\x00\\x00\\x8e\\xce6'\n"
     ]
    }
   ],
   "source": [
    "with open(\"hdma-wi-2021.parquet\", \"rb\") as f:\n",
    "    print(f.read(100))"
   ]
  },
  {
   "cell_type": "markdown",
   "id": "8a174dc4-017a-4e5b-b779-a7fe45140208",
   "metadata": {},
   "source": [
    "### Orientation: parquet - column orientation"
   ]
  },
  {
   "cell_type": "markdown",
   "id": "06d8f203-3691-46a9-b6a0-8a0f06d23c52",
   "metadata": {},
   "source": [
    "Let's say that we are only interested in two columns. Reading that is very fast using parquet format."
   ]
  },
  {
   "cell_type": "code",
   "execution_count": 5,
   "id": "f52e4ca9-c1b4-478c-82ad-387aee8ca857",
   "metadata": {},
   "outputs": [
    {
     "name": "stdout",
     "output_type": "stream",
     "text": [
      "CPU times: user 10.5 ms, sys: 33.9 ms, total: 44.4 ms\n",
      "Wall time: 34.8 ms\n"
     ]
    }
   ],
   "source": [
    "%%time\n",
    "t2 = pa.parquet.read_table(\"hdma-wi-2021.parquet\", columns=[\"lei\", \"census_tract\"])"
   ]
  },
  {
   "cell_type": "markdown",
   "id": "d3e6c213-756d-4c4c-86a9-e7c5ffc518c3",
   "metadata": {},
   "source": [
    "### Compression: snappy versus gzip"
   ]
  },
  {
   "cell_type": "code",
   "execution_count": 6,
   "id": "64b8ee18-0256-462d-a595-7d36007daf38",
   "metadata": {},
   "outputs": [
    {
     "name": "stdout",
     "output_type": "stream",
     "text": [
      "CPU times: user 1.44 s, sys: 39.7 ms, total: 1.48 s\n",
      "Wall time: 1.8 s\n"
     ]
    }
   ],
   "source": [
    "%%time\n",
    "pa.parquet.write_table(t, \"snappy_parquet\", compression=\"snappy\")"
   ]
  },
  {
   "cell_type": "code",
   "execution_count": 7,
   "id": "050cc969-c3c5-4ac8-a8ee-f8ed2793dcd1",
   "metadata": {},
   "outputs": [
    {
     "name": "stdout",
     "output_type": "stream",
     "text": [
      "CPU times: user 3.7 s, sys: 36.8 ms, total: 3.74 s\n",
      "Wall time: 3.95 s\n"
     ]
    }
   ],
   "source": [
    "%%time\n",
    "pa.parquet.write_table(t, \"gzip_parquet\", compression=\"gzip\")"
   ]
  },
  {
   "cell_type": "code",
   "execution_count": 8,
   "id": "be01ccef-0490-4424-84e1-4804ee241552",
   "metadata": {},
   "outputs": [
    {
     "name": "stdout",
     "output_type": "stream",
     "text": [
      "total 232M\n",
      "drwxrwxr-x  3 meenakshisyamkumar meenakshisyamkumar 4.0K Mar  1 17:20 .\n",
      "drwxrwxr-x 14 meenakshisyamkumar meenakshisyamkumar 4.0K Feb 28 18:30 ..\n",
      "drwxrwxr-x  2 meenakshisyamkumar meenakshisyamkumar 4.0K Mar  1 16:58 .ipynb_checkpoints\n",
      "-rw-rw-r--  1 meenakshisyamkumar meenakshisyamkumar 8.0K Mar  1 17:20 demo.ipynb\n",
      "-rw-rw-r--  1 meenakshisyamkumar meenakshisyamkumar  266 Feb 28 18:50 demo_commands\n",
      "-rw-rw-r--  1 meenakshisyamkumar meenakshisyamkumar  13M Mar  1 17:22 gzip_parquet\n",
      "-rw-r-----  1 meenakshisyamkumar meenakshisyamkumar 167M Nov  1  2022 hdma-wi-2021.csv\n",
      "-rw-rw-r--  1 meenakshisyamkumar meenakshisyamkumar  16M Mar  1 17:20 hdma-wi-2021.parquet\n",
      "-rw-rw-r--  1 meenakshisyamkumar meenakshisyamkumar  21M Feb 29 16:21 hdma-wi-2021.zip\n",
      "-rw-rw-r--  1 meenakshisyamkumar meenakshisyamkumar  16M Mar  1 17:21 snappy_parquet\n"
     ]
    }
   ],
   "source": [
    "!ls -lah"
   ]
  },
  {
   "cell_type": "code",
   "execution_count": null,
   "id": "978f3b7a-bf7e-41e7-b900-0799fc8207dd",
   "metadata": {},
   "outputs": [],
   "source": []
  }
 ],
 "metadata": {
  "kernelspec": {
   "display_name": "Python 3 (ipykernel)",
   "language": "python",
   "name": "python3"
  },
  "language_info": {
   "codemirror_mode": {
    "name": "ipython",
    "version": 3
   },
   "file_extension": ".py",
   "mimetype": "text/x-python",
   "name": "python",
   "nbconvert_exporter": "python",
   "pygments_lexer": "ipython3",
   "version": "3.10.12"
  }
 },
 "nbformat": 4,
 "nbformat_minor": 5
}
