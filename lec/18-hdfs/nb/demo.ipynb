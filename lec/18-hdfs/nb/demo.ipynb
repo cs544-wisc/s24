{
 "cells": [
  {
   "cell_type": "code",
   "execution_count": 1,
   "id": "6cba6604-bc22-4e8f-a9be-acc807bb481a",
   "metadata": {},
   "outputs": [
    {
     "name": "stdout",
     "output_type": "stream",
     "text": [
      "Configured Capacity: 25821052928 (24.05 GB)\n",
      "Present Capacity: 7758893056 (7.23 GB)\n",
      "DFS Remaining: 7758864384 (7.23 GB)\n",
      "DFS Used: 28672 (28 KB)\n",
      "DFS Used%: 0.00%\n",
      "Replicated Blocks:\n",
      "\tUnder replicated blocks: 0\n",
      "\tBlocks with corrupt replicas: 0\n",
      "\tMissing blocks: 0\n",
      "\tMissing blocks (with replication factor 1): 0\n",
      "\tLow redundancy blocks with highest priority to recover: 0\n",
      "\tPending deletion blocks: 0\n",
      "Erasure Coded Block Groups: \n",
      "\tLow redundancy block groups: 0\n",
      "\tBlock groups with corrupt internal blocks: 0\n",
      "\tMissing block groups: 0\n",
      "\tLow redundancy blocks with highest priority to recover: 0\n",
      "\tPending deletion blocks: 0\n",
      "\n",
      "-------------------------------------------------\n",
      "Live datanodes (1):\n",
      "\n",
      "Name: 192.168.144.2:9866 (2-hdfs-1.2_default)\n",
      "Hostname: main\n",
      "Decommission Status : Normal\n",
      "Configured Capacity: 25821052928 (24.05 GB)\n",
      "DFS Used: 28672 (28 KB)\n",
      "Non DFS Used: 18045382656 (16.81 GB)\n",
      "DFS Remaining: 7758864384 (7.23 GB)\n",
      "DFS Used%: 0.00%\n",
      "DFS Remaining%: 30.05%\n",
      "Configured Cache Capacity: 0 (0 B)\n",
      "Cache Used: 0 (0 B)\n",
      "Cache Remaining: 0 (0 B)\n",
      "Cache Used%: 100.00%\n",
      "Cache Remaining%: 0.00%\n",
      "Xceivers: 0\n",
      "Last contact: Wed Oct 18 18:17:36 GMT 2023\n",
      "Last Block Report: Wed Oct 18 17:58:12 GMT 2023\n",
      "Num of Blocks: 0\n",
      "\n",
      "\n"
     ]
    }
   ],
   "source": [
    "#q1\n",
    "!hdfs dfsadmin -fs hdfs://main:9000 -report"
   ]
  },
  {
   "cell_type": "code",
   "execution_count": 5,
   "id": "fd2c9380-2fcc-4684-be99-cd9be4558dcb",
   "metadata": {},
   "outputs": [],
   "source": [
    "!hdfs dfs -mkdir hdfs://main:9000/data"
   ]
  },
  {
   "cell_type": "code",
   "execution_count": 10,
   "id": "ca4e291b-004a-458e-911b-fc35a21ad471",
   "metadata": {},
   "outputs": [],
   "source": [
    "#!cat /hadoop-3.3.6/LICENSE.txt"
   ]
  },
  {
   "cell_type": "code",
   "execution_count": 11,
   "id": "592dbc2e-9b70-452b-82cf-2118d61b22bc",
   "metadata": {},
   "outputs": [],
   "source": [
    "!hdfs dfs -cp /hadoop-3.3.6/LICENSE.txt hdfs://main:9000/data/"
   ]
  },
  {
   "cell_type": "code",
   "execution_count": 13,
   "id": "86253d25-677c-4504-950b-18f28edf1d3e",
   "metadata": {},
   "outputs": [
    {
     "name": "stdout",
     "output_type": "stream",
     "text": [
      "Found 1 items\n",
      "-rw-r--r--   3 root supergroup      15217 2023-10-18 18:24 hdfs://main:9000/data/LICENSE.txt\n"
     ]
    }
   ],
   "source": [
    "!hdfs dfs -ls hdfs://main:9000/data/"
   ]
  },
  {
   "cell_type": "code",
   "execution_count": 14,
   "id": "b4138713-c65b-4f4a-8851-20d34c5eb66c",
   "metadata": {},
   "outputs": [
    {
     "name": "stdout",
     "output_type": "stream",
     "text": [
      "15217  45651  hdfs://main:9000/data/LICENSE.txt\n"
     ]
    }
   ],
   "source": [
    "!hdfs dfs -du hdfs://main:9000/data/"
   ]
  },
  {
   "cell_type": "code",
   "execution_count": 15,
   "id": "80dde4e0-b44a-4354-807c-8b514247a758",
   "metadata": {},
   "outputs": [
    {
     "data": {
      "text/plain": [
       "3.0"
      ]
     },
     "execution_count": 15,
     "metadata": {},
     "output_type": "execute_result"
    }
   ],
   "source": [
    "45651 / 15217"
   ]
  },
  {
   "cell_type": "code",
   "execution_count": 17,
   "id": "a9b0134c-bb6d-4bec-9e4f-1935ac78a52f",
   "metadata": {},
   "outputs": [],
   "source": [
    "#!hdfs dfs -cat hdfs://main:9000/data/LICENSE.txt"
   ]
  },
  {
   "cell_type": "code",
   "execution_count": 18,
   "id": "bdb067e8-d000-42bb-8df9-96a67b91c34d",
   "metadata": {},
   "outputs": [
    {
     "name": "stdout",
     "output_type": "stream",
     "text": [
      "Connecting to namenode via http://main:9870/fsck?ugi=root&path=%2Fdata%2FLICENSE.txt\n",
      "FSCK started by root (auth:SIMPLE) from /192.168.144.3 for path /data/LICENSE.txt at Wed Oct 18 18:27:27 GMT 2023\n",
      "\n",
      "\n",
      "/data/LICENSE.txt:  Under replicated BP-12959555-192.168.144.2-1697651860318:blk_1073741825_1001. Target Replicas is 3 but found 1 live replica(s), 0 decommissioned replica(s), 0 decommissioning replica(s).\n",
      "\n",
      "Status: HEALTHY\n",
      " Number of data-nodes:\t1\n",
      " Number of racks:\t\t1\n",
      " Total dirs:\t\t\t0\n",
      " Total symlinks:\t\t0\n",
      "\n",
      "Replicated Blocks:\n",
      " Total size:\t15217 B\n",
      " Total files:\t1\n",
      " Total blocks (validated):\t1 (avg. block size 15217 B)\n",
      " Minimally replicated blocks:\t1 (100.0 %)\n",
      " Over-replicated blocks:\t0 (0.0 %)\n",
      " Under-replicated blocks:\t1 (100.0 %)\n",
      " Mis-replicated blocks:\t\t0 (0.0 %)\n",
      " Default replication factor:\t3\n",
      " Average block replication:\t1.0\n",
      " Missing blocks:\t\t0\n",
      " Corrupt blocks:\t\t0\n",
      " Missing replicas:\t\t2 (66.666664 %)\n",
      " Blocks queued for replication:\t0\n",
      "\n",
      "Erasure Coded Block Groups:\n",
      " Total size:\t0 B\n",
      " Total files:\t0\n",
      " Total block groups (validated):\t0\n",
      " Minimally erasure-coded block groups:\t0\n",
      " Over-erasure-coded block groups:\t0\n",
      " Under-erasure-coded block groups:\t0\n",
      " Unsatisfactory placement block groups:\t0\n",
      " Average block group size:\t0.0\n",
      " Missing block groups:\t\t0\n",
      " Corrupt block groups:\t\t0\n",
      " Missing internal blocks:\t0\n",
      " Blocks queued for replication:\t0\n",
      "FSCK ended at Wed Oct 18 18:27:27 GMT 2023 in 23 milliseconds\n",
      "\n",
      "\n",
      "The filesystem under path '/data/LICENSE.txt' is HEALTHY\n"
     ]
    }
   ],
   "source": [
    "!hdfs fsck hdfs://main:9000/data/LICENSE.txt"
   ]
  },
  {
   "cell_type": "code",
   "execution_count": 23,
   "id": "54e445f9-66e3-4308-8021-5c91ba522b06",
   "metadata": {},
   "outputs": [],
   "source": [
    "!hdfs dfs -D dfs.replication=1 -cp /hadoop-3.3.6/LICENSE.txt hdfs://main:9000/data/v2.txt"
   ]
  },
  {
   "cell_type": "code",
   "execution_count": 25,
   "id": "37282a6d-7b66-47ea-a5f9-e99ca8eaa26a",
   "metadata": {},
   "outputs": [],
   "source": [
    "# !hdfs fsck hdfs://main:9000/data/v2.txt"
   ]
  },
  {
   "cell_type": "markdown",
   "id": "c497a314-be24-4f5b-b037-4153f800dc8c",
   "metadata": {},
   "source": [
    "# WebHDFS"
   ]
  },
  {
   "cell_type": "code",
   "execution_count": 27,
   "id": "990f65b2-9886-4865-bef3-56cc6023d58a",
   "metadata": {},
   "outputs": [
    {
     "name": "stdout",
     "output_type": "stream",
     "text": [
      "{\"FileStatuses\":{\"FileStatus\":[\n",
      "{\"accessTime\":1697653490462,\"blockSize\":134217728,\"childrenNum\":0,\"fileId\":16387,\"group\":\"supergroup\",\"length\":15217,\"modificationTime\":1697653491320,\"owner\":\"root\",\"pathSuffix\":\"LICENSE.txt\",\"permission\":\"644\",\"replication\":3,\"storagePolicy\":0,\"type\":\"FILE\"},\n",
      "{\"accessTime\":1697653784319,\"blockSize\":134217728,\"childrenNum\":0,\"fileId\":16389,\"group\":\"supergroup\",\"length\":15217,\"modificationTime\":1697653784506,\"owner\":\"root\",\"pathSuffix\":\"v2.txt\",\"permission\":\"644\",\"replication\":1,\"storagePolicy\":0,\"type\":\"FILE\"}\n",
      "]}}\n"
     ]
    }
   ],
   "source": [
    "# with headers\n",
    "#! curl -i  \"http://main:9870/webhdfs/v1/data?op=LISTSTATUS\"\n",
    "\n",
    "# no headers\n",
    "! curl \"http://main:9870/webhdfs/v1/data?op=LISTSTATUS\""
   ]
  },
  {
   "cell_type": "code",
   "execution_count": 32,
   "id": "c31d01e8-f754-4cfc-9c7f-973d8c4b1909",
   "metadata": {},
   "outputs": [
    {
     "name": "stdout",
     "output_type": "stream",
     "text": [
      "HTTP/1.1 307 Temporary Redirect\n",
      "\u001b[1mDate\u001b[0m: Wed, 18 Oct 2023 18:38:45 GMT\n",
      "\u001b[1mCache-Control\u001b[0m: no-cache\n",
      "\u001b[1mExpires\u001b[0m: Wed, 18 Oct 2023 18:38:45 GMT\n",
      "\u001b[1mDate\u001b[0m: Wed, 18 Oct 2023 18:38:45 GMT\n",
      "\u001b[1mPragma\u001b[0m: no-cache\n",
      "\u001b[1mX-Content-Type-Options\u001b[0m: nosniff\n",
      "\u001b[1mX-FRAME-OPTIONS\u001b[0m: SAMEORIGIN\n",
      "\u001b[1mX-XSS-Protection\u001b[0m: 1; mode=block\n",
      "\u001b[1mLocation\u001b[0m: http://main:9864/webhdfs/v1/data/v2.txt?op=OPEN&namenoderpcaddress=main:9000&length=200&offset=1\n",
      "\u001b[1mContent-Type\u001b[0m: application/octet-stream\n",
      "\u001b[1mContent-Length\u001b[0m: 0\n",
      "\n",
      "HTTP/1.1 200 OK\n",
      "\u001b[1mAccess-Control-Allow-Methods\u001b[0m: GET\n",
      "\u001b[1mAccess-Control-Allow-Origin\u001b[0m: *\n",
      "\u001b[1mContent-Type\u001b[0m: application/octet-stream\n",
      "\u001b[1mConnection\u001b[0m: close\n",
      "\u001b[1mContent-Length\u001b[0m: 200\n",
      "\n",
      "                                 Apache License\n",
      "                           Version 2.0, January 2004\n",
      "                        http://www.apache.org/licenses/\n",
      "\n",
      "   TERMS AND CONDITIONS FOR USE, REPRODUCT"
     ]
    }
   ],
   "source": [
    "# -L means follow redirects\n",
    "! curl -i -L \"http://main:9870/webhdfs/v1/data/v2.txt?op=OPEN&offset=1&length=200\""
   ]
  },
  {
   "cell_type": "code",
   "execution_count": 30,
   "id": "425f3e03-7823-4c18-aa59-701741f48b52",
   "metadata": {},
   "outputs": [
    {
     "name": "stdout",
     "output_type": "stream",
     "text": [
      "HTTP/1.1 307 Temporary Redirect\n",
      "\u001b[1mDate\u001b[0m: Wed, 18 Oct 2023 18:37:30 GMT\n",
      "\u001b[1mCache-Control\u001b[0m: no-cache\n",
      "\u001b[1mExpires\u001b[0m: Wed, 18 Oct 2023 18:37:30 GMT\n",
      "\u001b[1mDate\u001b[0m: Wed, 18 Oct 2023 18:37:30 GMT\n",
      "\u001b[1mPragma\u001b[0m: no-cache\n",
      "\u001b[1mX-Content-Type-Options\u001b[0m: nosniff\n",
      "\u001b[1mX-FRAME-OPTIONS\u001b[0m: SAMEORIGIN\n",
      "\u001b[1mX-XSS-Protection\u001b[0m: 1; mode=block\n",
      "\u001b[1mLocation\u001b[0m: http://main:9864/webhdfs/v1/data/v2.txt?op=OPEN&namenoderpcaddress=main:9000&length=200&offset=0\n",
      "\u001b[1mContent-Type\u001b[0m: application/octet-stream\n",
      "\u001b[1mContent-Length\u001b[0m: 0\n",
      "\n"
     ]
    }
   ],
   "source": [
    "! curl -i \"http://main:9870/webhdfs/v1/data/v2.txt?op=OPEN&offset=0&length=200\""
   ]
  },
  {
   "cell_type": "code",
   "execution_count": 34,
   "id": "7d92f1c2-9b7e-4cfd-b902-e172c86a8499",
   "metadata": {},
   "outputs": [
    {
     "name": "stdout",
     "output_type": "stream",
     "text": [
      "{\"Location\":\"http://main:9864/webhdfs/v1/data/v2.txt?op=OPEN&namenoderpcaddress=main:9000&length=200&offset=0\"}"
     ]
    }
   ],
   "source": [
    "! curl \"http://main:9870/webhdfs/v1/data/v2.txt?op=OPEN&offset=0&length=200&noredirect=true\""
   ]
  },
  {
   "cell_type": "code",
   "execution_count": 35,
   "id": "a956cf1d-5e2e-4e68-96f8-16b5f7f8739f",
   "metadata": {},
   "outputs": [],
   "source": [
    "import requests"
   ]
  },
  {
   "cell_type": "code",
   "execution_count": 40,
   "id": "d0215072-6e5f-4adf-a069-b026ee07ad5a",
   "metadata": {},
   "outputs": [
    {
     "data": {
      "text/plain": [
       "b'{\"Location\":\"http://main:9864/webhdfs/v1/data/v2.txt?op=OPEN&namenoderpcaddress=main:9000&length=200&offset=0\"}'"
      ]
     },
     "execution_count": 40,
     "metadata": {},
     "output_type": "execute_result"
    }
   ],
   "source": [
    "r = requests.get(\"http://main:9870/webhdfs/v1/data/v2.txt?op=OPEN&offset=0&length=200&noredirect=true\")\n",
    "r.raise_for_status()  # make an exception is not 200 (not success)\n",
    "r.content"
   ]
  },
  {
   "cell_type": "code",
   "execution_count": 41,
   "id": "0ff60a22-6bb8-4eb4-a6b9-b800fc39328c",
   "metadata": {},
   "outputs": [
    {
     "data": {
      "text/plain": [
       "{'Location': 'http://main:9864/webhdfs/v1/data/v2.txt?op=OPEN&namenoderpcaddress=main:9000&length=200&offset=0'}"
      ]
     },
     "execution_count": 41,
     "metadata": {},
     "output_type": "execute_result"
    }
   ],
   "source": [
    "r.json()"
   ]
  },
  {
   "cell_type": "code",
   "execution_count": 42,
   "id": "cbd9fa42-3da4-4f3c-a3c6-0563efc9b9ae",
   "metadata": {},
   "outputs": [
    {
     "data": {
      "text/plain": [
       "'http://main:9864/webhdfs/v1/data/v2.txt?op=OPEN&namenoderpcaddress=main:9000&length=200&offset=0'"
      ]
     },
     "execution_count": 42,
     "metadata": {},
     "output_type": "execute_result"
    }
   ],
   "source": [
    "r.json()[\"Location\"]"
   ]
  },
  {
   "cell_type": "code",
   "execution_count": 43,
   "id": "bc224879-00c7-4408-b57c-bb8053483acb",
   "metadata": {},
   "outputs": [
    {
     "data": {
      "text/plain": [
       "b'\\n                                 Apache License\\n                           Version 2.0, January 2004\\n                        http://www.apache.org/licenses/\\n\\n   TERMS AND CONDITIONS FOR USE, REPRODUC'"
      ]
     },
     "execution_count": 43,
     "metadata": {},
     "output_type": "execute_result"
    }
   ],
   "source": [
    "r = requests.get(\"http://main:9870/webhdfs/v1/data/v2.txt?op=OPEN&offset=0&length=200\")\n",
    "r.raise_for_status()\n",
    "r.content"
   ]
  },
  {
   "cell_type": "markdown",
   "id": "e7bc201a-1642-4dfe-b558-839618c46d6f",
   "metadata": {},
   "source": [
    "# PyArrow"
   ]
  },
  {
   "cell_type": "code",
   "execution_count": 44,
   "id": "f5e43137-4d74-46fa-bf90-27c8719cada3",
   "metadata": {},
   "outputs": [],
   "source": [
    "import pyarrow as pa\n",
    "import pyarrow.fs"
   ]
  },
  {
   "cell_type": "code",
   "execution_count": 45,
   "id": "83c2e44d-2e09-4296-9222-68d0ba11fc52",
   "metadata": {},
   "outputs": [
    {
     "name": "stderr",
     "output_type": "stream",
     "text": [
      "2023-10-18 18:45:14,533 WARN util.NativeCodeLoader: Unable to load native-hadoop library for your platform... using builtin-java classes where applicable\n"
     ]
    }
   ],
   "source": [
    "hdfs = pa.fs.HadoopFileSystem(\"main\", 9000)"
   ]
  },
  {
   "cell_type": "code",
   "execution_count": 48,
   "id": "b604aab5-dbfc-46e7-863e-c7a4f3a9ffab",
   "metadata": {},
   "outputs": [],
   "source": [
    "f = hdfs.open_input_file(\"/data/v2.txt\")"
   ]
  },
  {
   "cell_type": "code",
   "execution_count": 50,
   "id": "fe8010b1-630e-4046-8200-c6e71e59a3fe",
   "metadata": {},
   "outputs": [
    {
     "data": {
      "text/plain": [
       "pyarrow.lib.NativeFile"
      ]
     },
     "execution_count": 50,
     "metadata": {},
     "output_type": "execute_result"
    }
   ],
   "source": [
    "type(f)"
   ]
  },
  {
   "cell_type": "code",
   "execution_count": 51,
   "id": "dd19e5f5-b0a3-449e-a828-53e9e7f8e76a",
   "metadata": {},
   "outputs": [
    {
     "data": {
      "text/plain": [
       "(pyarrow.lib.NativeFile, pyarrow.lib._Weakrefable, object)"
      ]
     },
     "execution_count": 51,
     "metadata": {},
     "output_type": "execute_result"
    }
   ],
   "source": [
    "type(f).__mro__ # method resolution order"
   ]
  },
  {
   "cell_type": "code",
   "execution_count": 52,
   "id": "75b5d769-90b3-477a-9a6f-6c46b628a745",
   "metadata": {},
   "outputs": [
    {
     "data": {
      "text/plain": [
       "['__class__',\n",
       " '__delattr__',\n",
       " '__dir__',\n",
       " '__doc__',\n",
       " '__enter__',\n",
       " '__eq__',\n",
       " '__exit__',\n",
       " '__format__',\n",
       " '__ge__',\n",
       " '__getattribute__',\n",
       " '__gt__',\n",
       " '__hash__',\n",
       " '__init__',\n",
       " '__init_subclass__',\n",
       " '__iter__',\n",
       " '__le__',\n",
       " '__lt__',\n",
       " '__ne__',\n",
       " '__new__',\n",
       " '__next__',\n",
       " '__pyx_vtable__',\n",
       " '__reduce__',\n",
       " '__reduce_ex__',\n",
       " '__repr__',\n",
       " '__setattr__',\n",
       " '__setstate__',\n",
       " '__sizeof__',\n",
       " '__str__',\n",
       " '__subclasshook__',\n",
       " '_assert_open',\n",
       " '_assert_readable',\n",
       " '_assert_seekable',\n",
       " '_assert_writable',\n",
       " '_default_chunk_size',\n",
       " 'close',\n",
       " 'closed',\n",
       " 'download',\n",
       " 'fileno',\n",
       " 'flush',\n",
       " 'get_stream',\n",
       " 'isatty',\n",
       " 'metadata',\n",
       " 'mode',\n",
       " 'read',\n",
       " 'read1',\n",
       " 'read_at',\n",
       " 'read_buffer',\n",
       " 'readable',\n",
       " 'readall',\n",
       " 'readinto',\n",
       " 'readline',\n",
       " 'readlines',\n",
       " 'seek',\n",
       " 'seekable',\n",
       " 'size',\n",
       " 'tell',\n",
       " 'truncate',\n",
       " 'upload',\n",
       " 'writable',\n",
       " 'write',\n",
       " 'writelines']"
      ]
     },
     "execution_count": 52,
     "metadata": {},
     "output_type": "execute_result"
    }
   ],
   "source": [
    "dir(f)"
   ]
  },
  {
   "cell_type": "code",
   "execution_count": 55,
   "id": "53b9e301-90f9-4413-81b2-96f60806a717",
   "metadata": {},
   "outputs": [
    {
     "data": {
      "text/plain": [
       "b'4\\n                        http://www.apache.org/licenses/\\n\\n   TERMS AND CONDITIONS FOR USE, REPRODUCTION, AND DISTRIBUTION\\n\\n   1. Definitions.\\n\\n      \"License\" shall mean the terms and conditions for '"
      ]
     },
     "execution_count": 55,
     "metadata": {},
     "output_type": "execute_result"
    }
   ],
   "source": [
    "f.read_at(200, 100)"
   ]
  },
  {
   "cell_type": "code",
   "execution_count": 57,
   "id": "9919f5bb-8032-470b-a6cb-bfe0b7aba7bd",
   "metadata": {},
   "outputs": [],
   "source": [
    "import io # input/output"
   ]
  },
  {
   "cell_type": "code",
   "execution_count": 61,
   "id": "2990f772-d6ec-43aa-b914-7d0b3b37f412",
   "metadata": {},
   "outputs": [
    {
     "name": "stdout",
     "output_type": "stream",
     "text": [
      "\n",
      "                                 Apache License\n",
      "                           Version 2.0, January 2004\n",
      "                        http://www.apache.org/licenses/\n",
      "\n",
      "   TERMS AND CONDITIONS FOR USE, REPRODUCTION, AND DISTRIBUTION\n",
      "\n",
      "   1. Definitions.\n",
      "\n",
      "      \"License\" shall mean the terms and conditions for use, reproduction,\n",
      "      and distribution as defined by Sections 1 through 9 of this document.\n",
      "\n"
     ]
    }
   ],
   "source": [
    "with hdfs.open_input_file(\"/data/v2.txt\") as f:\n",
    "    reader = io.TextIOWrapper(io.BufferedReader(f))\n",
    "    for i, line in enumerate(reader):\n",
    "        print(line, end=\"\")\n",
    "        if i > 10:\n",
    "            break"
   ]
  }
 ],
 "metadata": {
  "kernelspec": {
   "display_name": "Python 3 (ipykernel)",
   "language": "python",
   "name": "python3"
  },
  "language_info": {
   "codemirror_mode": {
    "name": "ipython",
    "version": 3
   },
   "file_extension": ".py",
   "mimetype": "text/x-python",
   "name": "python",
   "nbconvert_exporter": "python",
   "pygments_lexer": "ipython3",
   "version": "3.10.12"
  }
 },
 "nbformat": 4,
 "nbformat_minor": 5
}
