{
 "cells": [
  {
   "cell_type": "code",
   "execution_count": null,
   "id": "0dd2b7ea-47be-41c7-800c-07e8ccb75309",
   "metadata": {},
   "outputs": [],
   "source": [
    "import requests\n",
    "import pyarrow as pa\n",
    "import pyarrow.fs\n",
    "import io"
   ]
  },
  {
   "cell_type": "markdown",
   "id": "19c0eb75-5e4e-456d-8946-37e1caebf504",
   "metadata": {},
   "source": [
    "### HDFS"
   ]
  },
  {
   "cell_type": "code",
   "execution_count": null,
   "id": "6cba6604-bc22-4e8f-a9be-acc807bb481a",
   "metadata": {},
   "outputs": [],
   "source": [
    "#q1\n",
    "!hdfs dfsadmin -fs hdfs://main:9000 -report"
   ]
  },
  {
   "cell_type": "markdown",
   "id": "e5f36c52-93c4-41e4-a149-eb90f82167ff",
   "metadata": {},
   "source": [
    "#### File system commands\n",
    "\n",
    "- `mkdir`\n",
    "- `cp`\n",
    "- `ls`\n",
    "- `cat`, etc.,"
   ]
  },
  {
   "cell_type": "markdown",
   "id": "3a659037-9222-4ba0-8787-5a665d361220",
   "metadata": {},
   "source": [
    "Create a \"data\" directory."
   ]
  },
  {
   "cell_type": "code",
   "execution_count": null,
   "id": "fd2c9380-2fcc-4684-be99-cd9be4558dcb",
   "metadata": {},
   "outputs": [],
   "source": [
    "!hdfs dfs -mkdir hdfs://main:9000/data"
   ]
  },
  {
   "cell_type": "markdown",
   "id": "9801c777-e185-4e37-af8e-094e878015da",
   "metadata": {},
   "source": [
    "Let's copy over \"/hadoop-3.3.6/LICENSE.txt\" from our VM to the \"data\" directory inside HDFS."
   ]
  },
  {
   "cell_type": "code",
   "execution_count": null,
   "id": "ca4e291b-004a-458e-911b-fc35a21ad471",
   "metadata": {},
   "outputs": [],
   "source": [
    "!ls /hadoop-3.3.6/LICENSE.txt # on our VM"
   ]
  },
  {
   "cell_type": "code",
   "execution_count": null,
   "id": "592dbc2e-9b70-452b-82cf-2118d61b22bc",
   "metadata": {},
   "outputs": [],
   "source": [
    "!hdfs dfs -cp /hadoop-3.3.6/LICENSE.txt hdfs://main:9000/data/"
   ]
  },
  {
   "cell_type": "markdown",
   "id": "3f88a787-fa4a-4446-ad8d-b94cbe4e2b8f",
   "metadata": {},
   "source": [
    "Let's try `ls` inside HDFS now."
   ]
  },
  {
   "cell_type": "code",
   "execution_count": null,
   "id": "86253d25-677c-4504-950b-18f28edf1d3e",
   "metadata": {},
   "outputs": [],
   "source": [
    "!hdfs dfs -ls hdfs://main:9000/data/"
   ]
  },
  {
   "cell_type": "markdown",
   "id": "d757479d-1707-47b6-b899-debee0088be7",
   "metadata": {},
   "source": [
    "Let's see how much disk space the file is using."
   ]
  },
  {
   "cell_type": "code",
   "execution_count": null,
   "id": "b4138713-c65b-4f4a-8851-20d34c5eb66c",
   "metadata": {},
   "outputs": [],
   "source": [
    "!hdfs dfs -du hdfs://main:9000/data/"
   ]
  },
  {
   "cell_type": "markdown",
   "id": "6f608804-a463-4ea5-9c7b-417697fd36d5",
   "metadata": {},
   "source": [
    "15217 is the logical size (actual size).<br>\n",
    "45651 is the physical size (replicated size).<br>\n",
    "Why don't they match? We only have 1 data node."
   ]
  },
  {
   "cell_type": "code",
   "execution_count": null,
   "id": "80dde4e0-b44a-4354-807c-8b514247a758",
   "metadata": {},
   "outputs": [],
   "source": [
    "45651 / 15217 # 3 replicas"
   ]
  },
  {
   "cell_type": "code",
   "execution_count": null,
   "id": "8215da32-7543-4b28-9579-3bf149fdf91a",
   "metadata": {},
   "outputs": [],
   "source": [
    "!hdfs dfsadmin -fs hdfs://main:9000 -report"
   ]
  },
  {
   "cell_type": "markdown",
   "id": "4e3c7567-6d90-413a-9854-bdab5d9f06e1",
   "metadata": {},
   "source": [
    "DFS filesystem checking utility."
   ]
  },
  {
   "cell_type": "code",
   "execution_count": null,
   "id": "bdb067e8-d000-42bb-8df9-96a67b91c34d",
   "metadata": {},
   "outputs": [],
   "source": [
    "!hdfs fsck hdfs://main:9000/data/LICENSE.txt"
   ]
  },
  {
   "cell_type": "markdown",
   "id": "b0e79bc5-bd6f-4e21-b3cf-6ef15e0ac3e9",
   "metadata": {},
   "source": [
    "#### Let's create a replica.\n",
    "\n",
    "`-D`: OPTIONS_TO_JAVA (example: `dfs.replication`)"
   ]
  },
  {
   "cell_type": "code",
   "execution_count": null,
   "id": "54e445f9-66e3-4308-8021-5c91ba522b06",
   "metadata": {},
   "outputs": [],
   "source": [
    "!hdfs dfs -D dfs.replication=1 -cp /hadoop-3.3.6/LICENSE.txt hdfs://main:9000/data/v2.txt"
   ]
  },
  {
   "cell_type": "code",
   "execution_count": null,
   "id": "1f299ce7-9574-4be4-82a9-4ebeb618cacc",
   "metadata": {},
   "outputs": [],
   "source": [
    "#!hdfs dfs -cat hdfs://main:9000/data/LICENSE.txt\n",
    "!hdfs dfs -head hdfs://main:9000/data/LICENSE.txt"
   ]
  },
  {
   "cell_type": "markdown",
   "id": "cee47dc7-acb0-423e-8f6f-74bf70a1508b",
   "metadata": {},
   "source": [
    "Let's check v2.txt's health."
   ]
  },
  {
   "cell_type": "code",
   "execution_count": null,
   "id": "37282a6d-7b66-47ea-a5f9-e99ca8eaa26a",
   "metadata": {},
   "outputs": [],
   "source": [
    "!hdfs fsck hdfs://main:9000/data/v2.txt"
   ]
  },
  {
   "cell_type": "markdown",
   "id": "c497a314-be24-4f5b-b037-4153f800dc8c",
   "metadata": {},
   "source": [
    "### WebHDFS\n",
    "\n",
    "Documentation: https://hadoop.apache.org/docs/r1.0.4/webhdfs.html "
   ]
  },
  {
   "cell_type": "markdown",
   "id": "72345916-d34a-4e1c-b44f-5d50bbb37a48",
   "metadata": {},
   "source": [
    "Response with headers (`-i` flag)."
   ]
  },
  {
   "cell_type": "code",
   "execution_count": null,
   "id": "88134078-1629-4af7-940d-94715ed94672",
   "metadata": {},
   "outputs": [],
   "source": [
    "# curl -i  \"http://<HOST>:<PORT>/webhdfs/v1/<PATH>?op=LISTSTATUS\"\n",
    "! curl -i  \"http://main:9870/webhdfs/v1/data?op=LISTSTATUS\""
   ]
  },
  {
   "cell_type": "markdown",
   "id": "47f2ceb9-aedb-4d21-9260-742e2e82b3c5",
   "metadata": {},
   "source": [
    "Response without headers."
   ]
  },
  {
   "cell_type": "code",
   "execution_count": null,
   "id": "990f65b2-9886-4865-bef3-56cc6023d58a",
   "metadata": {},
   "outputs": [],
   "source": [
    "! curl \"http://main:9870/webhdfs/v1/data?op=LISTSTATUS\""
   ]
  },
  {
   "cell_type": "markdown",
   "id": "d9fcaab7-37ac-4ce5-95ee-4e284eaad020",
   "metadata": {},
   "source": [
    "Let's access the file contents.<br>\n",
    "\n",
    "`-L` flag enables us follow redirects."
   ]
  },
  {
   "cell_type": "code",
   "execution_count": null,
   "id": "1424b225-7025-4777-8f96-3319d2f5b06c",
   "metadata": {},
   "outputs": [],
   "source": [
    "# curl -i -L \"http://<HOST>:<PORT>/webhdfs/v1/<PATH>?op=OPEN\n",
    "#                     [&offset=<LONG>][&length=<LONG>][&buffersize=<INT>]\"\n",
    "! curl -i -L \"http://main:9870/webhdfs/v1/data/v2.txt?op=OPEN&offset=0&length=200\""
   ]
  },
  {
   "cell_type": "code",
   "execution_count": null,
   "id": "c31d01e8-f754-4cfc-9c7f-973d8c4b1909",
   "metadata": {},
   "outputs": [],
   "source": [
    "! curl -L \"http://main:9870/webhdfs/v1/data/v2.txt?op=OPEN&offset=0&length=400\""
   ]
  },
  {
   "cell_type": "code",
   "execution_count": null,
   "id": "425f3e03-7823-4c18-aa59-701741f48b52",
   "metadata": {},
   "outputs": [],
   "source": [
    "! curl -i \"http://main:9870/webhdfs/v1/data/v2.txt?op=OPEN&offset=0&length=200\""
   ]
  },
  {
   "cell_type": "code",
   "execution_count": null,
   "id": "7d92f1c2-9b7e-4cfd-b902-e172c86a8499",
   "metadata": {},
   "outputs": [],
   "source": [
    "! curl \"http://main:9870/webhdfs/v1/data/v2.txt?op=OPEN&offset=0&length=200&noredirect=true\""
   ]
  },
  {
   "cell_type": "markdown",
   "id": "b56fa259-47d0-4b39-93c3-ac3207cfdb18",
   "metadata": {},
   "source": [
    "#### Sending requests from `requests` module"
   ]
  },
  {
   "cell_type": "code",
   "execution_count": null,
   "id": "d0215072-6e5f-4adf-a069-b026ee07ad5a",
   "metadata": {},
   "outputs": [],
   "source": [
    "r = requests.get(\"http://main:9870/webhdfs/v1/data/v2.txt?op=OPEN&offset=0&length=200&noredirect=true\")\n",
    "r.raise_for_status()  # checks that HTTP response status code is 200 OK\n",
    "r.content"
   ]
  },
  {
   "cell_type": "code",
   "execution_count": null,
   "id": "11071b68-5397-4355-b101-0aea07bf163e",
   "metadata": {},
   "outputs": [],
   "source": [
    "type(r.content)"
   ]
  },
  {
   "cell_type": "code",
   "execution_count": null,
   "id": "0ff60a22-6bb8-4eb4-a6b9-b800fc39328c",
   "metadata": {},
   "outputs": [],
   "source": [
    "r.json()"
   ]
  },
  {
   "cell_type": "code",
   "execution_count": null,
   "id": "cbd9fa42-3da4-4f3c-a3c6-0563efc9b9ae",
   "metadata": {},
   "outputs": [],
   "source": [
    "r.json()[\"Location\"]"
   ]
  },
  {
   "cell_type": "code",
   "execution_count": null,
   "id": "bc224879-00c7-4408-b57c-bb8053483acb",
   "metadata": {},
   "outputs": [],
   "source": [
    "r = requests.get(\"http://main:9870/webhdfs/v1/data/v2.txt?op=OPEN&offset=0&length=200\")\n",
    "r.raise_for_status()\n",
    "r.content"
   ]
  },
  {
   "cell_type": "markdown",
   "id": "e7bc201a-1642-4dfe-b558-839618c46d6f",
   "metadata": {},
   "source": [
    "### Using PyArrow to read data"
   ]
  },
  {
   "cell_type": "code",
   "execution_count": null,
   "id": "83c2e44d-2e09-4296-9222-68d0ba11fc52",
   "metadata": {},
   "outputs": [],
   "source": [
    "hdfs = pa.fs.HadoopFileSystem(\"main\", 9000)"
   ]
  },
  {
   "cell_type": "code",
   "execution_count": null,
   "id": "b604aab5-dbfc-46e7-863e-c7a4f3a9ffab",
   "metadata": {},
   "outputs": [],
   "source": [
    "f = hdfs.open_input_file(\"/data/v2.txt\")"
   ]
  },
  {
   "cell_type": "code",
   "execution_count": null,
   "id": "fe8010b1-630e-4046-8200-c6e71e59a3fe",
   "metadata": {},
   "outputs": [],
   "source": [
    "type(f)"
   ]
  },
  {
   "cell_type": "code",
   "execution_count": null,
   "id": "dd19e5f5-b0a3-449e-a828-53e9e7f8e76a",
   "metadata": {},
   "outputs": [],
   "source": [
    "type(f).__mro__ # method resolution order"
   ]
  },
  {
   "cell_type": "code",
   "execution_count": null,
   "id": "75b5d769-90b3-477a-9a6f-6c46b628a745",
   "metadata": {},
   "outputs": [],
   "source": [
    "dir(f)"
   ]
  },
  {
   "cell_type": "code",
   "execution_count": null,
   "id": "53b9e301-90f9-4413-81b2-96f60806a717",
   "metadata": {},
   "outputs": [],
   "source": [
    "f.read_at(200, 100) # read 200 bytes at offset 0"
   ]
  },
  {
   "cell_type": "code",
   "execution_count": null,
   "id": "704e3ba7-1d92-4f4d-b731-34da8329e727",
   "metadata": {},
   "outputs": [],
   "source": [
    "# wouldn't work\n",
    "for line in f:\n",
    "    print(line)"
   ]
  },
  {
   "cell_type": "code",
   "execution_count": null,
   "id": "2990f772-d6ec-43aa-b914-7d0b3b37f412",
   "metadata": {},
   "outputs": [],
   "source": [
    "with hdfs.open_input_file(\"/data/v2.txt\") as f:\n",
    "    reader = io.TextIOWrapper(io.BufferedReader(f))\n",
    "    for i, line in enumerate(reader):\n",
    "        print(line, end=\"\")\n",
    "        if i > 10:\n",
    "            break"
   ]
  },
  {
   "cell_type": "code",
   "execution_count": null,
   "id": "d5595755-7c37-4a9e-ac52-cc08be4e9a05",
   "metadata": {},
   "outputs": [],
   "source": []
  }
 ],
 "metadata": {
  "kernelspec": {
   "display_name": "Python 3 (ipykernel)",
   "language": "python",
   "name": "python3"
  },
  "language_info": {
   "codemirror_mode": {
    "name": "ipython",
    "version": 3
   },
   "file_extension": ".py",
   "mimetype": "text/x-python",
   "name": "python",
   "nbconvert_exporter": "python",
   "pygments_lexer": "ipython3",
   "version": "3.10.12"
  }
 },
 "nbformat": 4,
 "nbformat_minor": 5
}
