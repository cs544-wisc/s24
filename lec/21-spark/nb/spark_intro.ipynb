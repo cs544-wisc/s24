{
 "cells": [
  {
   "cell_type": "code",
   "execution_count": null,
   "id": "fbe0117e-6b91-4651-8f21-c509f5e63ca8",
   "metadata": {},
   "outputs": [],
   "source": [
    "from pyspark.sql import SparkSession"
   ]
  },
  {
   "cell_type": "code",
   "execution_count": null,
   "id": "2575d6b2-2d6f-48ed-8d2a-7c6c385902a6",
   "metadata": {},
   "outputs": [],
   "source": [
    "spark = (SparkSession.builder.appName(\"cs544\")\n",
    "         .master(\"spark://boss:7077\")\n",
    "         .config(\"spark.executor.memory\", \"512M\")\n",
    "         .getOrCreate())"
   ]
  },
  {
   "cell_type": "markdown",
   "id": "3c8f42b1-dd50-4d62-a486-3e2e384b2af2",
   "metadata": {},
   "source": [
    "`sparkContext` is the entry point for all RDD related things."
   ]
  },
  {
   "cell_type": "code",
   "execution_count": null,
   "id": "c363cf9d-c564-4d6e-aacf-76104349438a",
   "metadata": {},
   "outputs": [],
   "source": [
    "sc = spark.sparkContext"
   ]
  },
  {
   "cell_type": "code",
   "execution_count": null,
   "id": "7e3c303c-7eb7-4718-a498-3ced4e2c158c",
   "metadata": {},
   "outputs": [],
   "source": [
    "nums = list(range(1_000_000))"
   ]
  },
  {
   "cell_type": "code",
   "execution_count": null,
   "id": "03e92791-eb6a-4eaa-a346-b12b9888109f",
   "metadata": {},
   "outputs": [],
   "source": [
    "rdd = sc.parallelize(nums)"
   ]
  },
  {
   "cell_type": "markdown",
   "id": "aa761c69-aaa5-46a1-991c-fecd05773cb1",
   "metadata": {},
   "source": [
    "### Transformation example\n",
    "\n",
    "Let's compute inverse"
   ]
  },
  {
   "cell_type": "code",
   "execution_count": null,
   "id": "0a844a60-ea1d-4bf9-8f9b-dcf4f19a6323",
   "metadata": {},
   "outputs": [],
   "source": [
    "inverses = rdd.map(lambda x: 1/x)"
   ]
  },
  {
   "cell_type": "markdown",
   "id": "83c0161e-928c-4d8f-a5d1-dd38597c8722",
   "metadata": {},
   "source": [
    "### Action\n",
    "\n",
    "- Action is what triggers the actual computation (or work)\n",
    "  \n",
    "Let's get all results using `collect`"
   ]
  },
  {
   "cell_type": "code",
   "execution_count": null,
   "id": "4f70d8e1-abe4-47d9-ab93-7a35827d7599",
   "metadata": {},
   "outputs": [],
   "source": [
    "# inverses.collect() # ACTION to get all the numbers, maybe using a lot of RAM"
   ]
  },
  {
   "cell_type": "markdown",
   "id": "9eb1ecc2-7782-4d21-a581-6efaf2a719ea",
   "metadata": {},
   "source": [
    "### Action\n",
    "\n",
    "Let's get top N results using `take(<N>)`"
   ]
  },
  {
   "cell_type": "code",
   "execution_count": null,
   "id": "2a2f291a-f3e4-469f-a9a6-8c2cb9395149",
   "metadata": {},
   "outputs": [],
   "source": [
    "# ACTION triggers the work, including the divide by zero!\n",
    "inverses.take(10)  # ACTION to get first N results"
   ]
  },
  {
   "cell_type": "markdown",
   "id": "de3996ef-57f1-46cc-a375-2d63165866ac",
   "metadata": {},
   "source": [
    "How can we fix the divide-by-zero issue?\n",
    "\n",
    "### Filter\n",
    "\n",
    "Let's filter out any values <= 0"
   ]
  },
  {
   "cell_type": "code",
   "execution_count": null,
   "id": "64f74ce2-64ef-4c52-8c6b-5ced014becef",
   "metadata": {},
   "outputs": [],
   "source": [
    "inverses = rdd.filter(lambda x: x > 0).map(lambda x: 1/x)\n",
    "inverses"
   ]
  },
  {
   "cell_type": "markdown",
   "id": "59f6535c-e15b-4a3a-92fb-ca2a7384ef80",
   "metadata": {},
   "source": [
    "### Action\n",
    "\n",
    "Let's compute mean of all the numbers"
   ]
  },
  {
   "cell_type": "code",
   "execution_count": null,
   "id": "dd233ae3-21e0-4d5b-a7b2-2c12b07aa2a1",
   "metadata": {},
   "outputs": [],
   "source": [
    "inverses.mean() # mean is an ACTION"
   ]
  },
  {
   "cell_type": "code",
   "execution_count": null,
   "id": "3d020e2c-330c-4616-ad54-973cca30227f",
   "metadata": {},
   "outputs": [],
   "source": [
    "rdd.getNumPartitions()"
   ]
  },
  {
   "cell_type": "code",
   "execution_count": null,
   "id": "d47a5bc8-9831-43e2-84b6-b384a7c80ec1",
   "metadata": {},
   "outputs": [],
   "source": [
    "rdd = sc.parallelize(nums, 10)\n",
    "rdd.getNumPartitions()"
   ]
  }
 ],
 "metadata": {
  "kernelspec": {
   "display_name": "Python 3 (ipykernel)",
   "language": "python",
   "name": "python3"
  },
  "language_info": {
   "codemirror_mode": {
    "name": "ipython",
    "version": 3
   },
   "file_extension": ".py",
   "mimetype": "text/x-python",
   "name": "python",
   "nbconvert_exporter": "python",
   "pygments_lexer": "ipython3",
   "version": "3.10.12"
  }
 },
 "nbformat": 4,
 "nbformat_minor": 5
}
