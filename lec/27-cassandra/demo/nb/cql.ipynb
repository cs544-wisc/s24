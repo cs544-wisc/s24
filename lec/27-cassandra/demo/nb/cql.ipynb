{
 "cells": [
  {
   "cell_type": "markdown",
   "id": "aac26779-a084-4579-aaaf-fbd1c96d0694",
   "metadata": {},
   "source": [
    "## Cassandra Query Language (CQL)"
   ]
  },
  {
   "cell_type": "markdown",
   "id": "879b3c10-c02a-4ef3-ae97-081aadbf7a51",
   "metadata": {},
   "source": [
    "### Review commands from previous lecture"
   ]
  },
  {
   "cell_type": "code",
   "execution_count": 1,
   "id": "786470f5-3f77-4914-a727-147175fe9b3a",
   "metadata": {},
   "outputs": [
    {
     "name": "stdout",
     "output_type": "stream",
     "text": [
      "Datacenter: datacenter1\n",
      "=======================\n",
      "Status=Up/Down\n",
      "|/ State=Normal/Leaving/Joining/Moving\n",
      "--  Address     Load        Tokens  Owns (effective)  Host ID                               Rack \n",
      "UN  172.24.0.4  149.94 KiB  16      100.0%            b5d7c159-2e4b-47e2-b12c-eceaaf2dd3a4  rack1\n",
      "UN  172.24.0.2  165.59 KiB  16      100.0%            a3a9a70e-d4a3-467d-9b34-1bfcdfdef42b  rack1\n",
      "UN  172.24.0.3  177.09 KiB  16      100.0%            39d76fc9-d6be-4a5b-8420-0da3ce3a0343  rack1\n",
      "\n"
     ]
    }
   ],
   "source": [
    "!nodetool status"
   ]
  },
  {
   "cell_type": "code",
   "execution_count": 2,
   "id": "0a4167b0-b79c-4a01-9e5a-12fc09fbf56f",
   "metadata": {},
   "outputs": [],
   "source": [
    "from cassandra.cluster import Cluster\n",
    "import pandas as pd"
   ]
  },
  {
   "cell_type": "code",
   "execution_count": 3,
   "id": "8408625e-f34c-443b-9a36-b3de4ccf6bbe",
   "metadata": {},
   "outputs": [],
   "source": [
    "cluster = Cluster([\"demo-db-1\", \"demo-db-2\", \"demo-db-3\"])\n",
    "cass = cluster.connect()"
   ]
  },
  {
   "cell_type": "markdown",
   "id": "e32205ae-6f99-4d6c-ad6f-9f910db4e5e9",
   "metadata": {},
   "source": [
    "For `Cluster` configuration, we don't really need to type out each node name. Reason: what if we had 100s of nodes! Just typing a few node names will be sufficient here."
   ]
  },
  {
   "cell_type": "markdown",
   "id": "4fbcde66-b2bd-4942-94be-e8540949f056",
   "metadata": {},
   "source": [
    "#### If you din't manually create the `banking` keyspace, then execute below cell"
   ]
  },
  {
   "cell_type": "code",
   "execution_count": 5,
   "id": "0b0cde7c-279d-40a5-82b5-973ebd3132ce",
   "metadata": {},
   "outputs": [
    {
     "data": {
      "text/plain": [
       "<cassandra.cluster.ResultSet at 0x76a35825f190>"
      ]
     },
     "execution_count": 5,
     "metadata": {},
     "output_type": "execute_result"
    }
   ],
   "source": [
    "cass.execute(\"\"\"\n",
    "create keyspace banking with \n",
    "replication = {'class': 'SimpleStrategy', 'replication_factor': 3};\n",
    "\"\"\")"
   ]
  },
  {
   "cell_type": "markdown",
   "id": "d45eed03-a158-467d-aa2d-74d4afbaafe3",
   "metadata": {},
   "source": [
    "Let's use `banking` keyspace."
   ]
  },
  {
   "cell_type": "code",
   "execution_count": 6,
   "id": "70d80d5c-d7f8-4883-a3dd-2d9e83213a41",
   "metadata": {},
   "outputs": [
    {
     "data": {
      "text/plain": [
       "<cassandra.cluster.ResultSet at 0x76a35829ee00>"
      ]
     },
     "execution_count": 6,
     "metadata": {},
     "output_type": "execute_result"
    }
   ],
   "source": [
    "cass.execute(\"use banking\")"
   ]
  },
  {
   "cell_type": "markdown",
   "id": "85775eb3-307c-414c-9f2c-2ba78d5ea46d",
   "metadata": {},
   "source": [
    "### Cassandra table creation\n",
    "\n",
    "Let's create loans table."
   ]
  },
  {
   "cell_type": "code",
   "execution_count": 7,
   "id": "117049fe-00ea-4d08-97fb-64d985a926af",
   "metadata": {},
   "outputs": [
    {
     "ename": "InvalidRequest",
     "evalue": "Error from server: code=2200 [Invalid query] message=\"No PRIMARY KEY specifed for table 'loans' (exactly one required)\"",
     "output_type": "error",
     "traceback": [
      "\u001b[0;31m---------------------------------------------------------------------------\u001b[0m",
      "\u001b[0;31mInvalidRequest\u001b[0m                            Traceback (most recent call last)",
      "Cell \u001b[0;32mIn[7], line 1\u001b[0m\n\u001b[0;32m----> 1\u001b[0m \u001b[43mcass\u001b[49m\u001b[38;5;241;43m.\u001b[39;49m\u001b[43mexecute\u001b[49m\u001b[43m(\u001b[49m\u001b[38;5;124;43m\"\"\"\u001b[39;49m\n\u001b[1;32m      2\u001b[0m \u001b[38;5;124;43mcreate table loans(\u001b[39;49m\n\u001b[1;32m      3\u001b[0m \u001b[38;5;124;43m    bank_id INT,\u001b[39;49m\n\u001b[1;32m      4\u001b[0m \u001b[38;5;124;43m    bank_name TEXT,\u001b[39;49m\n\u001b[1;32m      5\u001b[0m \u001b[38;5;124;43m    loan_id UUID,\u001b[39;49m\n\u001b[1;32m      6\u001b[0m \u001b[38;5;124;43m    amount INT,\u001b[39;49m\n\u001b[1;32m      7\u001b[0m \u001b[38;5;124;43m    state TEXT,\u001b[39;49m\n\u001b[1;32m      8\u001b[0m \u001b[38;5;124;43m)\u001b[39;49m\n\u001b[1;32m      9\u001b[0m \u001b[38;5;124;43m\"\"\"\u001b[39;49m\u001b[43m)\u001b[49m\n",
      "File \u001b[0;32m/usr/local/lib/python3.10/dist-packages/cassandra/cluster.py:2637\u001b[0m, in \u001b[0;36mcassandra.cluster.Session.execute\u001b[0;34m()\u001b[0m\n",
      "File \u001b[0;32m/usr/local/lib/python3.10/dist-packages/cassandra/cluster.py:4920\u001b[0m, in \u001b[0;36mcassandra.cluster.ResponseFuture.result\u001b[0;34m()\u001b[0m\n",
      "\u001b[0;31mInvalidRequest\u001b[0m: Error from server: code=2200 [Invalid query] message=\"No PRIMARY KEY specifed for table 'loans' (exactly one required)\""
     ]
    }
   ],
   "source": [
    "cass.execute(\"\"\"\n",
    "create table loans(\n",
    "    bank_id INT,\n",
    "    bank_name TEXT,\n",
    "    loan_id UUID,\n",
    "    amount INT,\n",
    "    state TEXT,\n",
    ")\n",
    "\"\"\")"
   ]
  },
  {
   "cell_type": "markdown",
   "id": "9e2559d9-e3b8-4ef8-9163-70606093b9b3",
   "metadata": {},
   "source": [
    "#### What is UUID? \n",
    "\n",
    "- It stands for \"Universally Unique Identifier\".\n",
    "- Globally unique across all computing machines."
   ]
  },
  {
   "cell_type": "markdown",
   "id": "4703d8ab-d5d5-4612-8e7c-9655e89fbf4f",
   "metadata": {},
   "source": [
    "#### Primary key specification\n",
    "\n",
    "Syntax: `PRIMARY KEY(parition_key, cluster_key)`"
   ]
  },
  {
   "cell_type": "code",
   "execution_count": 8,
   "id": "aa632838-9630-4c6f-b8f5-048db9f86312",
   "metadata": {},
   "outputs": [
    {
     "data": {
      "text/plain": [
       "<cassandra.cluster.ResultSet at 0x76a3283c9180>"
      ]
     },
     "execution_count": 8,
     "metadata": {},
     "output_type": "execute_result"
    }
   ],
   "source": [
    "cass.execute(\"\"\"\n",
    "create table loans(\n",
    "    bank_id INT,\n",
    "    bank_name TEXT,\n",
    "    loan_id UUID,\n",
    "    amount INT,\n",
    "    state TEXT,\n",
    "    PRIMARY KEY((bank_id), amount, loan_id)\n",
    ")\n",
    "\"\"\")"
   ]
  },
  {
   "cell_type": "markdown",
   "id": "eb4b96b3-8c2a-438c-9224-d259a29fa694",
   "metadata": {},
   "source": [
    "Let's take a peek at the table."
   ]
  },
  {
   "cell_type": "code",
   "execution_count": 9,
   "id": "64cbb760-50a7-4da9-983b-1b83c1f3d70d",
   "metadata": {},
   "outputs": [
    {
     "data": {
      "text/plain": [
       "Row(keyspace_name='banking', type='table', name='loans', create_statement=\"CREATE TABLE banking.loans (\\n    bank_id int,\\n    amount int,\\n    loan_id uuid,\\n    bank_name text,\\n    state text,\\n    PRIMARY KEY (bank_id, amount, loan_id)\\n) WITH CLUSTERING ORDER BY (amount ASC, loan_id ASC)\\n    AND additional_write_policy = '99p'\\n    AND bloom_filter_fp_chance = 0.01\\n    AND caching = {'keys': 'ALL', 'rows_per_partition': 'NONE'}\\n    AND cdc = false\\n    AND comment = ''\\n    AND compaction = {'class': 'org.apache.cassandra.db.compaction.SizeTieredCompactionStrategy', 'max_threshold': '32', 'min_threshold': '4'}\\n    AND compression = {'chunk_length_in_kb': '16', 'class': 'org.apache.cassandra.io.compress.LZ4Compressor'}\\n    AND memtable = 'default'\\n    AND crc_check_chance = 1.0\\n    AND default_time_to_live = 0\\n    AND extensions = {}\\n    AND gc_grace_seconds = 864000\\n    AND max_index_interval = 2048\\n    AND memtable_flush_period_in_ms = 0\\n    AND min_index_interval = 128\\n    AND read_repair = 'BLOCKING'\\n    AND speculative_retry = '99p';\")"
      ]
     },
     "execution_count": 9,
     "metadata": {},
     "output_type": "execute_result"
    }
   ],
   "source": [
    "cass.execute(\"describe table loans\").one()\n",
    "# one() enables us to extract the one row from the result"
   ]
  },
  {
   "cell_type": "code",
   "execution_count": 10,
   "id": "2c4f3a09-c6b3-4d59-88f8-b46b971aeb1e",
   "metadata": {},
   "outputs": [
    {
     "name": "stdout",
     "output_type": "stream",
     "text": [
      "CREATE TABLE banking.loans (\n",
      "    bank_id int,\n",
      "    amount int,\n",
      "    loan_id uuid,\n",
      "    bank_name text,\n",
      "    state text,\n",
      "    PRIMARY KEY (bank_id, amount, loan_id)\n",
      ") WITH CLUSTERING ORDER BY (amount ASC, loan_id ASC)\n",
      "    AND additional_write_policy = '99p'\n",
      "    AND bloom_filter_fp_chance = 0.01\n",
      "    AND caching = {'keys': 'ALL', 'rows_per_partition': 'NONE'}\n",
      "    AND cdc = false\n",
      "    AND comment = ''\n",
      "    AND compaction = {'class': 'org.apache.cassandra.db.compaction.SizeTieredCompactionStrategy', 'max_threshold': '32', 'min_threshold': '4'}\n",
      "    AND compression = {'chunk_length_in_kb': '16', 'class': 'org.apache.cassandra.io.compress.LZ4Compressor'}\n",
      "    AND memtable = 'default'\n",
      "    AND crc_check_chance = 1.0\n",
      "    AND default_time_to_live = 0\n",
      "    AND extensions = {}\n",
      "    AND gc_grace_seconds = 864000\n",
      "    AND max_index_interval = 2048\n",
      "    AND memtable_flush_period_in_ms = 0\n",
      "    AND min_index_interval = 128\n",
      "    AND read_repair = 'BLOCKING'\n",
      "    AND speculative_retry = '99p';\n"
     ]
    }
   ],
   "source": [
    "print(cass.execute(\"describe table loans\").one().create_statement)"
   ]
  },
  {
   "cell_type": "markdown",
   "id": "d2d4b63e-25b3-4211-80d9-0cba2fe65d78",
   "metadata": {},
   "source": [
    "### Drop table and recreate"
   ]
  },
  {
   "cell_type": "code",
   "execution_count": 11,
   "id": "2ac261d1-b278-4246-82e2-051c60ec3980",
   "metadata": {},
   "outputs": [
    {
     "data": {
      "text/plain": [
       "<cassandra.cluster.ResultSet at 0x76a3582d60b0>"
      ]
     },
     "execution_count": 11,
     "metadata": {},
     "output_type": "execute_result"
    }
   ],
   "source": [
    "cass.execute(\"drop table if exists loans\")"
   ]
  },
  {
   "cell_type": "markdown",
   "id": "4ab84f89-8c24-43e1-b607-4da7041008cd",
   "metadata": {},
   "source": [
    "**Note:** Final `create` statement for `loans` table."
   ]
  },
  {
   "cell_type": "code",
   "execution_count": 12,
   "id": "af7f0303-3a2b-49ad-b117-3a335874afdb",
   "metadata": {},
   "outputs": [
    {
     "data": {
      "text/plain": [
       "<cassandra.cluster.ResultSet at 0x76a32839dd50>"
      ]
     },
     "execution_count": 12,
     "metadata": {},
     "output_type": "execute_result"
    }
   ],
   "source": [
    "cass.execute(\"\"\"\n",
    "create table loans(\n",
    "    bank_id INT,\n",
    "    bank_name TEXT static,\n",
    "    loan_id UUID,\n",
    "    amount INT,\n",
    "    state TEXT,\n",
    "    PRIMARY KEY ((bank_id), amount, loan_id)\n",
    ") WITH CLUSTERING ORDER BY (amount DESC)\n",
    "\"\"\")"
   ]
  },
  {
   "cell_type": "code",
   "execution_count": 13,
   "id": "714dfec5-bab1-4419-b09e-4ead40709b62",
   "metadata": {},
   "outputs": [
    {
     "name": "stdout",
     "output_type": "stream",
     "text": [
      "CREATE TABLE banking.loans (\n",
      "    bank_id int,\n",
      "    amount int,\n",
      "    loan_id uuid,\n",
      "    bank_name text static,\n",
      "    state text,\n",
      "    PRIMARY KEY (bank_id, amount, loan_id)\n",
      ") WITH CLUSTERING ORDER BY (amount DESC, loan_id ASC)\n",
      "    AND additional_write_policy = '99p'\n",
      "    AND bloom_filter_fp_chance = 0.01\n",
      "    AND caching = {'keys': 'ALL', 'rows_per_partition': 'NONE'}\n",
      "    AND cdc = false\n",
      "    AND comment = ''\n",
      "    AND compaction = {'class': 'org.apache.cassandra.db.compaction.SizeTieredCompactionStrategy', 'max_threshold': '32', 'min_threshold': '4'}\n",
      "    AND compression = {'chunk_length_in_kb': '16', 'class': 'org.apache.cassandra.io.compress.LZ4Compressor'}\n",
      "    AND memtable = 'default'\n",
      "    AND crc_check_chance = 1.0\n",
      "    AND default_time_to_live = 0\n",
      "    AND extensions = {}\n",
      "    AND gc_grace_seconds = 864000\n",
      "    AND max_index_interval = 2048\n",
      "    AND memtable_flush_period_in_ms = 0\n",
      "    AND min_index_interval = 128\n",
      "    AND read_repair = 'BLOCKING'\n",
      "    AND speculative_retry = '99p';\n"
     ]
    }
   ],
   "source": [
    "print(cass.execute(\"describe table loans\").one().create_statement)"
   ]
  },
  {
   "cell_type": "markdown",
   "id": "4fd27401-dfe7-4cf5-8a30-812841aba857",
   "metadata": {},
   "source": [
    "### `INSERT` data\n",
    "\n",
    "- `INSERT` is actually update or insert"
   ]
  },
  {
   "cell_type": "code",
   "execution_count": 14,
   "id": "c0186314-5ff0-4905-96a8-6a0ee6407ff8",
   "metadata": {},
   "outputs": [
    {
     "data": {
      "text/plain": [
       "<cassandra.cluster.ResultSet at 0x76a32845a650>"
      ]
     },
     "execution_count": 14,
     "metadata": {},
     "output_type": "execute_result"
    }
   ],
   "source": [
    "cass.execute(\"\"\"\n",
    "INSERT INTO loans (bank_id, bank_name)\n",
    "VALUES (544, 'test1')\n",
    "\"\"\")"
   ]
  },
  {
   "cell_type": "code",
   "execution_count": 15,
   "id": "6e2b17a0-70b3-43a5-a8d2-f9381c94ddc6",
   "metadata": {},
   "outputs": [
    {
     "data": {
      "text/html": [
       "<div>\n",
       "<style scoped>\n",
       "    .dataframe tbody tr th:only-of-type {\n",
       "        vertical-align: middle;\n",
       "    }\n",
       "\n",
       "    .dataframe tbody tr th {\n",
       "        vertical-align: top;\n",
       "    }\n",
       "\n",
       "    .dataframe thead th {\n",
       "        text-align: right;\n",
       "    }\n",
       "</style>\n",
       "<table border=\"1\" class=\"dataframe\">\n",
       "  <thead>\n",
       "    <tr style=\"text-align: right;\">\n",
       "      <th></th>\n",
       "      <th>bank_id</th>\n",
       "      <th>amount</th>\n",
       "      <th>loan_id</th>\n",
       "      <th>bank_name</th>\n",
       "      <th>state</th>\n",
       "    </tr>\n",
       "  </thead>\n",
       "  <tbody>\n",
       "    <tr>\n",
       "      <th>0</th>\n",
       "      <td>544</td>\n",
       "      <td>None</td>\n",
       "      <td>None</td>\n",
       "      <td>test1</td>\n",
       "      <td>None</td>\n",
       "    </tr>\n",
       "  </tbody>\n",
       "</table>\n",
       "</div>"
      ],
      "text/plain": [
       "   bank_id amount loan_id bank_name state\n",
       "0      544   None    None     test1  None"
      ]
     },
     "execution_count": 15,
     "metadata": {},
     "output_type": "execute_result"
    }
   ],
   "source": [
    "pd.DataFrame(cass.execute(\"select * from loans\"))"
   ]
  },
  {
   "cell_type": "code",
   "execution_count": 16,
   "id": "be7cabd8-e52c-46c2-a8d2-19279db87469",
   "metadata": {},
   "outputs": [
    {
     "data": {
      "text/plain": [
       "<cassandra.cluster.ResultSet at 0x76a32840bd30>"
      ]
     },
     "execution_count": 16,
     "metadata": {},
     "output_type": "execute_result"
    }
   ],
   "source": [
    "# INSERT is actually update or insert\n",
    "cass.execute(\"\"\"\n",
    "INSERT INTO loans (bank_id, bank_name)\n",
    "VALUES (544, 'test2')\n",
    "\"\"\")"
   ]
  },
  {
   "cell_type": "code",
   "execution_count": 17,
   "id": "30b97a38-aaa9-4316-b565-2d45958fe989",
   "metadata": {},
   "outputs": [
    {
     "data": {
      "text/html": [
       "<div>\n",
       "<style scoped>\n",
       "    .dataframe tbody tr th:only-of-type {\n",
       "        vertical-align: middle;\n",
       "    }\n",
       "\n",
       "    .dataframe tbody tr th {\n",
       "        vertical-align: top;\n",
       "    }\n",
       "\n",
       "    .dataframe thead th {\n",
       "        text-align: right;\n",
       "    }\n",
       "</style>\n",
       "<table border=\"1\" class=\"dataframe\">\n",
       "  <thead>\n",
       "    <tr style=\"text-align: right;\">\n",
       "      <th></th>\n",
       "      <th>bank_id</th>\n",
       "      <th>amount</th>\n",
       "      <th>loan_id</th>\n",
       "      <th>bank_name</th>\n",
       "      <th>state</th>\n",
       "    </tr>\n",
       "  </thead>\n",
       "  <tbody>\n",
       "    <tr>\n",
       "      <th>0</th>\n",
       "      <td>544</td>\n",
       "      <td>None</td>\n",
       "      <td>None</td>\n",
       "      <td>test2</td>\n",
       "      <td>None</td>\n",
       "    </tr>\n",
       "  </tbody>\n",
       "</table>\n",
       "</div>"
      ],
      "text/plain": [
       "   bank_id amount loan_id bank_name state\n",
       "0      544   None    None     test2  None"
      ]
     },
     "execution_count": 17,
     "metadata": {},
     "output_type": "execute_result"
    }
   ],
   "source": [
    "pd.DataFrame(cass.execute(\"select * from loans\"))"
   ]
  },
  {
   "cell_type": "markdown",
   "id": "e79d5f99-9a27-4677-983a-19e2c9846366",
   "metadata": {},
   "source": [
    "##### **Observation**: \n",
    "\n",
    "We can insert data just with partition key information.\n",
    "Cluster key is not necessary as long as you don't have data for any of the repeating columns."
   ]
  },
  {
   "cell_type": "markdown",
   "id": "8108414d-a54f-4248-ba28-0e1d437b8b44",
   "metadata": {},
   "source": [
    "Let's try to add just `loan_id`. This shouldn't work because both `amount` and `loan_id` form the cluster key."
   ]
  },
  {
   "cell_type": "code",
   "execution_count": 18,
   "id": "e645ad57-328b-494e-95cd-16049ae549bc",
   "metadata": {},
   "outputs": [
    {
     "ename": "InvalidRequest",
     "evalue": "Error from server: code=2200 [Invalid query] message=\"Some clustering keys are missing: amount\"",
     "output_type": "error",
     "traceback": [
      "\u001b[0;31m---------------------------------------------------------------------------\u001b[0m",
      "\u001b[0;31mInvalidRequest\u001b[0m                            Traceback (most recent call last)",
      "Cell \u001b[0;32mIn[18], line 1\u001b[0m\n\u001b[0;32m----> 1\u001b[0m \u001b[43mcass\u001b[49m\u001b[38;5;241;43m.\u001b[39;49m\u001b[43mexecute\u001b[49m\u001b[43m(\u001b[49m\u001b[38;5;124;43m\"\"\"\u001b[39;49m\n\u001b[1;32m      2\u001b[0m \u001b[38;5;124;43mINSERT INTO loans (bank_id, bank_name, loan_id)\u001b[39;49m\n\u001b[1;32m      3\u001b[0m \u001b[38;5;124;43mVALUES (544, \u001b[39;49m\u001b[38;5;124;43m'\u001b[39;49m\u001b[38;5;124;43mtest2\u001b[39;49m\u001b[38;5;124;43m'\u001b[39;49m\u001b[38;5;124;43m, UUID())\u001b[39;49m\n\u001b[1;32m      4\u001b[0m \u001b[38;5;124;43m\"\"\"\u001b[39;49m\u001b[43m)\u001b[49m\n",
      "File \u001b[0;32m/usr/local/lib/python3.10/dist-packages/cassandra/cluster.py:2637\u001b[0m, in \u001b[0;36mcassandra.cluster.Session.execute\u001b[0;34m()\u001b[0m\n",
      "File \u001b[0;32m/usr/local/lib/python3.10/dist-packages/cassandra/cluster.py:4920\u001b[0m, in \u001b[0;36mcassandra.cluster.ResponseFuture.result\u001b[0;34m()\u001b[0m\n",
      "\u001b[0;31mInvalidRequest\u001b[0m: Error from server: code=2200 [Invalid query] message=\"Some clustering keys are missing: amount\""
     ]
    }
   ],
   "source": [
    "cass.execute(\"\"\"\n",
    "INSERT INTO loans (bank_id, bank_name, loan_id)\n",
    "VALUES (544, 'test2', UUID())\n",
    "\"\"\")"
   ]
  },
  {
   "cell_type": "markdown",
   "id": "f9446b5c-a3d0-4eda-9d9c-242615f02b85",
   "metadata": {},
   "source": [
    "### `UUID()` function\n",
    "\n",
    "enables us to generate UUID"
   ]
  },
  {
   "cell_type": "code",
   "execution_count": 19,
   "id": "d515a046-646c-4efd-8d38-e0904cf18dcf",
   "metadata": {},
   "outputs": [
    {
     "data": {
      "text/plain": [
       "<cassandra.cluster.ResultSet at 0x76a32860a0b0>"
      ]
     },
     "execution_count": 19,
     "metadata": {},
     "output_type": "execute_result"
    }
   ],
   "source": [
    "cass.execute(\"\"\"\n",
    "INSERT INTO loans (bank_id, amount, loan_id)\n",
    "VALUES (544, 300, UUID())\n",
    "\"\"\")"
   ]
  },
  {
   "cell_type": "code",
   "execution_count": 20,
   "id": "0c16b042-bc68-4456-a8e3-d32adec3959e",
   "metadata": {},
   "outputs": [
    {
     "data": {
      "text/html": [
       "<div>\n",
       "<style scoped>\n",
       "    .dataframe tbody tr th:only-of-type {\n",
       "        vertical-align: middle;\n",
       "    }\n",
       "\n",
       "    .dataframe tbody tr th {\n",
       "        vertical-align: top;\n",
       "    }\n",
       "\n",
       "    .dataframe thead th {\n",
       "        text-align: right;\n",
       "    }\n",
       "</style>\n",
       "<table border=\"1\" class=\"dataframe\">\n",
       "  <thead>\n",
       "    <tr style=\"text-align: right;\">\n",
       "      <th></th>\n",
       "      <th>bank_id</th>\n",
       "      <th>amount</th>\n",
       "      <th>loan_id</th>\n",
       "      <th>bank_name</th>\n",
       "      <th>state</th>\n",
       "    </tr>\n",
       "  </thead>\n",
       "  <tbody>\n",
       "    <tr>\n",
       "      <th>0</th>\n",
       "      <td>544</td>\n",
       "      <td>300</td>\n",
       "      <td>aa0573f3-0cb4-4288-b505-02ce7b3d4c32</td>\n",
       "      <td>test2</td>\n",
       "      <td>None</td>\n",
       "    </tr>\n",
       "  </tbody>\n",
       "</table>\n",
       "</div>"
      ],
      "text/plain": [
       "   bank_id  amount                               loan_id bank_name state\n",
       "0      544     300  aa0573f3-0cb4-4288-b505-02ce7b3d4c32     test2  None"
      ]
     },
     "execution_count": 20,
     "metadata": {},
     "output_type": "execute_result"
    }
   ],
   "source": [
    "pd.DataFrame(cass.execute(\"select * from loans\"))"
   ]
  },
  {
   "cell_type": "markdown",
   "id": "48201a8a-2805-438a-9685-d4fc1e62d77b",
   "metadata": {},
   "source": [
    "### `NOW()` versus `UUID()`\n",
    "\n",
    "- both return UUIDs\n",
    "- `NOW()` is \"more\" unique (looks at MAC address, timestamp, sequence number)"
   ]
  },
  {
   "cell_type": "code",
   "execution_count": 21,
   "id": "6578126f-c042-4913-be4e-f36470f67986",
   "metadata": {},
   "outputs": [
    {
     "data": {
      "text/plain": [
       "<cassandra.cluster.ResultSet at 0x76a328253550>"
      ]
     },
     "execution_count": 21,
     "metadata": {},
     "output_type": "execute_result"
    }
   ],
   "source": [
    "cass.execute(\"\"\"\n",
    "INSERT INTO loans (bank_id, bank_name, amount, loan_id, state)\n",
    "VALUES (544, 'Chase', 400, NOW(), 'WI')\n",
    "\"\"\")"
   ]
  },
  {
   "cell_type": "code",
   "execution_count": 22,
   "id": "3f610009-5a65-46ca-a34b-6827f1ae46bf",
   "metadata": {},
   "outputs": [
    {
     "data": {
      "text/html": [
       "<div>\n",
       "<style scoped>\n",
       "    .dataframe tbody tr th:only-of-type {\n",
       "        vertical-align: middle;\n",
       "    }\n",
       "\n",
       "    .dataframe tbody tr th {\n",
       "        vertical-align: top;\n",
       "    }\n",
       "\n",
       "    .dataframe thead th {\n",
       "        text-align: right;\n",
       "    }\n",
       "</style>\n",
       "<table border=\"1\" class=\"dataframe\">\n",
       "  <thead>\n",
       "    <tr style=\"text-align: right;\">\n",
       "      <th></th>\n",
       "      <th>bank_id</th>\n",
       "      <th>amount</th>\n",
       "      <th>loan_id</th>\n",
       "      <th>bank_name</th>\n",
       "      <th>state</th>\n",
       "    </tr>\n",
       "  </thead>\n",
       "  <tbody>\n",
       "    <tr>\n",
       "      <th>0</th>\n",
       "      <td>544</td>\n",
       "      <td>400</td>\n",
       "      <td>a905f780-f35e-11ee-ace3-eb4804f1355e</td>\n",
       "      <td>mybank</td>\n",
       "      <td>WI</td>\n",
       "    </tr>\n",
       "    <tr>\n",
       "      <th>1</th>\n",
       "      <td>544</td>\n",
       "      <td>300</td>\n",
       "      <td>aa0573f3-0cb4-4288-b505-02ce7b3d4c32</td>\n",
       "      <td>mybank</td>\n",
       "      <td>None</td>\n",
       "    </tr>\n",
       "  </tbody>\n",
       "</table>\n",
       "</div>"
      ],
      "text/plain": [
       "   bank_id  amount                               loan_id bank_name state\n",
       "0      544     400  a905f780-f35e-11ee-ace3-eb4804f1355e    mybank    WI\n",
       "1      544     300  aa0573f3-0cb4-4288-b505-02ce7b3d4c32    mybank  None"
      ]
     },
     "execution_count": 22,
     "metadata": {},
     "output_type": "execute_result"
    }
   ],
   "source": [
    "pd.DataFrame(cass.execute(\"select * from loans\"))"
   ]
  },
  {
   "cell_type": "markdown",
   "id": "9da5eab5-389a-40bd-9fc7-0b6765aca790",
   "metadata": {},
   "source": [
    "##### **Observation:** Why did it modify \"bank_name\" column for the first loan that we previously inserted?\n",
    "\n",
    "- Recall that `bank_name` is a static column. It can only have one value per partition.\n",
    "- Also, even though partition key `bank_id` and static column `bank_name` can only have a unique value per partition, when you run a `SELECT *` query, it will just display that unique value for every row - making the output more readable."
   ]
  },
  {
   "cell_type": "markdown",
   "id": "5dabec81-a965-41b0-b649-e7661516c77f",
   "metadata": {},
   "source": [
    "Inserting a new loan into a new partition."
   ]
  },
  {
   "cell_type": "code",
   "execution_count": 23,
   "id": "a9d71268-841b-40ed-9b98-e9aadd4fa7f7",
   "metadata": {},
   "outputs": [
    {
     "data": {
      "text/plain": [
       "<cassandra.cluster.ResultSet at 0x76a328611210>"
      ]
     },
     "execution_count": 23,
     "metadata": {},
     "output_type": "execute_result"
    }
   ],
   "source": [
    "cass.execute(\"\"\"\n",
    "INSERT INTO loans (bank_id, bank_name, amount, loan_id, state)\n",
    "VALUES (999, 'UWCU', 500, NOW(), 'IL')\n",
    "\"\"\")"
   ]
  },
  {
   "cell_type": "code",
   "execution_count": 24,
   "id": "60eb9d8b-4c1e-4bd3-8016-c82c25be36b2",
   "metadata": {},
   "outputs": [
    {
     "data": {
      "text/html": [
       "<div>\n",
       "<style scoped>\n",
       "    .dataframe tbody tr th:only-of-type {\n",
       "        vertical-align: middle;\n",
       "    }\n",
       "\n",
       "    .dataframe tbody tr th {\n",
       "        vertical-align: top;\n",
       "    }\n",
       "\n",
       "    .dataframe thead th {\n",
       "        text-align: right;\n",
       "    }\n",
       "</style>\n",
       "<table border=\"1\" class=\"dataframe\">\n",
       "  <thead>\n",
       "    <tr style=\"text-align: right;\">\n",
       "      <th></th>\n",
       "      <th>bank_id</th>\n",
       "      <th>amount</th>\n",
       "      <th>loan_id</th>\n",
       "      <th>bank_name</th>\n",
       "      <th>state</th>\n",
       "    </tr>\n",
       "  </thead>\n",
       "  <tbody>\n",
       "    <tr>\n",
       "      <th>0</th>\n",
       "      <td>544</td>\n",
       "      <td>400</td>\n",
       "      <td>a905f780-f35e-11ee-ace3-eb4804f1355e</td>\n",
       "      <td>mybank</td>\n",
       "      <td>WI</td>\n",
       "    </tr>\n",
       "    <tr>\n",
       "      <th>1</th>\n",
       "      <td>544</td>\n",
       "      <td>300</td>\n",
       "      <td>aa0573f3-0cb4-4288-b505-02ce7b3d4c32</td>\n",
       "      <td>mybank</td>\n",
       "      <td>None</td>\n",
       "    </tr>\n",
       "    <tr>\n",
       "      <th>2</th>\n",
       "      <td>999</td>\n",
       "      <td>500</td>\n",
       "      <td>da482d30-f35f-11ee-90ed-71336e409d36</td>\n",
       "      <td>UWCU</td>\n",
       "      <td>IL</td>\n",
       "    </tr>\n",
       "  </tbody>\n",
       "</table>\n",
       "</div>"
      ],
      "text/plain": [
       "   bank_id  amount                               loan_id bank_name state\n",
       "0      544     400  a905f780-f35e-11ee-ace3-eb4804f1355e    mybank    WI\n",
       "1      544     300  aa0573f3-0cb4-4288-b505-02ce7b3d4c32    mybank  None\n",
       "2      999     500  da482d30-f35f-11ee-90ed-71336e409d36      UWCU    IL"
      ]
     },
     "execution_count": 24,
     "metadata": {},
     "output_type": "execute_result"
    }
   ],
   "source": [
    "pd.DataFrame(cass.execute(\"select * from loans\"))"
   ]
  },
  {
   "cell_type": "markdown",
   "id": "9c801c22-bc25-4a6f-8553-d1329449aa82",
   "metadata": {},
   "source": [
    "**Observation:** Cluster keys only sort data within a single partition."
   ]
  },
  {
   "cell_type": "markdown",
   "id": "4aa21626-2674-4164-aae0-1e483f16ae53",
   "metadata": {},
   "source": [
    "### Custom types\n",
    "\n",
    "Syntax: `TYPE <NAME> (field1, field2, ...)`"
   ]
  },
  {
   "cell_type": "code",
   "execution_count": 25,
   "id": "dc10724c-43b2-4e2f-b14c-551f19b752e6",
   "metadata": {},
   "outputs": [
    {
     "data": {
      "text/plain": [
       "<cassandra.cluster.ResultSet at 0x76a32849ca90>"
      ]
     },
     "execution_count": 25,
     "metadata": {},
     "output_type": "execute_result"
    }
   ],
   "source": [
    "cass.execute(\"\"\"\n",
    "CREATE TYPE FullName (first text, last text)\n",
    "\"\"\")"
   ]
  },
  {
   "cell_type": "markdown",
   "id": "0a3229d9-d5ad-499e-8cc4-2c4cc3a91519",
   "metadata": {},
   "source": [
    "### `alter` existing table\n",
    "\n",
    "Let's add `FullName` as a column"
   ]
  },
  {
   "cell_type": "code",
   "execution_count": 26,
   "id": "5320e23c-9d04-4226-b395-8069c9cb6ce3",
   "metadata": {},
   "outputs": [
    {
     "data": {
      "text/plain": [
       "<cassandra.cluster.ResultSet at 0x76a32860a050>"
      ]
     },
     "execution_count": 26,
     "metadata": {},
     "output_type": "execute_result"
    }
   ],
   "source": [
    "cass.execute(\"\"\"\n",
    "alter table loans add (username FullName)\n",
    "\"\"\")"
   ]
  },
  {
   "cell_type": "code",
   "execution_count": 27,
   "id": "bd1f34f6-c367-4286-ba7e-e8ca98e01a12",
   "metadata": {},
   "outputs": [
    {
     "data": {
      "text/plain": [
       "<cassandra.cluster.ResultSet at 0x76a35829ee60>"
      ]
     },
     "execution_count": 27,
     "metadata": {},
     "output_type": "execute_result"
    }
   ],
   "source": [
    "cass.execute(\"\"\"\n",
    "INSERT INTO loans (bank_id, bank_name, amount, loan_id, username)\n",
    "VALUES (999, 'UWCU', 500, NOW(), {first:'Meenakshi', last:'Syamkumar'})\n",
    "\"\"\")"
   ]
  },
  {
   "cell_type": "code",
   "execution_count": 28,
   "id": "7a0e7f6d-2bae-4339-8ebc-09730b54536b",
   "metadata": {},
   "outputs": [
    {
     "data": {
      "text/html": [
       "<div>\n",
       "<style scoped>\n",
       "    .dataframe tbody tr th:only-of-type {\n",
       "        vertical-align: middle;\n",
       "    }\n",
       "\n",
       "    .dataframe tbody tr th {\n",
       "        vertical-align: top;\n",
       "    }\n",
       "\n",
       "    .dataframe thead th {\n",
       "        text-align: right;\n",
       "    }\n",
       "</style>\n",
       "<table border=\"1\" class=\"dataframe\">\n",
       "  <thead>\n",
       "    <tr style=\"text-align: right;\">\n",
       "      <th></th>\n",
       "      <th>username</th>\n",
       "      <th>username_first</th>\n",
       "      <th>username_last</th>\n",
       "    </tr>\n",
       "  </thead>\n",
       "  <tbody>\n",
       "    <tr>\n",
       "      <th>0</th>\n",
       "      <td>None</td>\n",
       "      <td>None</td>\n",
       "      <td>None</td>\n",
       "    </tr>\n",
       "    <tr>\n",
       "      <th>1</th>\n",
       "      <td>None</td>\n",
       "      <td>None</td>\n",
       "      <td>None</td>\n",
       "    </tr>\n",
       "    <tr>\n",
       "      <th>2</th>\n",
       "      <td>None</td>\n",
       "      <td>None</td>\n",
       "      <td>None</td>\n",
       "    </tr>\n",
       "    <tr>\n",
       "      <th>3</th>\n",
       "      <td>(Meenakshi, Syamkumar)</td>\n",
       "      <td>Meenakshi</td>\n",
       "      <td>Syamkumar</td>\n",
       "    </tr>\n",
       "  </tbody>\n",
       "</table>\n",
       "</div>"
      ],
      "text/plain": [
       "                 username username_first username_last\n",
       "0                    None           None          None\n",
       "1                    None           None          None\n",
       "2                    None           None          None\n",
       "3  (Meenakshi, Syamkumar)      Meenakshi     Syamkumar"
      ]
     },
     "execution_count": 28,
     "metadata": {},
     "output_type": "execute_result"
    }
   ],
   "source": [
    "pd.DataFrame(cass.execute(\"\"\"\n",
    "SELECT username, username.first, username.last \n",
    "FROM loans\n",
    "\"\"\"))"
   ]
  },
  {
   "cell_type": "markdown",
   "id": "dcfade8a-2f76-4224-b83c-dd89601f282e",
   "metadata": {},
   "source": [
    "### Prepared statements\n",
    "\n",
    "works both for SQL and CQL"
   ]
  },
  {
   "cell_type": "code",
   "execution_count": 29,
   "id": "63287749-cd2c-478e-9776-2b2324f99dca",
   "metadata": {},
   "outputs": [],
   "source": [
    "uwcu_insert = cass.prepare(\"\"\"\n",
    "INSERT INTO loans (bank_id, bank_name, amount, loan_id, username)\n",
    "VALUES (999, 'UWCU', ?, NOW(), {first:?, last:?})\n",
    "\"\"\")"
   ]
  },
  {
   "cell_type": "code",
   "execution_count": 30,
   "id": "966ca824-8dac-4941-b611-6986e7321299",
   "metadata": {},
   "outputs": [
    {
     "data": {
      "text/plain": [
       "<cassandra.cluster.ResultSet at 0x76a3286939d0>"
      ]
     },
     "execution_count": 30,
     "metadata": {},
     "output_type": "execute_result"
    }
   ],
   "source": [
    "cass.execute(uwcu_insert, (300, \"Viyan\", \"Meero\"))"
   ]
  },
  {
   "cell_type": "code",
   "execution_count": 32,
   "id": "049b30aa-f614-4549-875c-e30317321a04",
   "metadata": {},
   "outputs": [
    {
     "data": {
      "text/html": [
       "<div>\n",
       "<style scoped>\n",
       "    .dataframe tbody tr th:only-of-type {\n",
       "        vertical-align: middle;\n",
       "    }\n",
       "\n",
       "    .dataframe tbody tr th {\n",
       "        vertical-align: top;\n",
       "    }\n",
       "\n",
       "    .dataframe thead th {\n",
       "        text-align: right;\n",
       "    }\n",
       "</style>\n",
       "<table border=\"1\" class=\"dataframe\">\n",
       "  <thead>\n",
       "    <tr style=\"text-align: right;\">\n",
       "      <th></th>\n",
       "      <th>bank_id</th>\n",
       "      <th>amount</th>\n",
       "      <th>loan_id</th>\n",
       "      <th>bank_name</th>\n",
       "      <th>state</th>\n",
       "      <th>username</th>\n",
       "    </tr>\n",
       "  </thead>\n",
       "  <tbody>\n",
       "    <tr>\n",
       "      <th>0</th>\n",
       "      <td>544</td>\n",
       "      <td>400</td>\n",
       "      <td>a905f780-f35e-11ee-ace3-eb4804f1355e</td>\n",
       "      <td>mybank</td>\n",
       "      <td>WI</td>\n",
       "      <td>None</td>\n",
       "    </tr>\n",
       "    <tr>\n",
       "      <th>1</th>\n",
       "      <td>544</td>\n",
       "      <td>300</td>\n",
       "      <td>aa0573f3-0cb4-4288-b505-02ce7b3d4c32</td>\n",
       "      <td>mybank</td>\n",
       "      <td>None</td>\n",
       "      <td>None</td>\n",
       "    </tr>\n",
       "    <tr>\n",
       "      <th>2</th>\n",
       "      <td>999</td>\n",
       "      <td>500</td>\n",
       "      <td>da482d30-f35f-11ee-90ed-71336e409d36</td>\n",
       "      <td>UWCU</td>\n",
       "      <td>IL</td>\n",
       "      <td>None</td>\n",
       "    </tr>\n",
       "    <tr>\n",
       "      <th>3</th>\n",
       "      <td>999</td>\n",
       "      <td>500</td>\n",
       "      <td>4a7510a0-f360-11ee-ace3-eb4804f1355e</td>\n",
       "      <td>UWCU</td>\n",
       "      <td>None</td>\n",
       "      <td>(Meenakshi, Syamkumar)</td>\n",
       "    </tr>\n",
       "    <tr>\n",
       "      <th>4</th>\n",
       "      <td>999</td>\n",
       "      <td>300</td>\n",
       "      <td>3f33e580-f36b-11ee-ace3-eb4804f1355e</td>\n",
       "      <td>UWCU</td>\n",
       "      <td>None</td>\n",
       "      <td>(Viyan, Meero)</td>\n",
       "    </tr>\n",
       "  </tbody>\n",
       "</table>\n",
       "</div>"
      ],
      "text/plain": [
       "   bank_id  amount                               loan_id bank_name state  \\\n",
       "0      544     400  a905f780-f35e-11ee-ace3-eb4804f1355e    mybank    WI   \n",
       "1      544     300  aa0573f3-0cb4-4288-b505-02ce7b3d4c32    mybank  None   \n",
       "2      999     500  da482d30-f35f-11ee-90ed-71336e409d36      UWCU    IL   \n",
       "3      999     500  4a7510a0-f360-11ee-ace3-eb4804f1355e      UWCU  None   \n",
       "4      999     300  3f33e580-f36b-11ee-ace3-eb4804f1355e      UWCU  None   \n",
       "\n",
       "                 username  \n",
       "0                    None  \n",
       "1                    None  \n",
       "2                    None  \n",
       "3  (Meenakshi, Syamkumar)  \n",
       "4          (Viyan, Meero)  "
      ]
     },
     "execution_count": 32,
     "metadata": {},
     "output_type": "execute_result"
    }
   ],
   "source": [
    "pd.DataFrame(cass.execute(\"select * from loans\"))"
   ]
  },
  {
   "cell_type": "markdown",
   "id": "9bf8f9db-b3cc-48fe-9ae9-6032c88b1615",
   "metadata": {},
   "source": [
    "#### Configuration options for prepared statements"
   ]
  },
  {
   "cell_type": "code",
   "execution_count": 34,
   "id": "183b8f5e-210f-400c-bdc5-a4f844df403c",
   "metadata": {},
   "outputs": [],
   "source": [
    "# uwcu_insert.<VARIOUS_CONFIG>"
   ]
  },
  {
   "cell_type": "markdown",
   "id": "f00c8e71-c81a-4b4b-92b8-9f338910a39e",
   "metadata": {},
   "source": [
    "### GROUP BYs\n",
    "\n",
    "#### What is the average loan amount per bank?"
   ]
  },
  {
   "cell_type": "code",
   "execution_count": 35,
   "id": "008467a1-0b08-4f52-9fe6-a2bdd4857bf2",
   "metadata": {},
   "outputs": [
    {
     "data": {
      "text/html": [
       "<div>\n",
       "<style scoped>\n",
       "    .dataframe tbody tr th:only-of-type {\n",
       "        vertical-align: middle;\n",
       "    }\n",
       "\n",
       "    .dataframe tbody tr th {\n",
       "        vertical-align: top;\n",
       "    }\n",
       "\n",
       "    .dataframe thead th {\n",
       "        text-align: right;\n",
       "    }\n",
       "</style>\n",
       "<table border=\"1\" class=\"dataframe\">\n",
       "  <thead>\n",
       "    <tr style=\"text-align: right;\">\n",
       "      <th></th>\n",
       "      <th>bank_id</th>\n",
       "      <th>bank_name</th>\n",
       "      <th>system_avg_amount</th>\n",
       "    </tr>\n",
       "  </thead>\n",
       "  <tbody>\n",
       "    <tr>\n",
       "      <th>0</th>\n",
       "      <td>544</td>\n",
       "      <td>mybank</td>\n",
       "      <td>350</td>\n",
       "    </tr>\n",
       "    <tr>\n",
       "      <th>1</th>\n",
       "      <td>999</td>\n",
       "      <td>UWCU</td>\n",
       "      <td>433</td>\n",
       "    </tr>\n",
       "  </tbody>\n",
       "</table>\n",
       "</div>"
      ],
      "text/plain": [
       "   bank_id bank_name  system_avg_amount\n",
       "0      544    mybank                350\n",
       "1      999      UWCU                433"
      ]
     },
     "execution_count": 35,
     "metadata": {},
     "output_type": "execute_result"
    }
   ],
   "source": [
    "pd.DataFrame(cass.execute(\"\"\"\n",
    "SELECT bank_id, bank_name, AVG(amount)\n",
    "FROM loans\n",
    "GROUP BY bank_id\n",
    "\"\"\"))"
   ]
  },
  {
   "cell_type": "markdown",
   "id": "e94956f0-9149-498f-8723-db6d0cc579fa",
   "metadata": {},
   "source": [
    "#### What is the average loan amount per state?"
   ]
  },
  {
   "cell_type": "code",
   "execution_count": 36,
   "id": "7f656c58-c547-4814-9952-6ed606c05749",
   "metadata": {},
   "outputs": [
    {
     "ename": "InvalidRequest",
     "evalue": "Error from server: code=2200 [Invalid query] message=\"Group by is currently only supported on the columns of the PRIMARY KEY, got state\"",
     "output_type": "error",
     "traceback": [
      "\u001b[0;31m---------------------------------------------------------------------------\u001b[0m",
      "\u001b[0;31mInvalidRequest\u001b[0m                            Traceback (most recent call last)",
      "Cell \u001b[0;32mIn[36], line 1\u001b[0m\n\u001b[0;32m----> 1\u001b[0m pd\u001b[38;5;241m.\u001b[39mDataFrame(\u001b[43mcass\u001b[49m\u001b[38;5;241;43m.\u001b[39;49m\u001b[43mexecute\u001b[49m\u001b[43m(\u001b[49m\u001b[38;5;124;43m\"\"\"\u001b[39;49m\n\u001b[1;32m      2\u001b[0m \u001b[38;5;124;43mSELECT state, AVG(amount)\u001b[39;49m\n\u001b[1;32m      3\u001b[0m \u001b[38;5;124;43mFROM loans\u001b[39;49m\n\u001b[1;32m      4\u001b[0m \u001b[38;5;124;43mGROUP BY state\u001b[39;49m\n\u001b[1;32m      5\u001b[0m \u001b[38;5;124;43m\"\"\"\u001b[39;49m\u001b[43m)\u001b[49m)\n",
      "File \u001b[0;32m/usr/local/lib/python3.10/dist-packages/cassandra/cluster.py:2637\u001b[0m, in \u001b[0;36mcassandra.cluster.Session.execute\u001b[0;34m()\u001b[0m\n",
      "File \u001b[0;32m/usr/local/lib/python3.10/dist-packages/cassandra/cluster.py:4920\u001b[0m, in \u001b[0;36mcassandra.cluster.ResponseFuture.result\u001b[0;34m()\u001b[0m\n",
      "\u001b[0;31mInvalidRequest\u001b[0m: Error from server: code=2200 [Invalid query] message=\"Group by is currently only supported on the columns of the PRIMARY KEY, got state\""
     ]
    }
   ],
   "source": [
    "pd.DataFrame(cass.execute(\"\"\"\n",
    "SELECT state, AVG(amount)\n",
    "FROM loans\n",
    "GROUP BY state\n",
    "\"\"\"))"
   ]
  },
  {
   "cell_type": "markdown",
   "id": "68bc9b01-acb3-41f8-b15b-c3a141984b9e",
   "metadata": {},
   "source": [
    "**Observation**: can only group by partition key (or partition key with some more columns of the primary key).<br>\n",
    "**Observation**: it is for transaction processing and not analytics."
   ]
  },
  {
   "cell_type": "markdown",
   "id": "7424a03a-ebd7-4fb5-8642-04a101fbbae8",
   "metadata": {},
   "source": [
    "### Spark solution"
   ]
  },
  {
   "cell_type": "code",
   "execution_count": 38,
   "id": "7f73a3e5-48da-415b-a656-b2a7b2d42b11",
   "metadata": {},
   "outputs": [],
   "source": [
    "from pyspark.sql import SparkSession\n",
    "spark = (SparkSession.builder\n",
    "         .appName(\"cs544\")\n",
    "         .config('spark.jars.packages', \\\n",
    "                 'com.datastax.spark:spark-cassandra-connector_2.12:3.4.0')\n",
    "         .config(\"spark.sql.extensions\", \\\n",
    "                 \"com.datastax.spark.connector.CassandraSparkExtensions\")\n",
    "         .getOrCreate())"
   ]
  },
  {
   "cell_type": "markdown",
   "id": "5a27b2dc-9dd8-4936-9b2a-99050708cb81",
   "metadata": {},
   "source": [
    "### Reading data into Spark\n",
    "\n",
    "### Approach 1: individual DataFrame\n",
    "\n",
    "```python\n",
    "spark.read.format(\"org.apache.spark.sql.cassandra\")\n",
    ".option(\"spark.cassandra.connection.host\", \"????\")\n",
    ".option(\"keyspace\", ????)\n",
    ".option(\"table\", ????)\n",
    ".load()\n",
    "\n",
    "```"
   ]
  },
  {
   "cell_type": "markdown",
   "id": "38c0be6b-9e29-4594-8d1e-d686843ffa07",
   "metadata": {},
   "source": [
    "### Approach 2: catalogs\n",
    "\n",
    "- set of tables that `Spark` can see, which can either be managed by `Spark` or some other system"
   ]
  },
  {
   "cell_type": "code",
   "execution_count": 39,
   "id": "ed5247f6-df88-4552-bd6c-8583a77c08a8",
   "metadata": {},
   "outputs": [],
   "source": [
    "spark.conf.set(\"spark.sql.catalog.mycat\", \\\n",
    "               \"com.datastax.spark.connector.datasource.CassandraCatalog\")\n",
    "spark.conf.set(\"spark.sql.catalog.mycat.spark.cassandra.connection.host\", \\\n",
    "               \"demo-db-1,demo-db-2,demo-db-3\")"
   ]
  },
  {
   "cell_type": "markdown",
   "id": "32357ba0-a29c-4bf3-8d08-4643f5912b25",
   "metadata": {},
   "source": [
    "### Spark SQL\n",
    "\n",
    "Syntax: `FROM <catalog>.<keyspace>.<table>`"
   ]
  },
  {
   "cell_type": "code",
   "execution_count": 40,
   "id": "31e4c591-ae11-4515-b22d-9a04c364a32a",
   "metadata": {},
   "outputs": [
    {
     "data": {
      "text/plain": [
       "DataFrame[bank_id: int, amount: int, loan_id: string, state: string, username: struct<first:string,last:string>, bank_name: string]"
      ]
     },
     "execution_count": 40,
     "metadata": {},
     "output_type": "execute_result"
    }
   ],
   "source": [
    "spark.sql(\"\"\"\n",
    "SELECT *\n",
    "FROM mycat.banking.loans\n",
    "\"\"\")"
   ]
  },
  {
   "cell_type": "code",
   "execution_count": 41,
   "id": "908dd875-8fd7-4458-8441-93a50ccfe88e",
   "metadata": {},
   "outputs": [
    {
     "name": "stderr",
     "output_type": "stream",
     "text": [
      "                                                                                \r"
     ]
    },
    {
     "data": {
      "text/html": [
       "<div>\n",
       "<style scoped>\n",
       "    .dataframe tbody tr th:only-of-type {\n",
       "        vertical-align: middle;\n",
       "    }\n",
       "\n",
       "    .dataframe tbody tr th {\n",
       "        vertical-align: top;\n",
       "    }\n",
       "\n",
       "    .dataframe thead th {\n",
       "        text-align: right;\n",
       "    }\n",
       "</style>\n",
       "<table border=\"1\" class=\"dataframe\">\n",
       "  <thead>\n",
       "    <tr style=\"text-align: right;\">\n",
       "      <th></th>\n",
       "      <th>bank_id</th>\n",
       "      <th>amount</th>\n",
       "      <th>loan_id</th>\n",
       "      <th>state</th>\n",
       "      <th>username</th>\n",
       "      <th>bank_name</th>\n",
       "    </tr>\n",
       "  </thead>\n",
       "  <tbody>\n",
       "    <tr>\n",
       "      <th>0</th>\n",
       "      <td>999</td>\n",
       "      <td>500</td>\n",
       "      <td>da482d30-f35f-11ee-90ed-71336e409d36</td>\n",
       "      <td>IL</td>\n",
       "      <td>None</td>\n",
       "      <td>UWCU</td>\n",
       "    </tr>\n",
       "    <tr>\n",
       "      <th>1</th>\n",
       "      <td>999</td>\n",
       "      <td>500</td>\n",
       "      <td>4a7510a0-f360-11ee-ace3-eb4804f1355e</td>\n",
       "      <td>None</td>\n",
       "      <td>(Meenakshi, Syamkumar)</td>\n",
       "      <td>UWCU</td>\n",
       "    </tr>\n",
       "    <tr>\n",
       "      <th>2</th>\n",
       "      <td>999</td>\n",
       "      <td>300</td>\n",
       "      <td>3f33e580-f36b-11ee-ace3-eb4804f1355e</td>\n",
       "      <td>None</td>\n",
       "      <td>(Viyan, Meero)</td>\n",
       "      <td>UWCU</td>\n",
       "    </tr>\n",
       "    <tr>\n",
       "      <th>3</th>\n",
       "      <td>544</td>\n",
       "      <td>400</td>\n",
       "      <td>a905f780-f35e-11ee-ace3-eb4804f1355e</td>\n",
       "      <td>WI</td>\n",
       "      <td>None</td>\n",
       "      <td>mybank</td>\n",
       "    </tr>\n",
       "    <tr>\n",
       "      <th>4</th>\n",
       "      <td>544</td>\n",
       "      <td>300</td>\n",
       "      <td>aa0573f3-0cb4-4288-b505-02ce7b3d4c32</td>\n",
       "      <td>None</td>\n",
       "      <td>None</td>\n",
       "      <td>mybank</td>\n",
       "    </tr>\n",
       "  </tbody>\n",
       "</table>\n",
       "</div>"
      ],
      "text/plain": [
       "   bank_id  amount                               loan_id state  \\\n",
       "0      999     500  da482d30-f35f-11ee-90ed-71336e409d36    IL   \n",
       "1      999     500  4a7510a0-f360-11ee-ace3-eb4804f1355e  None   \n",
       "2      999     300  3f33e580-f36b-11ee-ace3-eb4804f1355e  None   \n",
       "3      544     400  a905f780-f35e-11ee-ace3-eb4804f1355e    WI   \n",
       "4      544     300  aa0573f3-0cb4-4288-b505-02ce7b3d4c32  None   \n",
       "\n",
       "                 username bank_name  \n",
       "0                    None      UWCU  \n",
       "1  (Meenakshi, Syamkumar)      UWCU  \n",
       "2          (Viyan, Meero)      UWCU  \n",
       "3                    None    mybank  \n",
       "4                    None    mybank  "
      ]
     },
     "execution_count": 41,
     "metadata": {},
     "output_type": "execute_result"
    }
   ],
   "source": [
    "spark.sql(\"\"\"\n",
    "SELECT *\n",
    "FROM mycat.banking.loans\n",
    "\"\"\").toPandas()"
   ]
  },
  {
   "cell_type": "markdown",
   "id": "16dc2f42-4a6c-4d04-89f4-5a5361023316",
   "metadata": {},
   "source": [
    "#### What is the average loan amount per state?"
   ]
  },
  {
   "cell_type": "code",
   "execution_count": 42,
   "id": "53ab45ea-ff3a-4af9-98d1-1529c25929e8",
   "metadata": {},
   "outputs": [
    {
     "name": "stderr",
     "output_type": "stream",
     "text": [
      "                                                                                \r"
     ]
    },
    {
     "data": {
      "text/html": [
       "<div>\n",
       "<style scoped>\n",
       "    .dataframe tbody tr th:only-of-type {\n",
       "        vertical-align: middle;\n",
       "    }\n",
       "\n",
       "    .dataframe tbody tr th {\n",
       "        vertical-align: top;\n",
       "    }\n",
       "\n",
       "    .dataframe thead th {\n",
       "        text-align: right;\n",
       "    }\n",
       "</style>\n",
       "<table border=\"1\" class=\"dataframe\">\n",
       "  <thead>\n",
       "    <tr style=\"text-align: right;\">\n",
       "      <th></th>\n",
       "      <th>state</th>\n",
       "      <th>avg(amount)</th>\n",
       "    </tr>\n",
       "  </thead>\n",
       "  <tbody>\n",
       "    <tr>\n",
       "      <th>0</th>\n",
       "      <td>None</td>\n",
       "      <td>366.666667</td>\n",
       "    </tr>\n",
       "    <tr>\n",
       "      <th>1</th>\n",
       "      <td>WI</td>\n",
       "      <td>400.000000</td>\n",
       "    </tr>\n",
       "    <tr>\n",
       "      <th>2</th>\n",
       "      <td>IL</td>\n",
       "      <td>500.000000</td>\n",
       "    </tr>\n",
       "  </tbody>\n",
       "</table>\n",
       "</div>"
      ],
      "text/plain": [
       "  state  avg(amount)\n",
       "0  None   366.666667\n",
       "1    WI   400.000000\n",
       "2    IL   500.000000"
      ]
     },
     "execution_count": 42,
     "metadata": {},
     "output_type": "execute_result"
    }
   ],
   "source": [
    "spark.sql(\"\"\"\n",
    "SELECT state, AVG(amount)\n",
    "FROM mycat.banking.loans\n",
    "GROUP BY state\n",
    "\"\"\").toPandas()"
   ]
  },
  {
   "cell_type": "markdown",
   "id": "6d77fd4f-9fb5-45bd-97ff-e69787d7d807",
   "metadata": {},
   "source": [
    "We could dump this data somewhere like into HDFS or Hive or wherever you want to."
   ]
  },
  {
   "cell_type": "code",
   "execution_count": null,
   "id": "e6d6e24b-5963-4de2-acdf-61b3903445c1",
   "metadata": {},
   "outputs": [],
   "source": [
    "# spark.sql(\"\"\"\n",
    "# SELECT *\n",
    "# FROM mycat.banking.loans\n",
    "# \"\"\").write....."
   ]
  },
  {
   "cell_type": "markdown",
   "id": "1e801025-f8de-431a-8b03-c13b4253910f",
   "metadata": {},
   "source": [
    "### Spark - Hash Partitioning Demo\n",
    "\n",
    "It's Not elastic!"
   ]
  },
  {
   "cell_type": "code",
   "execution_count": 43,
   "id": "e0f04cf5-0467-493d-86cf-42a90ffb6605",
   "metadata": {},
   "outputs": [],
   "source": [
    "import string"
   ]
  },
  {
   "cell_type": "code",
   "execution_count": 45,
   "id": "34137f34-0d27-43d3-a6be-97dc202eb460",
   "metadata": {},
   "outputs": [
    {
     "data": {
      "text/plain": [
       "'ABCDEFGHIJKLMNOPQRSTUVWXYZ'"
      ]
     },
     "execution_count": 45,
     "metadata": {},
     "output_type": "execute_result"
    }
   ],
   "source": [
    "string.ascii_uppercase"
   ]
  },
  {
   "cell_type": "code",
   "execution_count": 44,
   "id": "d3603d7b-7bda-4852-913a-6a0ed7ec30cc",
   "metadata": {},
   "outputs": [
    {
     "data": {
      "text/html": [
       "<div>\n",
       "<style scoped>\n",
       "    .dataframe tbody tr th:only-of-type {\n",
       "        vertical-align: middle;\n",
       "    }\n",
       "\n",
       "    .dataframe tbody tr th {\n",
       "        vertical-align: top;\n",
       "    }\n",
       "\n",
       "    .dataframe thead th {\n",
       "        text-align: right;\n",
       "    }\n",
       "</style>\n",
       "<table border=\"1\" class=\"dataframe\">\n",
       "  <thead>\n",
       "    <tr style=\"text-align: right;\">\n",
       "      <th></th>\n",
       "      <th>letter</th>\n",
       "    </tr>\n",
       "  </thead>\n",
       "  <tbody>\n",
       "    <tr>\n",
       "      <th>0</th>\n",
       "      <td>A</td>\n",
       "    </tr>\n",
       "    <tr>\n",
       "      <th>1</th>\n",
       "      <td>B</td>\n",
       "    </tr>\n",
       "    <tr>\n",
       "      <th>2</th>\n",
       "      <td>C</td>\n",
       "    </tr>\n",
       "    <tr>\n",
       "      <th>3</th>\n",
       "      <td>D</td>\n",
       "    </tr>\n",
       "    <tr>\n",
       "      <th>4</th>\n",
       "      <td>E</td>\n",
       "    </tr>\n",
       "  </tbody>\n",
       "</table>\n",
       "</div>"
      ],
      "text/plain": [
       "  letter\n",
       "0      A\n",
       "1      B\n",
       "2      C\n",
       "3      D\n",
       "4      E"
      ]
     },
     "execution_count": 44,
     "metadata": {},
     "output_type": "execute_result"
    }
   ],
   "source": [
    "df = pd.DataFrame({\"letter\": list(string.ascii_uppercase)})\n",
    "df.head()"
   ]
  },
  {
   "cell_type": "code",
   "execution_count": 46,
   "id": "cb2b1db1-3449-4189-8a91-ec8154ba8d78",
   "metadata": {},
   "outputs": [
    {
     "data": {
      "text/html": [
       "<div>\n",
       "<style scoped>\n",
       "    .dataframe tbody tr th:only-of-type {\n",
       "        vertical-align: middle;\n",
       "    }\n",
       "\n",
       "    .dataframe tbody tr th {\n",
       "        vertical-align: top;\n",
       "    }\n",
       "\n",
       "    .dataframe thead th {\n",
       "        text-align: right;\n",
       "    }\n",
       "</style>\n",
       "<table border=\"1\" class=\"dataframe\">\n",
       "  <thead>\n",
       "    <tr style=\"text-align: right;\">\n",
       "      <th></th>\n",
       "      <th>letter</th>\n",
       "      <th>partition1</th>\n",
       "    </tr>\n",
       "  </thead>\n",
       "  <tbody>\n",
       "    <tr>\n",
       "      <th>0</th>\n",
       "      <td>A</td>\n",
       "      <td>3</td>\n",
       "    </tr>\n",
       "    <tr>\n",
       "      <th>1</th>\n",
       "      <td>B</td>\n",
       "      <td>3</td>\n",
       "    </tr>\n",
       "    <tr>\n",
       "      <th>2</th>\n",
       "      <td>C</td>\n",
       "      <td>2</td>\n",
       "    </tr>\n",
       "    <tr>\n",
       "      <th>3</th>\n",
       "      <td>D</td>\n",
       "      <td>3</td>\n",
       "    </tr>\n",
       "    <tr>\n",
       "      <th>4</th>\n",
       "      <td>E</td>\n",
       "      <td>2</td>\n",
       "    </tr>\n",
       "  </tbody>\n",
       "</table>\n",
       "</div>"
      ],
      "text/plain": [
       "  letter  partition1\n",
       "0      A           3\n",
       "1      B           3\n",
       "2      C           2\n",
       "3      D           3\n",
       "4      E           2"
      ]
     },
     "execution_count": 46,
     "metadata": {},
     "output_type": "execute_result"
    }
   ],
   "source": [
    "df[\"partition1\"] = df[\"letter\"].apply(lambda letter: hash(letter) % 4)\n",
    "df.head()"
   ]
  },
  {
   "cell_type": "code",
   "execution_count": 48,
   "id": "7a45385a-2d59-43bb-bfca-55e119aeb81a",
   "metadata": {},
   "outputs": [
    {
     "data": {
      "text/html": [
       "<div>\n",
       "<style scoped>\n",
       "    .dataframe tbody tr th:only-of-type {\n",
       "        vertical-align: middle;\n",
       "    }\n",
       "\n",
       "    .dataframe tbody tr th {\n",
       "        vertical-align: top;\n",
       "    }\n",
       "\n",
       "    .dataframe thead th {\n",
       "        text-align: right;\n",
       "    }\n",
       "</style>\n",
       "<table border=\"1\" class=\"dataframe\">\n",
       "  <thead>\n",
       "    <tr style=\"text-align: right;\">\n",
       "      <th></th>\n",
       "      <th>letter</th>\n",
       "      <th>partition1</th>\n",
       "      <th>partition2</th>\n",
       "    </tr>\n",
       "  </thead>\n",
       "  <tbody>\n",
       "    <tr>\n",
       "      <th>0</th>\n",
       "      <td>A</td>\n",
       "      <td>3</td>\n",
       "      <td>1</td>\n",
       "    </tr>\n",
       "    <tr>\n",
       "      <th>1</th>\n",
       "      <td>B</td>\n",
       "      <td>3</td>\n",
       "      <td>0</td>\n",
       "    </tr>\n",
       "    <tr>\n",
       "      <th>2</th>\n",
       "      <td>C</td>\n",
       "      <td>2</td>\n",
       "      <td>4</td>\n",
       "    </tr>\n",
       "    <tr>\n",
       "      <th>3</th>\n",
       "      <td>D</td>\n",
       "      <td>3</td>\n",
       "      <td>3</td>\n",
       "    </tr>\n",
       "    <tr>\n",
       "      <th>4</th>\n",
       "      <td>E</td>\n",
       "      <td>2</td>\n",
       "      <td>3</td>\n",
       "    </tr>\n",
       "  </tbody>\n",
       "</table>\n",
       "</div>"
      ],
      "text/plain": [
       "  letter  partition1  partition2\n",
       "0      A           3           1\n",
       "1      B           3           0\n",
       "2      C           2           4\n",
       "3      D           3           3\n",
       "4      E           2           3"
      ]
     },
     "execution_count": 48,
     "metadata": {},
     "output_type": "execute_result"
    }
   ],
   "source": [
    "df[\"partition2\"] = df[\"letter\"].apply(lambda letter: hash(letter) % 5)\n",
    "df.head()"
   ]
  },
  {
   "cell_type": "markdown",
   "id": "567c8b38-0727-4c1f-927f-49183327a855",
   "metadata": {},
   "source": [
    "Let's compare partition1 and partition2 results."
   ]
  },
  {
   "cell_type": "code",
   "execution_count": 50,
   "id": "97206386-d9c2-4109-9d02-52ef649c68b2",
   "metadata": {},
   "outputs": [
    {
     "data": {
      "text/plain": [
       "0     False\n",
       "1     False\n",
       "2     False\n",
       "3      True\n",
       "4     False\n",
       "5      True\n",
       "6     False\n",
       "7     False\n",
       "8     False\n",
       "9     False\n",
       "10     True\n",
       "11    False\n",
       "12    False\n",
       "13     True\n",
       "14    False\n",
       "15     True\n",
       "16    False\n",
       "17    False\n",
       "18     True\n",
       "19    False\n",
       "20    False\n",
       "21    False\n",
       "22    False\n",
       "23    False\n",
       "24     True\n",
       "25    False\n",
       "dtype: bool"
      ]
     },
     "execution_count": 50,
     "metadata": {},
     "output_type": "execute_result"
    }
   ],
   "source": [
    "df[\"partition1\"] == df[\"partition2\"]"
   ]
  },
  {
   "cell_type": "code",
   "execution_count": 49,
   "id": "1aaff24e-7b65-4cad-9d9e-57c9a9d37f89",
   "metadata": {},
   "outputs": [
    {
     "data": {
      "text/plain": [
       "0.2692307692307692"
      ]
     },
     "execution_count": 49,
     "metadata": {},
     "output_type": "execute_result"
    }
   ],
   "source": [
    "(df[\"partition1\"] == df[\"partition2\"]).mean()"
   ]
  },
  {
   "cell_type": "markdown",
   "id": "0640ba76-9c98-41cd-a587-6647879d1609",
   "metadata": {},
   "source": [
    "**Observation**: Only few of the letters stayed with the same partition number."
   ]
  }
 ],
 "metadata": {
  "kernelspec": {
   "display_name": "Python 3 (ipykernel)",
   "language": "python",
   "name": "python3"
  },
  "language_info": {
   "codemirror_mode": {
    "name": "ipython",
    "version": 3
   },
   "file_extension": ".py",
   "mimetype": "text/x-python",
   "name": "python",
   "nbconvert_exporter": "python",
   "pygments_lexer": "ipython3",
   "version": "3.10.12"
  }
 },
 "nbformat": 4,
 "nbformat_minor": 5
}
