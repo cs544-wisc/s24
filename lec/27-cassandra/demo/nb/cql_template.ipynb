{
 "cells": [
  {
   "cell_type": "markdown",
   "id": "aac26779-a084-4579-aaaf-fbd1c96d0694",
   "metadata": {},
   "source": [
    "## Cassandra Query Language (CQL)"
   ]
  },
  {
   "cell_type": "markdown",
   "id": "879b3c10-c02a-4ef3-ae97-081aadbf7a51",
   "metadata": {},
   "source": [
    "### Review commands from previous lecture"
   ]
  },
  {
   "cell_type": "code",
   "execution_count": null,
   "id": "786470f5-3f77-4914-a727-147175fe9b3a",
   "metadata": {},
   "outputs": [],
   "source": [
    "!nodetool status"
   ]
  },
  {
   "cell_type": "code",
   "execution_count": null,
   "id": "0a4167b0-b79c-4a01-9e5a-12fc09fbf56f",
   "metadata": {},
   "outputs": [],
   "source": [
    "from cassandra.cluster import Cluster\n",
    "import pandas as pd"
   ]
  },
  {
   "cell_type": "code",
   "execution_count": null,
   "id": "8408625e-f34c-443b-9a36-b3de4ccf6bbe",
   "metadata": {},
   "outputs": [],
   "source": [
    "cluster = Cluster([\"demo-db-1\", \"demo-db-2\", \"demo-db-3\"])\n",
    "cass = cluster.connect()"
   ]
  },
  {
   "cell_type": "markdown",
   "id": "e32205ae-6f99-4d6c-ad6f-9f910db4e5e9",
   "metadata": {},
   "source": [
    "For `Cluster` configuration, we don't really need to type out each node name. Reason: what if we had 100s of nodes! Just typing a few node names will be sufficient here."
   ]
  },
  {
   "cell_type": "markdown",
   "id": "4fbcde66-b2bd-4942-94be-e8540949f056",
   "metadata": {},
   "source": [
    "#### If you din't manually create the `banking` keyspace, then execute below cell"
   ]
  },
  {
   "cell_type": "code",
   "execution_count": null,
   "id": "0b0cde7c-279d-40a5-82b5-973ebd3132ce",
   "metadata": {},
   "outputs": [],
   "source": [
    "cass.execute(\"\"\"\n",
    "create keyspace banking with \n",
    "replication = {'class': 'SimpleStrategy', 'replication_factor': 3};\n",
    "\"\"\")"
   ]
  },
  {
   "cell_type": "markdown",
   "id": "d45eed03-a158-467d-aa2d-74d4afbaafe3",
   "metadata": {},
   "source": [
    "Let's use `banking` keyspace."
   ]
  },
  {
   "cell_type": "code",
   "execution_count": null,
   "id": "70d80d5c-d7f8-4883-a3dd-2d9e83213a41",
   "metadata": {},
   "outputs": [],
   "source": []
  },
  {
   "cell_type": "markdown",
   "id": "85775eb3-307c-414c-9f2c-2ba78d5ea46d",
   "metadata": {},
   "source": [
    "### Cassandra table creation\n",
    "\n",
    "Let's create loans table."
   ]
  },
  {
   "cell_type": "code",
   "execution_count": null,
   "id": "117049fe-00ea-4d08-97fb-64d985a926af",
   "metadata": {},
   "outputs": [],
   "source": [
    "cass.execute(\"\"\"\n",
    "create table loans(\n",
    "    bank_id INT,\n",
    "    bank_name TEXT,\n",
    "    loan_id UUID,\n",
    "    amount INT,\n",
    "    state TEXT,\n",
    ")\n",
    "\"\"\")"
   ]
  },
  {
   "cell_type": "markdown",
   "id": "9e2559d9-e3b8-4ef8-9163-70606093b9b3",
   "metadata": {},
   "source": [
    "#### What is UUID? \n",
    "\n",
    "- It stands for \"Universally Unique Identifier\".\n",
    "- Globally unique across all computing machines."
   ]
  },
  {
   "cell_type": "markdown",
   "id": "4703d8ab-d5d5-4612-8e7c-9655e89fbf4f",
   "metadata": {},
   "source": [
    "#### Primary key specification\n",
    "\n",
    "Syntax: `PRIMARY KEY(parition_key, cluster_key)`"
   ]
  },
  {
   "cell_type": "code",
   "execution_count": null,
   "id": "aa632838-9630-4c6f-b8f5-048db9f86312",
   "metadata": {},
   "outputs": [],
   "source": [
    "cass.execute(\"\"\"\n",
    "create table loans(\n",
    "    bank_id INT,\n",
    "    bank_name TEXT,\n",
    "    loan_id UUID,\n",
    "    amount INT,\n",
    "    state TEXT,\n",
    ")\n",
    "\"\"\")"
   ]
  },
  {
   "cell_type": "markdown",
   "id": "eb4b96b3-8c2a-438c-9224-d259a29fa694",
   "metadata": {},
   "source": [
    "Let's take a peek at the table."
   ]
  },
  {
   "cell_type": "code",
   "execution_count": null,
   "id": "64cbb760-50a7-4da9-983b-1b83c1f3d70d",
   "metadata": {},
   "outputs": [],
   "source": [
    "# one() enables us to extract the one row from the result"
   ]
  },
  {
   "cell_type": "code",
   "execution_count": null,
   "id": "2c4f3a09-c6b3-4d59-88f8-b46b971aeb1e",
   "metadata": {},
   "outputs": [],
   "source": [
    "print(cass.execute(\"describe table loans\").one())"
   ]
  },
  {
   "cell_type": "markdown",
   "id": "d2d4b63e-25b3-4211-80d9-0cba2fe65d78",
   "metadata": {},
   "source": [
    "### Drop table and recreate"
   ]
  },
  {
   "cell_type": "code",
   "execution_count": null,
   "id": "2ac261d1-b278-4246-82e2-051c60ec3980",
   "metadata": {},
   "outputs": [],
   "source": [
    "cass.execute(\"\")"
   ]
  },
  {
   "cell_type": "markdown",
   "id": "4ab84f89-8c24-43e1-b607-4da7041008cd",
   "metadata": {},
   "source": [
    "**Note:** Final `create` statement for `loans` table."
   ]
  },
  {
   "cell_type": "code",
   "execution_count": null,
   "id": "af7f0303-3a2b-49ad-b117-3a335874afdb",
   "metadata": {},
   "outputs": [],
   "source": [
    "cass.execute(\"\"\"\n",
    "create table loans(\n",
    "    bank_id INT,\n",
    "    bank_name TEXT static,\n",
    "    loan_id UUID,\n",
    "    amount INT,\n",
    "    state TEXT,\n",
    "    PRIMARY KEY ((bank_id), amount, loan_id)\n",
    ")\n",
    "\"\"\")"
   ]
  },
  {
   "cell_type": "code",
   "execution_count": null,
   "id": "714dfec5-bab1-4419-b09e-4ead40709b62",
   "metadata": {},
   "outputs": [],
   "source": [
    "print(cass.execute(\"describe table loans\").one().create_statement)"
   ]
  },
  {
   "cell_type": "markdown",
   "id": "4fd27401-dfe7-4cf5-8a30-812841aba857",
   "metadata": {},
   "source": [
    "### `INSERT` data\n",
    "\n",
    "- `INSERT` is actually update or insert"
   ]
  },
  {
   "cell_type": "code",
   "execution_count": null,
   "id": "c0186314-5ff0-4905-96a8-6a0ee6407ff8",
   "metadata": {},
   "outputs": [],
   "source": [
    "cass.execute(\"\"\"\n",
    "\n",
    "\"\"\")"
   ]
  },
  {
   "cell_type": "code",
   "execution_count": null,
   "id": "6e2b17a0-70b3-43a5-a8d2-f9381c94ddc6",
   "metadata": {},
   "outputs": [],
   "source": [
    "pd.DataFrame(cass.execute(\"select * from loans\"))"
   ]
  },
  {
   "cell_type": "code",
   "execution_count": null,
   "id": "be7cabd8-e52c-46c2-a8d2-19279db87469",
   "metadata": {},
   "outputs": [],
   "source": [
    "# INSERT is actually update or insert\n",
    "cass.execute(\"\"\"\n",
    "INSERT INTO loans (bank_id, bank_name)\n",
    "VALUES (544, 'test1')\n",
    "\"\"\")"
   ]
  },
  {
   "cell_type": "code",
   "execution_count": null,
   "id": "30b97a38-aaa9-4316-b565-2d45958fe989",
   "metadata": {},
   "outputs": [],
   "source": [
    "pd.DataFrame(cass.execute(\"select * from loans\"))"
   ]
  },
  {
   "cell_type": "markdown",
   "id": "e79d5f99-9a27-4677-983a-19e2c9846366",
   "metadata": {},
   "source": [
    "##### **Observation**: \n",
    "\n",
    "We can insert data just with partition key information.\n",
    "Cluster key is not necessary as long as you don't have data for any of the repeating columns."
   ]
  },
  {
   "cell_type": "markdown",
   "id": "8108414d-a54f-4248-ba28-0e1d437b8b44",
   "metadata": {},
   "source": [
    "Let's try to add just `loan_id`. This shouldn't work because both `amount` and `loan_id` form the cluster key."
   ]
  },
  {
   "cell_type": "code",
   "execution_count": null,
   "id": "e645ad57-328b-494e-95cd-16049ae549bc",
   "metadata": {},
   "outputs": [],
   "source": [
    "cass.execute(\"\"\"\n",
    "INSERT INTO loans (bank_id, bank_name, loan_id)\n",
    "VALUES (544, 'test2', UUID())\n",
    "\"\"\")"
   ]
  },
  {
   "cell_type": "markdown",
   "id": "f9446b5c-a3d0-4eda-9d9c-242615f02b85",
   "metadata": {},
   "source": [
    "### `UUID()` function\n",
    "\n",
    "enables us to generate UUID"
   ]
  },
  {
   "cell_type": "code",
   "execution_count": null,
   "id": "d515a046-646c-4efd-8d38-e0904cf18dcf",
   "metadata": {},
   "outputs": [],
   "source": [
    "cass.execute(\"\"\"\n",
    "INSERT INTO loans (bank_id, amount, loan_id)\n",
    "VALUES (544, 300, ???)\n",
    "\"\"\")"
   ]
  },
  {
   "cell_type": "code",
   "execution_count": null,
   "id": "0c16b042-bc68-4456-a8e3-d32adec3959e",
   "metadata": {},
   "outputs": [],
   "source": [
    "pd.DataFrame(cass.execute(\"select * from loans\"))"
   ]
  },
  {
   "cell_type": "markdown",
   "id": "48201a8a-2805-438a-9685-d4fc1e62d77b",
   "metadata": {},
   "source": [
    "### `NOW()` versus `UUID()`\n",
    "\n",
    "- both return UUIDs\n",
    "- `NOW()` is \"more\" unique (looks at MAC address, timestamp, sequence number)"
   ]
  },
  {
   "cell_type": "code",
   "execution_count": null,
   "id": "6578126f-c042-4913-be4e-f36470f67986",
   "metadata": {},
   "outputs": [],
   "source": [
    "cass.execute(\"\"\"\n",
    "INSERT INTO loans (bank_id, bank_name, amount, loan_id, state)\n",
    "VALUES (544, 'Chase', 400, ???, 'WI')\n",
    "\"\"\")"
   ]
  },
  {
   "cell_type": "code",
   "execution_count": null,
   "id": "3f610009-5a65-46ca-a34b-6827f1ae46bf",
   "metadata": {},
   "outputs": [],
   "source": [
    "pd.DataFrame(cass.execute(\"select * from loans\"))"
   ]
  },
  {
   "cell_type": "markdown",
   "id": "9da5eab5-389a-40bd-9fc7-0b6765aca790",
   "metadata": {},
   "source": [
    "##### **Observation:** Why did it modify \"bank_name\" column for the first loan that we previously inserted?\n",
    "\n",
    "- Recall that `bank_name` is a static column. It can only have one value per partition.\n",
    "- Also, even though partition key `bank_id` and static column `bank_name` can only have a unique value per partition, when you run a `SELECT *` query, it will just display that unique value for every row - making the output more readable."
   ]
  },
  {
   "cell_type": "markdown",
   "id": "5dabec81-a965-41b0-b649-e7661516c77f",
   "metadata": {},
   "source": [
    "Inserting a new loan into a new partition."
   ]
  },
  {
   "cell_type": "code",
   "execution_count": null,
   "id": "a9d71268-841b-40ed-9b98-e9aadd4fa7f7",
   "metadata": {},
   "outputs": [],
   "source": [
    "cass.execute(\"\"\"\n",
    "INSERT INTO loans (bank_id, bank_name, amount, loan_id, state)\n",
    "VALUES (999, 'UWCU', 500, NOW(), 'IL')\n",
    "\"\"\")"
   ]
  },
  {
   "cell_type": "code",
   "execution_count": null,
   "id": "60eb9d8b-4c1e-4bd3-8016-c82c25be36b2",
   "metadata": {},
   "outputs": [],
   "source": [
    "pd.DataFrame(cass.execute(\"select * from loans\"))"
   ]
  },
  {
   "cell_type": "markdown",
   "id": "9c801c22-bc25-4a6f-8553-d1329449aa82",
   "metadata": {},
   "source": [
    "**Observation:** Cluster keys only sort data within a single partition."
   ]
  },
  {
   "cell_type": "markdown",
   "id": "4aa21626-2674-4164-aae0-1e483f16ae53",
   "metadata": {},
   "source": [
    "### Custom types\n",
    "\n",
    "Syntax: `TYPE <NAME> (field1, field2, ...)`"
   ]
  },
  {
   "cell_type": "code",
   "execution_count": null,
   "id": "dc10724c-43b2-4e2f-b14c-551f19b752e6",
   "metadata": {},
   "outputs": [],
   "source": [
    "cass.execute(\"\"\"\n",
    "\n",
    "\"\"\")"
   ]
  },
  {
   "cell_type": "markdown",
   "id": "0a3229d9-d5ad-499e-8cc4-2c4cc3a91519",
   "metadata": {},
   "source": [
    "### `alter` existing table\n",
    "\n",
    "Let's add `FullName` as a column"
   ]
  },
  {
   "cell_type": "code",
   "execution_count": null,
   "id": "5320e23c-9d04-4226-b395-8069c9cb6ce3",
   "metadata": {},
   "outputs": [],
   "source": [
    "cass.execute(\"\"\"\n",
    "\n",
    "\"\"\")"
   ]
  },
  {
   "cell_type": "code",
   "execution_count": null,
   "id": "bd1f34f6-c367-4286-ba7e-e8ca98e01a12",
   "metadata": {},
   "outputs": [],
   "source": [
    "cass.execute(\"\"\"\n",
    "INSERT INTO loans (bank_id, bank_name, amount, loan_id, username)\n",
    "VALUES (999, 'UWCU', 500, NOW(), )\n",
    "\"\"\")"
   ]
  },
  {
   "cell_type": "code",
   "execution_count": null,
   "id": "7a0e7f6d-2bae-4339-8ebc-09730b54536b",
   "metadata": {},
   "outputs": [],
   "source": [
    "pd.DataFrame(cass.execute(\"\"\"\n",
    "SELECT \n",
    "FROM loans\n",
    "\"\"\"))"
   ]
  },
  {
   "cell_type": "markdown",
   "id": "dcfade8a-2f76-4224-b83c-dd89601f282e",
   "metadata": {},
   "source": [
    "### Prepared statements\n",
    "\n",
    "works both for SQL and CQL"
   ]
  },
  {
   "cell_type": "code",
   "execution_count": null,
   "id": "63287749-cd2c-478e-9776-2b2324f99dca",
   "metadata": {},
   "outputs": [],
   "source": [
    "uwcu_insert = cass.prepare(\"\"\"\n",
    "INSERT INTO loans (bank_id, bank_name, amount, loan_id, username)\n",
    "VALUES (999, 'UWCU', 500, NOW(), {first:'Meenakshi', last:'Syamkumar'})\n",
    "\"\"\")"
   ]
  },
  {
   "cell_type": "code",
   "execution_count": null,
   "id": "966ca824-8dac-4941-b611-6986e7321299",
   "metadata": {},
   "outputs": [],
   "source": [
    "cass.execute(uwcu_insert, (300, \"Viyan\", \"Meero\"))"
   ]
  },
  {
   "cell_type": "code",
   "execution_count": null,
   "id": "049b30aa-f614-4549-875c-e30317321a04",
   "metadata": {},
   "outputs": [],
   "source": [
    "pd.DataFrame(cass.execute(\"select * from loans\"))"
   ]
  },
  {
   "cell_type": "markdown",
   "id": "9bf8f9db-b3cc-48fe-9ae9-6032c88b1615",
   "metadata": {},
   "source": [
    "#### Configuration options for prepared statements"
   ]
  },
  {
   "cell_type": "code",
   "execution_count": null,
   "id": "183b8f5e-210f-400c-bdc5-a4f844df403c",
   "metadata": {},
   "outputs": [],
   "source": [
    "# uwcu_insert.<VARIOUS_CONFIG>"
   ]
  },
  {
   "cell_type": "markdown",
   "id": "f00c8e71-c81a-4b4b-92b8-9f338910a39e",
   "metadata": {},
   "source": [
    "### GROUP BYs\n",
    "\n",
    "#### What is the average loan amount per bank?"
   ]
  },
  {
   "cell_type": "code",
   "execution_count": null,
   "id": "008467a1-0b08-4f52-9fe6-a2bdd4857bf2",
   "metadata": {},
   "outputs": [],
   "source": [
    "pd.DataFrame(cass.execute(\"\"\"\n",
    "\n",
    "\"\"\"))"
   ]
  },
  {
   "cell_type": "markdown",
   "id": "e94956f0-9149-498f-8723-db6d0cc579fa",
   "metadata": {},
   "source": [
    "#### What is the average loan amount per state?"
   ]
  },
  {
   "cell_type": "code",
   "execution_count": null,
   "id": "7f656c58-c547-4814-9952-6ed606c05749",
   "metadata": {},
   "outputs": [],
   "source": [
    "pd.DataFrame(cass.execute(\"\"\"\n",
    "\n",
    "\"\"\"))"
   ]
  },
  {
   "cell_type": "markdown",
   "id": "68bc9b01-acb3-41f8-b15b-c3a141984b9e",
   "metadata": {},
   "source": [
    "**Observation**: can only group by partition key (or partition key with some more columns of the primary key).<br>\n",
    "**Observation**: it is for transaction processing and not analytics."
   ]
  },
  {
   "cell_type": "markdown",
   "id": "7424a03a-ebd7-4fb5-8642-04a101fbbae8",
   "metadata": {},
   "source": [
    "### Spark solution"
   ]
  },
  {
   "cell_type": "code",
   "execution_count": null,
   "id": "7f73a3e5-48da-415b-a656-b2a7b2d42b11",
   "metadata": {},
   "outputs": [],
   "source": [
    "from pyspark.sql import SparkSession\n",
    "spark = (SparkSession.builder\n",
    "         .appName(\"cs544\")\n",
    "         .config('spark.jars.packages', \\\n",
    "                 'com.datastax.spark:spark-cassandra-connector_2.12:3.4.0')\n",
    "         .config(\"spark.sql.extensions\", \\\n",
    "                 \"com.datastax.spark.connector.CassandraSparkExtensions\")\n",
    "         .getOrCreate())"
   ]
  },
  {
   "cell_type": "markdown",
   "id": "5a27b2dc-9dd8-4936-9b2a-99050708cb81",
   "metadata": {},
   "source": [
    "### Reading data into Spark\n",
    "\n",
    "### Approach 1: individual DataFrame\n",
    "\n",
    "```python\n",
    "spark.read.format(\"org.apache.spark.sql.cassandra\")\n",
    ".option(\"spark.cassandra.connection.host\", \"????\")\n",
    ".option(\"keyspace\", ????)\n",
    ".option(\"table\", ????)\n",
    ".load()\n",
    "\n",
    "```"
   ]
  },
  {
   "cell_type": "markdown",
   "id": "38c0be6b-9e29-4594-8d1e-d686843ffa07",
   "metadata": {},
   "source": [
    "### Approach 2: catalogs\n",
    "\n",
    "- set of tables that `Spark` can see, which can either be managed by `Spark` or some other system"
   ]
  },
  {
   "cell_type": "code",
   "execution_count": null,
   "id": "ed5247f6-df88-4552-bd6c-8583a77c08a8",
   "metadata": {},
   "outputs": [],
   "source": [
    "spark.conf.set(\"spark.sql.catalog.mycat\", \\\n",
    "               \"com.datastax.spark.connector.datasource.CassandraCatalog\")\n",
    "spark.conf.set(\"spark.sql.catalog.mycat.spark.cassandra.connection.host\", \\\n",
    "               \"demo-db-1,demo-db-2,demo-db-3\")"
   ]
  },
  {
   "cell_type": "markdown",
   "id": "32357ba0-a29c-4bf3-8d08-4643f5912b25",
   "metadata": {},
   "source": [
    "### Spark SQL\n",
    "\n",
    "Syntax: `FROM <catalog>.<keyspace>.<table>`"
   ]
  },
  {
   "cell_type": "code",
   "execution_count": null,
   "id": "31e4c591-ae11-4515-b22d-9a04c364a32a",
   "metadata": {},
   "outputs": [],
   "source": [
    "spark.sql(\"\"\"\n",
    "\n",
    "\"\"\")"
   ]
  },
  {
   "cell_type": "code",
   "execution_count": null,
   "id": "908dd875-8fd7-4458-8441-93a50ccfe88e",
   "metadata": {},
   "outputs": [],
   "source": [
    "spark.sql(\"\"\"\n",
    "SELECT *\n",
    "FROM mycat.banking.loans\n",
    "\"\"\").toPandas()"
   ]
  },
  {
   "cell_type": "markdown",
   "id": "16dc2f42-4a6c-4d04-89f4-5a5361023316",
   "metadata": {},
   "source": [
    "#### What is the average loan amount per state?"
   ]
  },
  {
   "cell_type": "code",
   "execution_count": null,
   "id": "53ab45ea-ff3a-4af9-98d1-1529c25929e8",
   "metadata": {},
   "outputs": [],
   "source": [
    "spark.sql(\"\"\"\n",
    "\n",
    "\"\"\").toPandas()"
   ]
  },
  {
   "cell_type": "markdown",
   "id": "6d77fd4f-9fb5-45bd-97ff-e69787d7d807",
   "metadata": {},
   "source": [
    "We could dump this data somewhere like into HDFS or Hive or wherever you want to."
   ]
  },
  {
   "cell_type": "code",
   "execution_count": null,
   "id": "e6d6e24b-5963-4de2-acdf-61b3903445c1",
   "metadata": {},
   "outputs": [],
   "source": [
    "# spark.sql(\"\"\"\n",
    "# SELECT *\n",
    "# FROM mycat.banking.loans\n",
    "# \"\"\").write....."
   ]
  },
  {
   "cell_type": "markdown",
   "id": "1e801025-f8de-431a-8b03-c13b4253910f",
   "metadata": {},
   "source": [
    "### Spark - Hash Partitioning Demo\n",
    "\n",
    "It's Not elastic!"
   ]
  },
  {
   "cell_type": "code",
   "execution_count": null,
   "id": "e0f04cf5-0467-493d-86cf-42a90ffb6605",
   "metadata": {},
   "outputs": [],
   "source": [
    "import string"
   ]
  },
  {
   "cell_type": "code",
   "execution_count": null,
   "id": "34137f34-0d27-43d3-a6be-97dc202eb460",
   "metadata": {},
   "outputs": [],
   "source": [
    "string.ascii_uppercase"
   ]
  },
  {
   "cell_type": "code",
   "execution_count": null,
   "id": "d3603d7b-7bda-4852-913a-6a0ed7ec30cc",
   "metadata": {},
   "outputs": [],
   "source": [
    "df = pd.DataFrame({\"letter\": list(string.ascii_uppercase)})\n",
    "df.head()"
   ]
  },
  {
   "cell_type": "code",
   "execution_count": null,
   "id": "cb2b1db1-3449-4189-8a91-ec8154ba8d78",
   "metadata": {},
   "outputs": [],
   "source": [
    "df[\"partition1\"] = df[\"letter\"].apply()\n",
    "df.head()"
   ]
  },
  {
   "cell_type": "code",
   "execution_count": null,
   "id": "7a45385a-2d59-43bb-bfca-55e119aeb81a",
   "metadata": {},
   "outputs": [],
   "source": [
    "df[\"partition2\"] = df[\"letter\"].apply(lambda letter: hash(letter) % 5)\n",
    "df.head()"
   ]
  },
  {
   "cell_type": "markdown",
   "id": "567c8b38-0727-4c1f-927f-49183327a855",
   "metadata": {},
   "source": [
    "Let's compare partition1 and partition2 results."
   ]
  },
  {
   "cell_type": "code",
   "execution_count": null,
   "id": "97206386-d9c2-4109-9d02-52ef649c68b2",
   "metadata": {},
   "outputs": [],
   "source": [
    "df[\"partition1\"] == df[\"partition2\"]"
   ]
  },
  {
   "cell_type": "code",
   "execution_count": null,
   "id": "1aaff24e-7b65-4cad-9d9e-57c9a9d37f89",
   "metadata": {},
   "outputs": [],
   "source": [
    "(df[\"partition1\"] == df[\"partition2\"]).mean()"
   ]
  },
  {
   "cell_type": "markdown",
   "id": "0640ba76-9c98-41cd-a587-6647879d1609",
   "metadata": {},
   "source": [
    "**Observation**: Only few of the letters stayed with the same partition number."
   ]
  }
 ],
 "metadata": {
  "kernelspec": {
   "display_name": "Python 3 (ipykernel)",
   "language": "python",
   "name": "python3"
  },
  "language_info": {
   "codemirror_mode": {
    "name": "ipython",
    "version": 3
   },
   "file_extension": ".py",
   "mimetype": "text/x-python",
   "name": "python",
   "nbconvert_exporter": "python",
   "pygments_lexer": "ipython3",
   "version": "3.10.12"
  }
 },
 "nbformat": 4,
 "nbformat_minor": 5
}
