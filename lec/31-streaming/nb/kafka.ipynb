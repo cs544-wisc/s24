{
 "cells": [
  {
   "cell_type": "markdown",
   "id": "d3866da6-798f-4bb3-9d4d-615d5f13ee62",
   "metadata": {},
   "source": [
    "## Kafka"
   ]
  },
  {
   "cell_type": "code",
   "execution_count": null,
   "id": "8f2c5ea8-1bf6-460b-91dc-69d793e30402",
   "metadata": {},
   "outputs": [],
   "source": [
    "from kafka import KafkaAdminClient, KafkaProducer, KafkaConsumer"
   ]
  },
  {
   "cell_type": "markdown",
   "id": "9016c160-2b07-4684-a1ce-8348c025e52f",
   "metadata": {},
   "source": [
    "### Admin"
   ]
  },
  {
   "cell_type": "code",
   "execution_count": null,
   "id": "2c793e1d-6d23-4a55-9be8-62b523a0685d",
   "metadata": {},
   "outputs": [],
   "source": [
    "broker = \"localhost:9092\"\n",
    "admin = KafkaAdminClient(bootstrap_servers=[broker])"
   ]
  },
  {
   "cell_type": "code",
   "execution_count": null,
   "id": "eaf03df1-f063-4e7e-be5c-48509435d11a",
   "metadata": {},
   "outputs": [],
   "source": [
    "# List topics\n",
    "admin.list_topics()"
   ]
  },
  {
   "cell_type": "markdown",
   "id": "5995cc2e-74ff-400f-b585-16558ba9753a",
   "metadata": {},
   "source": [
    "### Creating topics"
   ]
  },
  {
   "cell_type": "code",
   "execution_count": null,
   "id": "c4caba81-1059-46ad-8dee-c9d515e8f6cf",
   "metadata": {},
   "outputs": [],
   "source": [
    "from kafka.admin import NewTopic"
   ]
  },
  {
   "cell_type": "code",
   "execution_count": null,
   "id": "53aec195-35dc-4b91-826b-4e1e1490c676",
   "metadata": {},
   "outputs": [],
   "source": [
    "# Create new topic\n",
    "NewTopic(name=\"even_nums\", num_partitions=1, replication_factor=1)"
   ]
  },
  {
   "cell_type": "code",
   "execution_count": null,
   "id": "94f7c15c-69ce-413a-9524-ee5c1be8864c",
   "metadata": {},
   "outputs": [],
   "source": [
    "# Create topic for admin\n",
    "admin.create_topics([NewTopic(name=\"even_nums\", num_partitions=1, replication_factor=1)])"
   ]
  },
  {
   "cell_type": "code",
   "execution_count": null,
   "id": "9c55a6fd-8ca3-467b-9cf1-f3361da9803d",
   "metadata": {},
   "outputs": [],
   "source": [
    "# Delete topic for admin\n",
    "admin.delete_topics([\"even_nums\"])"
   ]
  },
  {
   "cell_type": "markdown",
   "id": "bb8a8219-b976-4c63-bf43-6e35ac406239",
   "metadata": {},
   "source": [
    "### Topics for even numbers and odd numbers"
   ]
  },
  {
   "cell_type": "code",
   "execution_count": null,
   "id": "6f9296fa-43ec-4fea-b711-d3806a0498ca",
   "metadata": {},
   "outputs": [],
   "source": [
    "from kafka.errors import TopicAlreadyExistsError"
   ]
  },
  {
   "cell_type": "code",
   "execution_count": null,
   "id": "be6fc583-16e2-430f-b444-84dbcecc279b",
   "metadata": {},
   "outputs": [],
   "source": [
    "# Create even_nums topic\n",
    "try:\n",
    "    admin.create_topics([NewTopic(name=\"even_nums\", num_partitions=1, replication_factor=1)])\n",
    "except TopicAlreadyExistsError:\n",
    "    print(\"already exists\")"
   ]
  },
  {
   "cell_type": "code",
   "execution_count": null,
   "id": "61829792-3bd0-41b0-8c97-25948cb905e1",
   "metadata": {},
   "outputs": [],
   "source": [
    "# Create odd_nums topic\n",
    "try:\n",
    "    admin.create_topics([NewTopic(name=\"odd_nums\", num_partitions=2, replication_factor=1)])\n",
    "except TopicAlreadyExistsError:\n",
    "    print(\"already exists\")"
   ]
  },
  {
   "cell_type": "code",
   "execution_count": null,
   "id": "cf51f566-19a9-4587-afcb-4436f5eece1a",
   "metadata": {},
   "outputs": [],
   "source": [
    "admin.list_topics()"
   ]
  },
  {
   "cell_type": "markdown",
   "id": "4a8aaed1-cf96-494b-a702-93d373e668af",
   "metadata": {},
   "source": [
    "**Note:** Kafka creates a topic if you start writing messages to a non-existing topic. This might be undesirable for your application. We have taken care of this already by including `auto.create.topics.enable=false` configuration insider our `Dockerfile`."
   ]
  },
  {
   "cell_type": "markdown",
   "id": "b05a5462-38da-4893-b0e0-9d4b67abd38f",
   "metadata": {},
   "source": [
    "### Producer"
   ]
  },
  {
   "cell_type": "code",
   "execution_count": null,
   "id": "7ada05a2-fa79-48b5-bbc7-3ca369e55048",
   "metadata": {},
   "outputs": [],
   "source": [
    "producer = KafkaProducer(bootstrap_servers=[broker])"
   ]
  },
  {
   "cell_type": "code",
   "execution_count": null,
   "id": "e4198451-e8d9-4752-92a9-edd8607d1318",
   "metadata": {},
   "outputs": [],
   "source": [
    "# Send message\n",
    "result = producer.send(\"even_nums\", bytes(str(0), \"utf-8\"))\n",
    "result"
   ]
  },
  {
   "cell_type": "code",
   "execution_count": null,
   "id": "a6e1573c-a7cc-4db0-ae7d-ec44def36775",
   "metadata": {},
   "outputs": [],
   "source": [
    "result.get()"
   ]
  },
  {
   "cell_type": "code",
   "execution_count": null,
   "id": "84805099-15df-4d4c-ad10-61c18031223f",
   "metadata": {},
   "outputs": [],
   "source": [
    "from threading import Thread, Lock\n",
    "\n",
    "lock = Lock()\n",
    "def Print(*args):\n",
    "    with lock:\n",
    "        print(*args)\n",
    "\n",
    "Print(\"hi\")"
   ]
  },
  {
   "cell_type": "markdown",
   "id": "569679c9-d67f-4d81-86ce-15a9443218e7",
   "metadata": {},
   "source": [
    "### Producer code for odd_nums and even_nums"
   ]
  },
  {
   "cell_type": "code",
   "execution_count": null,
   "id": "e71ea4d0-62db-40a2-bdbf-90397df9f062",
   "metadata": {},
   "outputs": [],
   "source": [
    "import time, threading"
   ]
  },
  {
   "cell_type": "code",
   "execution_count": null,
   "id": "d52c28ca-ff68-47f5-9550-188d4b592566",
   "metadata": {},
   "outputs": [],
   "source": [
    "def num_producer(topic, start, step):\n",
    "    producer = KafkaProducer(bootstrap_servers=[broker])\n",
    "    num = start\n",
    "    while True:\n",
    "        if num < 10:\n",
    "            Print(\"Send\", num, \"to: \", topic)\n",
    "        producer.send(topic, bytes(str(num), \"utf-8\"))\n",
    "        num += step\n",
    "        time.sleep(1)\n",
    "\n",
    "threading.Thread(target=num_producer, args=(\"even_nums\", 0, 2)).start()\n",
    "threading.Thread(target=num_producer, args=(\"odd_nums\", 1, 2)).start()"
   ]
  },
  {
   "cell_type": "markdown",
   "id": "4df87443-a4af-4487-9718-ab05497cdfba",
   "metadata": {},
   "source": [
    "### Consumer"
   ]
  },
  {
   "cell_type": "code",
   "execution_count": null,
   "id": "516561a1-45a6-4bdb-b199-8656e21e2da4",
   "metadata": {},
   "outputs": [],
   "source": [
    "consumer = KafkaConsumer(bootstrap_servers=[broker])"
   ]
  },
  {
   "cell_type": "code",
   "execution_count": null,
   "id": "41cfe6d2-d610-43f0-a141-bd2eaaaf1d8f",
   "metadata": {},
   "outputs": [],
   "source": [
    "# Polling\n",
    "batch = consumer.poll(1000)\n",
    "batch"
   ]
  },
  {
   "cell_type": "code",
   "execution_count": null,
   "id": "c275c161-9e38-45ae-aa4c-ede73e0af7d2",
   "metadata": {},
   "outputs": [],
   "source": [
    "# Assignment\n",
    "consumer.assignment()"
   ]
  },
  {
   "cell_type": "markdown",
   "id": "0bd829cd-8878-485a-9f2e-b34b0d6dab53",
   "metadata": {},
   "source": [
    "### Manual Partition Assignment"
   ]
  },
  {
   "cell_type": "code",
   "execution_count": null,
   "id": "456af877-878f-4575-aba5-16f98782e723",
   "metadata": {},
   "outputs": [],
   "source": [
    "from kafka import TopicPartition"
   ]
  },
  {
   "cell_type": "code",
   "execution_count": null,
   "id": "b541ac3a-71c6-41e3-b8c2-27767659ed88",
   "metadata": {},
   "outputs": [],
   "source": [
    "consumer = KafkaConsumer(bootstrap_servers=[broker])\n",
    "consumer.assign([TopicPartition(\"even_nums\", 0)])\n",
    "consumer.assignment()"
   ]
  },
  {
   "cell_type": "code",
   "execution_count": null,
   "id": "44887daa-a689-4145-95be-2ce010990240",
   "metadata": {},
   "outputs": [],
   "source": [
    "batch = consumer.poll(1000)\n",
    "batch"
   ]
  },
  {
   "cell_type": "markdown",
   "id": "6728ca01-f993-4e65-80d3-70eaed7b9f8d",
   "metadata": {},
   "source": [
    "### Starting consumption from the beginning"
   ]
  },
  {
   "cell_type": "code",
   "execution_count": null,
   "id": "23f82261-be10-4d00-ae82-45e80729f628",
   "metadata": {},
   "outputs": [],
   "source": [
    "consumer = KafkaConsumer(bootstrap_servers=[broker])\n",
    "consumer.assign([TopicPartition(\"even_nums\", 0)])\n",
    "consumer.seek_to_beginning()\n",
    "consumer.assignment()"
   ]
  },
  {
   "cell_type": "code",
   "execution_count": null,
   "id": "93328cda-b546-4926-b552-d14fe1f9cdbd",
   "metadata": {},
   "outputs": [],
   "source": [
    "batch = consumer.poll(1000)\n",
    "for topic_partition, messages in batch.items():\n",
    "    for msg in messages:\n",
    "        print(int(str(msg.value, \"utf-8\")))"
   ]
  },
  {
   "cell_type": "markdown",
   "id": "d4c50e62-0cc2-4724-80ad-b6b6dcab40c7",
   "metadata": {},
   "source": [
    "### Automatic Partition Assignment"
   ]
  },
  {
   "cell_type": "code",
   "execution_count": null,
   "id": "1a2faddc-49f6-446d-a646-3690ad606c13",
   "metadata": {},
   "outputs": [],
   "source": [
    "consumer = KafkaConsumer(bootstrap_servers=[broker])\n",
    "consumer.subscribe([\"even_nums\"])\n",
    "print(consumer.assignment())"
   ]
  },
  {
   "cell_type": "code",
   "execution_count": null,
   "id": "3e250b91-90cc-4c03-9785-c504c97f3d53",
   "metadata": {},
   "outputs": [],
   "source": [
    "_ = consumer.poll(1000)\n",
    "print(consumer.assignment())\n",
    "consumer.seek_to_beginning()"
   ]
  },
  {
   "cell_type": "code",
   "execution_count": null,
   "id": "3a11a232-c9da-4bf2-963b-f691dee2fc74",
   "metadata": {},
   "outputs": [],
   "source": [
    "batch = consumer.poll(1000)\n",
    "for topic_partition, messages in batch.items():\n",
    "    for msg in messages:\n",
    "        print(int(str(msg.value, \"utf-8\")))"
   ]
  },
  {
   "cell_type": "markdown",
   "id": "d99d1c46-42a8-4e49-a51b-19c31061fa57",
   "metadata": {},
   "source": [
    "### Multiple Assignment"
   ]
  },
  {
   "cell_type": "code",
   "execution_count": null,
   "id": "509bb475-08cc-4c95-822f-d718e317ef75",
   "metadata": {},
   "outputs": [],
   "source": [
    "consumer = KafkaConsumer(bootstrap_servers=[broker])\n",
    "consumer.subscribe([\"even_nums\", \"odd_nums\"])\n",
    "print(consumer.assignment())\n",
    "\n",
    "_ = consumer.poll(1000)\n",
    "print(consumer.assignment())\n",
    "consumer.seek_to_beginning()"
   ]
  },
  {
   "cell_type": "code",
   "execution_count": null,
   "id": "c92a2297-d31e-4c1b-93fe-293505bd6d2b",
   "metadata": {},
   "outputs": [],
   "source": [
    "batch = consumer.poll(1000)\n",
    "for topic_partition, messages in batch.items():\n",
    "    print(topic_partition)\n",
    "    for msg in messages:\n",
    "        print(int(str(msg.value, \"utf-8\")))"
   ]
  },
  {
   "cell_type": "code",
   "execution_count": null,
   "id": "1dc5a0c6-79d4-4b18-91a8-dfdccc98bbff",
   "metadata": {},
   "outputs": [],
   "source": []
  }
 ],
 "metadata": {
  "kernelspec": {
   "display_name": "Python 3 (ipykernel)",
   "language": "python",
   "name": "python3"
  },
  "language_info": {
   "codemirror_mode": {
    "name": "ipython",
    "version": 3
   },
   "file_extension": ".py",
   "mimetype": "text/x-python",
   "name": "python",
   "nbconvert_exporter": "python",
   "pygments_lexer": "ipython3",
   "version": "3.10.12"
  }
 },
 "nbformat": 4,
 "nbformat_minor": 5
}
