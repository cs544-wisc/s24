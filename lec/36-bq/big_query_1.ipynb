{
 "cells": [
  {
   "cell_type": "markdown",
   "id": "d9a0a3fb-6146-4db5-8e55-2e1c18426147",
   "metadata": {},
   "source": [
    "## Big Query 1"
   ]
  },
  {
   "cell_type": "markdown",
   "id": "1da32c5d-ee92-4f3c-92cb-f00f01227bb3",
   "metadata": {},
   "source": [
    "### Install requirements\n",
    "\n",
    "`pip3 install google-cloud-bigquery google-cloud-bigquery-storage pyarrow tqdm ipywidgets pandas matplotlib db-dtypes pandas-gbq`"
   ]
  },
  {
   "cell_type": "code",
   "execution_count": null,
   "id": "35dbd8fe-62a8-43d1-9a30-0644153d4f1a",
   "metadata": {},
   "outputs": [],
   "source": [
    "project = \"cs544-spring2024\" \n",
    "# this name will probably be different for you"
   ]
  },
  {
   "cell_type": "code",
   "execution_count": null,
   "id": "8236fd51-a976-46a8-9fcc-e6ab5c91fe9a",
   "metadata": {},
   "outputs": [],
   "source": [
    "from google.cloud import bigquery"
   ]
  },
  {
   "cell_type": "code",
   "execution_count": null,
   "id": "8c3ffacf-d53d-4639-b9bb-48f114d2e35e",
   "metadata": {},
   "outputs": [],
   "source": [
    "bq = bigquery.Client()"
   ]
  },
  {
   "cell_type": "code",
   "execution_count": null,
   "id": "87cbf89c-46af-476f-a6f0-ab5802062b4d",
   "metadata": {},
   "outputs": [],
   "source": [
    "q = bq.query(\n",
    "\"\"\"\n",
    "SELECT counties.geo_id, county_name, states.state_name\n",
    "FROM `bigquery-public-data.geo_us_boundaries.counties` AS counties\n",
    "INNER JOIN `bigquery-public-data.geo_us_boundaries.states` AS states\n",
    "ON counties.state_fips_code = states.state_fips_code\n",
    "WHERE states.state_name = \"Wisconsin\"\n",
    "LIMIT 100\n",
    "\"\"\"\n",
    ")\n",
    "q.to_dataframe()"
   ]
  },
  {
   "cell_type": "markdown",
   "id": "0ec24b99-5e1c-4ac5-9b36-c66481edc7c4",
   "metadata": {},
   "source": [
    "### Structure\n",
    "\n",
    "\"project\" contains \"datasets\" contain \"tables\""
   ]
  },
  {
   "cell_type": "markdown",
   "id": "f16159cd-6f6c-42d5-856a-9c217acbf5af",
   "metadata": {},
   "source": [
    "#### What datasets do I have in my project?"
   ]
  },
  {
   "cell_type": "code",
   "execution_count": null,
   "id": "bd8358f4-b433-43f0-b4a5-df8cc7071770",
   "metadata": {},
   "outputs": [],
   "source": [
    "bq.list_datasets(project)"
   ]
  },
  {
   "cell_type": "code",
   "execution_count": null,
   "id": "0a15cebe-8f01-4081-8cce-448585adeaf0",
   "metadata": {},
   "outputs": [],
   "source": [
    "for ds in bq.list_datasets(project):\n",
    "    print(ds.dataset_id)"
   ]
  },
  {
   "cell_type": "markdown",
   "id": "2c392c0c-e36a-480d-8d37-f276af34abab",
   "metadata": {},
   "source": [
    "### Dataset creation"
   ]
  },
  {
   "cell_type": "code",
   "execution_count": null,
   "id": "78082b90-d247-43c1-9c08-20c90aad37a1",
   "metadata": {},
   "outputs": [],
   "source": [
    "ds = bigquery.Dataset(f\"{project}.lec_demo\")\n",
    "# ds.location = \"us-central1\"\n",
    "bq.create_dataset(ds, exists_ok=True)"
   ]
  },
  {
   "cell_type": "markdown",
   "id": "70dd4c9c-1f3b-46a7-b6f2-69fd123a6a52",
   "metadata": {},
   "source": [
    "### Public datasets"
   ]
  },
  {
   "cell_type": "code",
   "execution_count": null,
   "id": "aa1d22d3-c07e-4178-bce1-09ad1ab19d66",
   "metadata": {},
   "outputs": [],
   "source": [
    "for ds in bq.list_datasets(\"bigquery-public-data\"):\n",
    "    print(ds.dataset_id)"
   ]
  },
  {
   "cell_type": "markdown",
   "id": "a3eae303-1383-42d3-8a13-0fef5c7380ef",
   "metadata": {},
   "source": [
    "### List tables"
   ]
  },
  {
   "cell_type": "code",
   "execution_count": null,
   "id": "3cb504ec-efb4-402d-9740-5def0f50a01e",
   "metadata": {},
   "outputs": [],
   "source": [
    "for t in bq.list_tables(\"bigquery-public-data.github_repos\"):\n",
    "    print(t.table_id)"
   ]
  },
  {
   "cell_type": "markdown",
   "id": "ebbf638d-5ec0-4099-ab0f-9cf854d106c1",
   "metadata": {},
   "source": [
    "### Extension access"
   ]
  },
  {
   "cell_type": "code",
   "execution_count": null,
   "id": "23da247a-2149-428a-9e8c-bb57487a9ef8",
   "metadata": {},
   "outputs": [],
   "source": [
    "%load_ext google.cloud.bigquery"
   ]
  },
  {
   "cell_type": "markdown",
   "id": "ec9ba03e-31fe-4c17-85b7-d3a2cc397598",
   "metadata": {},
   "source": [
    "#### Run a query using `%%bigquery`"
   ]
  },
  {
   "cell_type": "code",
   "execution_count": null,
   "id": "f4ce2896-f6a3-420f-944b-38984f873f77",
   "metadata": {},
   "outputs": [],
   "source": [
    "%%bigquery\n",
    "SELECT *\n",
    "FROM `bigquery-public-data.github_repos.languages`\n",
    "LIMIT 5"
   ]
  },
  {
   "cell_type": "markdown",
   "id": "8795fddc-eeab-4a1e-ba1b-67fa804bc6d7",
   "metadata": {},
   "source": [
    "#### Save a query result into `df` using `%%bigquery df`"
   ]
  },
  {
   "cell_type": "code",
   "execution_count": null,
   "id": "20666a13-a7d6-49a0-9e2d-633196b7636d",
   "metadata": {},
   "outputs": [],
   "source": [
    "%%bigquery df\n",
    "SELECT *\n",
    "FROM `bigquery-public-data.github_repos.languages`\n",
    "LIMIT 5"
   ]
  },
  {
   "cell_type": "code",
   "execution_count": null,
   "id": "1a07e048-f2bc-4bf5-ac02-df151eac4971",
   "metadata": {},
   "outputs": [],
   "source": [
    "df"
   ]
  },
  {
   "cell_type": "markdown",
   "id": "a77dcfdf-e51e-452e-820a-058136351454",
   "metadata": {},
   "source": [
    "#### Python API"
   ]
  },
  {
   "cell_type": "code",
   "execution_count": null,
   "id": "3c95b499-307e-4f47-86bb-11353113f450",
   "metadata": {},
   "outputs": [],
   "source": [
    "no_cache = bigquery.QueryJobConfig(use_query_cache=False)"
   ]
  },
  {
   "cell_type": "code",
   "execution_count": null,
   "id": "46842723-cb15-4474-8a3f-97046ed52521",
   "metadata": {},
   "outputs": [],
   "source": [
    "q = bq.query(\"\"\"\n",
    "SELECT *\n",
    "FROM `bigquery-public-data.github_repos.languages`\n",
    "LIMIT 5\n",
    "\"\"\", job_config=no_cache)"
   ]
  },
  {
   "cell_type": "code",
   "execution_count": null,
   "id": "e83dfa8a-9853-426e-a80d-59a71a9953dc",
   "metadata": {},
   "outputs": [],
   "source": [
    "q.to_dataframe()"
   ]
  },
  {
   "cell_type": "markdown",
   "id": "7c820b65-1e71-414a-9638-f34afa88a297",
   "metadata": {},
   "source": [
    "#### Total bytes processed and billed"
   ]
  },
  {
   "cell_type": "code",
   "execution_count": null,
   "id": "aaaa0fe8-a0b0-406d-9f81-767bafea1df5",
   "metadata": {},
   "outputs": [],
   "source": [
    "q.total_bytes_processed / 1024**2 # MB"
   ]
  },
  {
   "cell_type": "code",
   "execution_count": null,
   "id": "88185d32-91db-40a5-b516-bb5f39d96f52",
   "metadata": {},
   "outputs": [],
   "source": [
    "q.total_bytes_billed / 1024**2 # MB"
   ]
  },
  {
   "cell_type": "markdown",
   "id": "5e06390a-ad21-40cb-9462-474390c812c1",
   "metadata": {},
   "source": [
    "#### How many times can we do this in the free tier?"
   ]
  },
  {
   "cell_type": "code",
   "execution_count": null,
   "id": "ce74a2f3-1bc9-40a8-9ad7-c6153e86d8bc",
   "metadata": {},
   "outputs": [],
   "source": [
    "tb = 1024**4\n",
    "tb / q.total_bytes_billed"
   ]
  },
  {
   "cell_type": "markdown",
   "id": "b30e289b-b18f-40a5-ba6b-73f690c3ad1a",
   "metadata": {},
   "source": [
    "#### How much will it per query after that in say Tokyo?"
   ]
  },
  {
   "cell_type": "code",
   "execution_count": null,
   "id": "afe3e120-8281-493d-a5aa-2572582f5d16",
   "metadata": {},
   "outputs": [],
   "source": [
    "price_per_tb = 7.5\n",
    "q.total_bytes_billed / tb * price_per_tb"
   ]
  },
  {
   "cell_type": "markdown",
   "id": "d85a5301-31cc-4151-92c9-58ac3e0ccbc2",
   "metadata": {},
   "source": [
    "### Pricing factors\n",
    "\n",
    "1. you pay for storage too (not just queries)\n",
    "2. they have a minimum of 10 MB per query\n",
    "3. they round up to the nearest 1 MB per query"
   ]
  },
  {
   "cell_type": "code",
   "execution_count": null,
   "id": "c9afc360-d5cb-44b7-b3c8-8ade032a8b5d",
   "metadata": {},
   "outputs": [],
   "source": [
    "%%bigquery df\n",
    "SELECT *\n",
    "FROM `bigquery-public-data.github_repos.languages`\n",
    "WHERE repo_name LIKE 'open-lambda/%'\n",
    "LIMIT 5"
   ]
  },
  {
   "cell_type": "code",
   "execution_count": null,
   "id": "90827c06-dbc5-42a3-9294-f140c42f3b9b",
   "metadata": {},
   "outputs": [],
   "source": [
    "df"
   ]
  }
 ],
 "metadata": {
  "kernelspec": {
   "display_name": "Python 3 (ipykernel)",
   "language": "python",
   "name": "python3"
  },
  "language_info": {
   "codemirror_mode": {
    "name": "ipython",
    "version": 3
   },
   "file_extension": ".py",
   "mimetype": "text/x-python",
   "name": "python",
   "nbconvert_exporter": "python",
   "pygments_lexer": "ipython3",
   "version": "3.10.12"
  }
 },
 "nbformat": 4,
 "nbformat_minor": 5
}
