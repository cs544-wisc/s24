{
 "cells": [
  {
   "cell_type": "markdown",
   "id": "d9a0a3fb-6146-4db5-8e55-2e1c18426147",
   "metadata": {},
   "source": [
    "## Big Query 1 & 2"
   ]
  },
  {
   "cell_type": "markdown",
   "id": "97203109-2eb2-461d-bb5f-397f56b01e71",
   "metadata": {},
   "source": [
    "### Things to do before lecture\n",
    "\n",
    "1. Install ``pip3 install google-cloud-bigquery google-cloud-bigquery-storage pyarrow tqdm ipywidgets pandas matplotlib db-dtypes pandas-gbq``\n",
    "2. Gloud authentication: `gcloud auth application-default login --scopes=openid,https://www.googleapis.com/auth/cloud-platform,https://www.googleapis.com/auth/drive.readonly`\n",
    "3. Start notebook on your VM: `python3 -m jupyterlab --no-browser`\n",
    "4. Establish SSH tunnel for port 8888"
   ]
  },
  {
   "cell_type": "code",
   "execution_count": null,
   "id": "35dbd8fe-62a8-43d1-9a30-0644153d4f1a",
   "metadata": {},
   "outputs": [],
   "source": [
    "project = \"cs544-spring2024\" \n",
    "# this name will probably be different for you"
   ]
  },
  {
   "cell_type": "code",
   "execution_count": null,
   "id": "8236fd51-a976-46a8-9fcc-e6ab5c91fe9a",
   "metadata": {},
   "outputs": [],
   "source": [
    "# import statement\n"
   ]
  },
  {
   "cell_type": "code",
   "execution_count": null,
   "id": "8c3ffacf-d53d-4639-b9bb-48f114d2e35e",
   "metadata": {},
   "outputs": [],
   "source": [
    "# bigquery Client\n",
    "bq = "
   ]
  },
  {
   "cell_type": "code",
   "execution_count": null,
   "id": "87cbf89c-46af-476f-a6f0-ab5802062b4d",
   "metadata": {},
   "outputs": [],
   "source": [
    "q = bq.query(\n",
    "\"\"\"\n",
    "SELECT geo_id, county_name \n",
    "FROM `bigquery-public-data.geo_us_boundaries.counties` \n",
    "WHERE county_name = 'Dane'\n",
    "\"\"\"\n",
    ")\n",
    "q.to_dataframe()"
   ]
  },
  {
   "cell_type": "markdown",
   "id": "0ec24b99-5e1c-4ac5-9b36-c66481edc7c4",
   "metadata": {},
   "source": [
    "## Structure\n",
    "\n",
    "\"project\" contains \"datasets\" contain \"tables\""
   ]
  },
  {
   "cell_type": "markdown",
   "id": "f16159cd-6f6c-42d5-856a-9c217acbf5af",
   "metadata": {},
   "source": [
    "#### What datasets do I have in my project?"
   ]
  },
  {
   "cell_type": "code",
   "execution_count": null,
   "id": "bd8358f4-b433-43f0-b4a5-df8cc7071770",
   "metadata": {},
   "outputs": [],
   "source": [
    "bq"
   ]
  },
  {
   "cell_type": "code",
   "execution_count": null,
   "id": "0a15cebe-8f01-4081-8cce-448585adeaf0",
   "metadata": {},
   "outputs": [],
   "source": []
  },
  {
   "cell_type": "markdown",
   "id": "2c392c0c-e36a-480d-8d37-f276af34abab",
   "metadata": {},
   "source": [
    "### Dataset creation"
   ]
  },
  {
   "cell_type": "code",
   "execution_count": null,
   "id": "78082b90-d247-43c1-9c08-20c90aad37a1",
   "metadata": {},
   "outputs": [],
   "source": [
    "ds = \n",
    "# ds.location = \"us-central1\"\n",
    "bq"
   ]
  },
  {
   "cell_type": "markdown",
   "id": "70dd4c9c-1f3b-46a7-b6f2-69fd123a6a52",
   "metadata": {},
   "source": [
    "### Public datasets"
   ]
  },
  {
   "cell_type": "code",
   "execution_count": null,
   "id": "aa1d22d3-c07e-4178-bce1-09ad1ab19d66",
   "metadata": {},
   "outputs": [],
   "source": [
    "for ds in bq.list_datasets(\"bigquery-public-data\"):\n",
    "    print(ds.dataset_id)"
   ]
  },
  {
   "cell_type": "markdown",
   "id": "a3eae303-1383-42d3-8a13-0fef5c7380ef",
   "metadata": {},
   "source": [
    "### List tables"
   ]
  },
  {
   "cell_type": "code",
   "execution_count": null,
   "id": "3cb504ec-efb4-402d-9740-5def0f50a01e",
   "metadata": {},
   "outputs": [],
   "source": [
    "for ??? in bq.???(\"bigquery-public-data.github_repos\"):\n",
    "    print(???)"
   ]
  },
  {
   "cell_type": "markdown",
   "id": "bfe358a1-2565-4ea6-9eb9-99e8ebf8b207",
   "metadata": {},
   "source": [
    "### Running queries: three options\n",
    "\n",
    "1. Using extension\n",
    "2. Using extension and store result in a DataFrame\n",
    "3. Using Python API"
   ]
  },
  {
   "cell_type": "markdown",
   "id": "ebbf638d-5ec0-4099-ab0f-9cf854d106c1",
   "metadata": {},
   "source": [
    "#### Extension access"
   ]
  },
  {
   "cell_type": "code",
   "execution_count": null,
   "id": "23da247a-2149-428a-9e8c-bb57487a9ef8",
   "metadata": {},
   "outputs": [],
   "source": []
  },
  {
   "cell_type": "markdown",
   "id": "ec9ba03e-31fe-4c17-85b7-d3a2cc397598",
   "metadata": {},
   "source": [
    "#### OPTION 1: Run a query using `%%bigquery`"
   ]
  },
  {
   "cell_type": "code",
   "execution_count": null,
   "id": "f4ce2896-f6a3-420f-944b-38984f873f77",
   "metadata": {},
   "outputs": [],
   "source": [
    "???\n",
    "SELECT *\n",
    "FROM `bigquery-public-data.github_repos.languages`\n",
    "LIMIT 5"
   ]
  },
  {
   "cell_type": "markdown",
   "id": "8795fddc-eeab-4a1e-ba1b-67fa804bc6d7",
   "metadata": {},
   "source": [
    "#### OPTION 2: Save a query result into `df` using `%%bigquery df`"
   ]
  },
  {
   "cell_type": "code",
   "execution_count": null,
   "id": "20666a13-a7d6-49a0-9e2d-633196b7636d",
   "metadata": {},
   "outputs": [],
   "source": [
    "???\n",
    "SELECT *\n",
    "FROM `bigquery-public-data.github_repos.languages`\n",
    "LIMIT 5"
   ]
  },
  {
   "cell_type": "code",
   "execution_count": null,
   "id": "1a07e048-f2bc-4bf5-ac02-df151eac4971",
   "metadata": {},
   "outputs": [],
   "source": [
    "df"
   ]
  },
  {
   "cell_type": "markdown",
   "id": "a77dcfdf-e51e-452e-820a-058136351454",
   "metadata": {},
   "source": [
    "#### OPTION 3: Python API"
   ]
  },
  {
   "cell_type": "code",
   "execution_count": null,
   "id": "3c95b499-307e-4f47-86bb-11353113f450",
   "metadata": {},
   "outputs": [],
   "source": [
    "no_cache = bigquery.QueryJobConfig(use_query_cache=False)"
   ]
  },
  {
   "cell_type": "code",
   "execution_count": null,
   "id": "46842723-cb15-4474-8a3f-97046ed52521",
   "metadata": {},
   "outputs": [],
   "source": [
    "q = ???(\"\"\"\n",
    "SELECT *\n",
    "FROM `bigquery-public-data.github_repos.languages`\n",
    "LIMIT 5\n",
    "\"\"\")"
   ]
  },
  {
   "cell_type": "code",
   "execution_count": null,
   "id": "e83dfa8a-9853-426e-a80d-59a71a9953dc",
   "metadata": {},
   "outputs": [],
   "source": [
    "# DataFrame"
   ]
  },
  {
   "cell_type": "markdown",
   "id": "7c820b65-1e71-414a-9638-f34afa88a297",
   "metadata": {},
   "source": [
    "#### Total bytes processed and billed (in MB)"
   ]
  },
  {
   "cell_type": "code",
   "execution_count": null,
   "id": "aaaa0fe8-a0b0-406d-9f81-767bafea1df5",
   "metadata": {},
   "outputs": [],
   "source": [
    "q.??? / 1024**2 # MB"
   ]
  },
  {
   "cell_type": "code",
   "execution_count": null,
   "id": "88185d32-91db-40a5-b516-bb5f39d96f52",
   "metadata": {},
   "outputs": [],
   "source": [
    "q.??? / 1024**2 # MB"
   ]
  },
  {
   "cell_type": "markdown",
   "id": "5e06390a-ad21-40cb-9462-474390c812c1",
   "metadata": {},
   "source": [
    "#### How many times can we do this in the free tier?"
   ]
  },
  {
   "cell_type": "code",
   "execution_count": null,
   "id": "ce74a2f3-1bc9-40a8-9ad7-c6153e86d8bc",
   "metadata": {},
   "outputs": [],
   "source": [
    "tb = 1024**4\n",
    "tb / q.total_bytes_billed"
   ]
  },
  {
   "cell_type": "markdown",
   "id": "b30e289b-b18f-40a5-ba6b-73f690c3ad1a",
   "metadata": {},
   "source": [
    "#### How much will it cost per query after that, in say Tokyo?\n",
    "\n",
    "Source: https://cloud.google.com/bigquery/pricing#on_demand_pricing"
   ]
  },
  {
   "cell_type": "code",
   "execution_count": null,
   "id": "afe3e120-8281-493d-a5aa-2572582f5d16",
   "metadata": {},
   "outputs": [],
   "source": [
    "price_per_tb = ???\n",
    "q.total_bytes_billed / tb * price_per_tb"
   ]
  },
  {
   "cell_type": "markdown",
   "id": "d85a5301-31cc-4151-92c9-58ac3e0ccbc2",
   "metadata": {},
   "source": [
    "### Pricing factors\n",
    "\n",
    "1. you pay for storage too (not just queries)\n",
    "2. they have a minimum of 10 MB per query\n",
    "3. they round up to the nearest 1 MB per query"
   ]
  },
  {
   "cell_type": "markdown",
   "id": "09002f21-db6c-4236-9a20-7ac5c1367453",
   "metadata": {},
   "source": [
    "### `open-lambda` repositories"
   ]
  },
  {
   "cell_type": "code",
   "execution_count": null,
   "id": "c9afc360-d5cb-44b7-b3c8-8ade032a8b5d",
   "metadata": {},
   "outputs": [],
   "source": [
    "%%bigquery\n",
    "SELECT *\n",
    "FROM `bigquery-public-data.github_repos.languages`\n"
   ]
  },
  {
   "cell_type": "markdown",
   "id": "0dc20be9-e723-4855-b830-875dbcbc14fe",
   "metadata": {},
   "source": [
    "### Inspecting types"
   ]
  },
  {
   "cell_type": "code",
   "execution_count": null,
   "id": "a20eb430-abdc-4fed-a4d2-3d2cfd36c5bc",
   "metadata": {},
   "outputs": [],
   "source": []
  },
  {
   "cell_type": "markdown",
   "id": "6f053177-1b66-4a69-9cfb-0f0616a930e5",
   "metadata": {},
   "source": [
    "### `ARRAY` of `STRUCT`s aka `REPEATED RECORD`s "
   ]
  },
  {
   "cell_type": "markdown",
   "id": "9aad44c5-fb00-4a43-9bab-05894337db1b",
   "metadata": {},
   "source": [
    "#### Get the first language."
   ]
  },
  {
   "cell_type": "code",
   "execution_count": null,
   "id": "f3da1a1d-703c-43d8-bf8c-9c9b95aae2c6",
   "metadata": {},
   "outputs": [],
   "source": [
    "%%bigquery\n",
    "SELECT *\n",
    "FROM `bigquery-public-data.github_repos.languages`\n",
    "WHERE repo_name LIKE 'open-lambda/%'"
   ]
  },
  {
   "cell_type": "markdown",
   "id": "790c15b3-04da-4c4e-b997-bd9e33f23c74",
   "metadata": {},
   "source": [
    "Get the last language."
   ]
  },
  {
   "cell_type": "code",
   "execution_count": null,
   "id": "1d8d366c-fd5a-4107-83e9-f5c27f231a00",
   "metadata": {},
   "outputs": [],
   "source": [
    "%%bigquery\n",
    "SELECT repo_name, ??? as last\n",
    "FROM `bigquery-public-data.github_repos.languages`\n",
    "WHERE repo_name LIKE 'open-lambda/%'"
   ]
  },
  {
   "cell_type": "markdown",
   "id": "46f69509-c00d-4374-befe-890cb9a3161d",
   "metadata": {},
   "source": [
    "### Get the names of the first and the last languages."
   ]
  },
  {
   "cell_type": "code",
   "execution_count": null,
   "id": "875fb104-d4f4-4820-90e8-b4f765d24cd2",
   "metadata": {},
   "outputs": [],
   "source": [
    "%%bigquery\n",
    "SELECT repo_name, language[OFFSET(0)].name as first, language[OFFSET(ARRAY_LENGTH(language)-1)].name as last\n",
    "FROM bigquery-public-data.github_repos.languages\n",
    "WHERE repo_name LIKE \"open-lambda/%\""
   ]
  },
  {
   "cell_type": "markdown",
   "id": "b063b52d-e47c-42ab-a347-48d2c7414da6",
   "metadata": {},
   "source": [
    "## `CROSS JOIN`"
   ]
  },
  {
   "cell_type": "markdown",
   "id": "c1544c31-ffc2-4feb-af10-ae6d2506e4b3",
   "metadata": {},
   "source": [
    "#### How often is `C` used with `Dockerfile`?"
   ]
  },
  {
   "cell_type": "code",
   "execution_count": null,
   "id": "4ff0bb11-6afe-4219-998d-4acdd612cfe8",
   "metadata": {},
   "outputs": [],
   "source": [
    "%%bigquery\n",
    "SELECT *\n",
    "FROM `bigquery-public-data.github_repos.languages`\n",
    "WHERE repo_name LIKE 'open-lambda/%'"
   ]
  },
  {
   "cell_type": "code",
   "execution_count": null,
   "id": "64754b18-cead-45e5-91d3-7f1985f2b64d",
   "metadata": {},
   "outputs": [],
   "source": [
    "%%bigquery\n",
    "SELECT *\n",
    "FROM `bigquery-public-data.github_repos.languages`\n",
    "WHERE repo_name LIKE 'open-lambda/%'"
   ]
  },
  {
   "cell_type": "code",
   "execution_count": null,
   "id": "0b4d734b-b9d4-4e92-a076-8ea56c757402",
   "metadata": {},
   "outputs": [],
   "source": [
    "%%bigquery\n",
    "SELECT *\n",
    "FROM `bigquery-public-data.github_repos.languages`\n",
    "???\n",
    "WHERE repo_name LIKE 'open-lambda/%'"
   ]
  },
  {
   "cell_type": "markdown",
   "id": "45202516-6500-420d-9ae0-e926cb295605",
   "metadata": {},
   "source": [
    "Double `CROSS JOIN`."
   ]
  },
  {
   "cell_type": "code",
   "execution_count": null,
   "id": "e5fae7d6-d2e6-487e-8a91-e5aa5f219e37",
   "metadata": {},
   "outputs": [],
   "source": [
    "%%bigquery\n",
    "SELECT *\n",
    "FROM `bigquery-public-data.github_repos.languages`\n",
    "CROSS JOIN UNNEST(language) \n",
    "WHERE repo_name LIKE 'open-lambda/%'"
   ]
  },
  {
   "cell_type": "code",
   "execution_count": null,
   "id": "f5a80fef-16ad-491c-b021-bc0eeffafaaa",
   "metadata": {},
   "outputs": [],
   "source": [
    "%%bigquery\n",
    "SELECT repo_name, L1.name AS name1, L2.name AS name2\n",
    "FROM bigquery-public-data.github_repos.languages\n",
    "CROSS JOIN UNNEST(language) AS L1\n",
    "CROSS JOIN UNNEST(language) AS L2\n",
    "WHERE repo_name LIKE \"open-lambda/%\"\n"
   ]
  },
  {
   "cell_type": "markdown",
   "id": "e60b4236-f2f8-4723-be47-d68c383f2e6c",
   "metadata": {},
   "source": [
    "#### What are the ten most common languages on GitHub?"
   ]
  },
  {
   "cell_type": "code",
   "execution_count": null,
   "id": "b46fbc15-adcc-461e-b1b6-4c9ea9d57cb0",
   "metadata": {},
   "outputs": [],
   "source": [
    "%%bigquery top10\n",
    "SELECT *\n",
    "FROM bigquery-public-data.github_repos.languages\n",
    "CROSS JOIN UNNEST(language) AS L"
   ]
  },
  {
   "cell_type": "code",
   "execution_count": null,
   "id": "c942a6ff-4b62-4067-bf25-a4a49f8fc431",
   "metadata": {},
   "outputs": [],
   "source": [
    "top10"
   ]
  },
  {
   "cell_type": "code",
   "execution_count": null,
   "id": "36d9142e-876c-4c50-82c2-573cf246335b",
   "metadata": {},
   "outputs": [],
   "source": [
    "top10.set_index(\"name\")"
   ]
  },
  {
   "cell_type": "code",
   "execution_count": null,
   "id": "7b8c6a7c-8217-4836-abc9-22b4b7f6a454",
   "metadata": {},
   "outputs": [],
   "source": [
    "top10.set_index(\"name\").plot.bar()"
   ]
  },
  {
   "cell_type": "markdown",
   "id": "c48d4aef-4f88-43c9-af6d-f172eef29712",
   "metadata": {},
   "source": [
    "#### What software licenses are used most often for Python projects?"
   ]
  },
  {
   "cell_type": "code",
   "execution_count": null,
   "id": "a47963aa-3e03-4e92-b92f-12c33f31a1af",
   "metadata": {},
   "outputs": [],
   "source": [
    "%%bigquery lic\n",
    "SELECT l*\n",
    "FROM bigquery-public-data.github_repos.languages"
   ]
  },
  {
   "cell_type": "code",
   "execution_count": null,
   "id": "ce3a6e6a-8abf-49f8-bca6-734f9c67c7be",
   "metadata": {},
   "outputs": [],
   "source": [
    "lic.set_index(\"license\").plot.bar()"
   ]
  },
  {
   "cell_type": "markdown",
   "id": "ff262f27-c624-4bb9-af04-9ddb9392e39d",
   "metadata": {},
   "source": [
    "### Using Bigquery on our custom data"
   ]
  },
  {
   "cell_type": "markdown",
   "id": "54a67e0e-19f0-4e8d-8d21-d092f7174509",
   "metadata": {},
   "source": [
    "### Example 1: BigQuery Table"
   ]
  },
  {
   "cell_type": "code",
   "execution_count": null,
   "id": "2390b292-d38a-4c33-a6a9-b05a6ceddf92",
   "metadata": {},
   "outputs": [],
   "source": [
    "config = bigquery.LoadJobConfig(source_format=\"PARQUET\", write_disposition=\"WRITE_TRUNCATE\")\n",
    "# Get this \"gsutil URI\" from your GCP account \n",
    "source = \"gs://s24_msyamkumar/hdma-wi-2021.parquet\"\n",
    "dataset = \"lec_demo\"\n",
    "job = bq.load_table_from_uri(source, f\"{project}.{dataset}.loans\", job_config=config)\n",
    "job.result()"
   ]
  },
  {
   "cell_type": "markdown",
   "id": "d25bf3d3-9126-472f-aed6-0abe03bce1bf",
   "metadata": {},
   "source": [
    "### Example 2: External Table (GCS)"
   ]
  },
  {
   "cell_type": "code",
   "execution_count": null,
   "id": "f7b2be51-9ce3-4339-967c-3cd2edcf4c70",
   "metadata": {},
   "outputs": [],
   "source": [
    "config = bigquery.ExternalConfig(source_format=\"PARQUET\")\n",
    "config.source_uris = [source]\n",
    "# config.autodetect = True\n",
    "table = bigquery.Table(f\"{project}.{dataset}.loans-external\")\n",
    "table.external_data_configuration = config\n",
    "bq.create_table(table, exists_ok=True)"
   ]
  },
  {
   "cell_type": "markdown",
   "id": "af1f83bf-824a-4a81-a42e-bb9f003e4206",
   "metadata": {},
   "source": [
    "### Example 3: external table (sheets)\n",
    "Form: https://forms.gle/wwqt8XBXmFj6pES56 <br>\n",
    "Sheet: https://docs.google.com/spreadsheets/d/1FfalqAWdzz01D1zIvBxsDWLW05-lvANWjjAj2vI4A04/"
   ]
  },
  {
   "cell_type": "code",
   "execution_count": null,
   "id": "fedadc5c-1a37-4756-a740-fc0b08bea963",
   "metadata": {},
   "outputs": [],
   "source": [
    "config = bigquery.ExternalConfig(source_format=\"GOOGLE_SHEETS\")\n",
    "config.source_uris = [\"https://docs.google.com/spreadsheets/d/1FfalqAWdzz01D1zIvBxsDWLW05-lvANWjjAj2vI4A04/\"]\n",
    "config.autodetect = True\n",
    "table = bigquery.Table(f\"{project}.{dataset}.applications\")\n",
    "table.external_data_configuration = config\n",
    "bq.create_table(table, exists_ok=True)"
   ]
  },
  {
   "cell_type": "code",
   "execution_count": null,
   "id": "887efb06-517f-4f01-a908-8b58def819d2",
   "metadata": {},
   "outputs": [],
   "source": [
    "%%bigquery\n",
    "SELECT *\n",
    "FROM `cs544-spring2024.test1.applications`"
   ]
  },
  {
   "cell_type": "code",
   "execution_count": null,
   "id": "87601d68-537e-4a9a-b4ad-768196339f1c",
   "metadata": {},
   "outputs": [],
   "source": []
  }
 ],
 "metadata": {
  "kernelspec": {
   "display_name": "Python 3 (ipykernel)",
   "language": "python",
   "name": "python3"
  },
  "language_info": {
   "codemirror_mode": {
    "name": "ipython",
    "version": 3
   },
   "file_extension": ".py",
   "mimetype": "text/x-python",
   "name": "python",
   "nbconvert_exporter": "python",
   "pygments_lexer": "ipython3",
   "version": "3.10.12"
  }
 },
 "nbformat": 4,
 "nbformat_minor": 5
}
