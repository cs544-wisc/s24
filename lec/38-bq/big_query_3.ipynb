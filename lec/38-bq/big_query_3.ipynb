{
 "cells": [
  {
   "cell_type": "markdown",
   "id": "d9a0a3fb-6146-4db5-8e55-2e1c18426147",
   "metadata": {},
   "source": [
    "## Big Query 1 & 2"
   ]
  },
  {
   "cell_type": "markdown",
   "id": "97203109-2eb2-461d-bb5f-397f56b01e71",
   "metadata": {},
   "source": [
    "### Things to do before lecture\n",
    "\n",
    "1. Install ``pip3 install google-cloud-bigquery google-cloud-bigquery-storage pyarrow tqdm ipywidgets pandas matplotlib db-dtypes pandas-gbq``\n",
    "2. Gloud authentication: `gcloud auth application-default login --scopes=openid,https://www.googleapis.com/auth/cloud-platform,https://www.googleapis.com/auth/drive.readonly`\n",
    "3. Start notebook on your VM: `python3 -m jupyterlab --no-browser`\n",
    "4. Establish SSH tunnel for port 8888"
   ]
  },
  {
   "cell_type": "code",
   "execution_count": null,
   "id": "35dbd8fe-62a8-43d1-9a30-0644153d4f1a",
   "metadata": {},
   "outputs": [],
   "source": [
    "project = \"cs544-spring2024\" \n",
    "# this name will probably be different for you"
   ]
  },
  {
   "cell_type": "code",
   "execution_count": null,
   "id": "8236fd51-a976-46a8-9fcc-e6ab5c91fe9a",
   "metadata": {},
   "outputs": [],
   "source": [
    "# import statement\n",
    "from google.cloud import bigquery"
   ]
  },
  {
   "cell_type": "code",
   "execution_count": null,
   "id": "8c3ffacf-d53d-4639-b9bb-48f114d2e35e",
   "metadata": {},
   "outputs": [],
   "source": [
    "# bigquery Client\n",
    "bq = bigquery.Client()"
   ]
  },
  {
   "cell_type": "markdown",
   "id": "2c392c0c-e36a-480d-8d37-f276af34abab",
   "metadata": {},
   "source": [
    "### Dataset creation"
   ]
  },
  {
   "cell_type": "code",
   "execution_count": null,
   "id": "78082b90-d247-43c1-9c08-20c90aad37a1",
   "metadata": {},
   "outputs": [],
   "source": [
    "ds = bigquery.Dataset(f\"{project}.lec_demo\")\n",
    "# ds.location = \"us-central1\"\n",
    "bq.create_dataset(ds, exists_ok=True)"
   ]
  },
  {
   "cell_type": "code",
   "execution_count": null,
   "id": "4e04e80c-410c-4ee9-a8c4-6c11c401a526",
   "metadata": {},
   "outputs": [],
   "source": [
    "q = bq.query(\"\"\"\n",
    "SELECT *\n",
    "FROM `bigquery-public-data.github_repos.languages`\n",
    "LIMIT 5\n",
    "\"\"\", job_config=no_cache)"
   ]
  },
  {
   "cell_type": "code",
   "execution_count": null,
   "id": "e83dfa8a-9853-426e-a80d-59a71a9953dc",
   "metadata": {},
   "outputs": [],
   "source": [
    "q.to_dataframe()"
   ]
  },
  {
   "cell_type": "markdown",
   "id": "7c820b65-1e71-414a-9638-f34afa88a297",
   "metadata": {},
   "source": [
    "#### Total bytes processed and billed (in MB)"
   ]
  },
  {
   "cell_type": "code",
   "execution_count": null,
   "id": "aaaa0fe8-a0b0-406d-9f81-767bafea1df5",
   "metadata": {},
   "outputs": [],
   "source": [
    "q.total_bytes_processed / 1024**2 # MB"
   ]
  },
  {
   "cell_type": "code",
   "execution_count": null,
   "id": "88185d32-91db-40a5-b516-bb5f39d96f52",
   "metadata": {},
   "outputs": [],
   "source": [
    "q.total_bytes_billed / 1024**2 # MB"
   ]
  },
  {
   "cell_type": "markdown",
   "id": "09002f21-db6c-4236-9a20-7ac5c1367453",
   "metadata": {},
   "source": [
    "### `open-lambda` repositories"
   ]
  },
  {
   "cell_type": "markdown",
   "id": "e60b4236-f2f8-4723-be47-d68c383f2e6c",
   "metadata": {},
   "source": [
    "#### What are the ten most common languages on GitHub?"
   ]
  },
  {
   "cell_type": "code",
   "execution_count": null,
   "id": "e859b4c0-758c-4b46-b7c5-08b6a5c38e2a",
   "metadata": {},
   "outputs": [],
   "source": [
    "%%bigquery top10\n",
    "SELECT *\n",
    "FROM bigquery-public-data.github_repos.languages\n",
    "CROSS JOIN UNNEST(language) AS L\n",
    "LIMIT 5"
   ]
  },
  {
   "cell_type": "code",
   "execution_count": null,
   "id": "b46fbc15-adcc-461e-b1b6-4c9ea9d57cb0",
   "metadata": {},
   "outputs": [],
   "source": [
    "%%bigquery top10\n",
    "SELECT L.name, COUNT(*) as count\n",
    "FROM bigquery-public-data.github_repos.languages\n",
    "CROSS JOIN UNNEST(language) AS L\n",
    "GROUP BY L.name\n",
    "ORDER BY count DESC\n",
    "LIMIT 10"
   ]
  },
  {
   "cell_type": "code",
   "execution_count": null,
   "id": "c942a6ff-4b62-4067-bf25-a4a49f8fc431",
   "metadata": {},
   "outputs": [],
   "source": [
    "top10"
   ]
  },
  {
   "cell_type": "code",
   "execution_count": null,
   "id": "36d9142e-876c-4c50-82c2-573cf246335b",
   "metadata": {},
   "outputs": [],
   "source": [
    "top10.set_index(\"name\")"
   ]
  },
  {
   "cell_type": "code",
   "execution_count": null,
   "id": "7b8c6a7c-8217-4836-abc9-22b4b7f6a454",
   "metadata": {},
   "outputs": [],
   "source": [
    "top10.set_index(\"name\").plot.bar()"
   ]
  },
  {
   "cell_type": "markdown",
   "id": "c48d4aef-4f88-43c9-af6d-f172eef29712",
   "metadata": {},
   "source": [
    "#### What software licenses are used most often for Python projects?"
   ]
  },
  {
   "cell_type": "code",
   "execution_count": null,
   "id": "7b42f4ec-90a3-4056-9501-417c55c7087a",
   "metadata": {},
   "outputs": [],
   "source": [
    "%%bigquery top10\n",
    "SELECT *\n",
    "FROM bigquery-public-data.github_repos.languages\n",
    "CROSS JOIN UNNEST(language) AS L\n",
    "LIMIT 5"
   ]
  },
  {
   "cell_type": "code",
   "execution_count": null,
   "id": "a47963aa-3e03-4e92-b92f-12c33f31a1af",
   "metadata": {},
   "outputs": [],
   "source": [
    "%%bigquery lic\n",
    "SELECT license, COUNT(*) as count\n",
    "FROM bigquery-public-data.github_repos.languages\n",
    "CROSS JOIN UNNEST(language) AS L\n",
    "INNER JOIN bigquery-public-data.github_repos.licenses ON languages.repo_name = licenses.repo_name\n",
    "WHERE L.name = 'Python'\n",
    "GROUP BY license\n",
    "ORDER BY count DESC"
   ]
  },
  {
   "cell_type": "code",
   "execution_count": null,
   "id": "ce3a6e6a-8abf-49f8-bca6-734f9c67c7be",
   "metadata": {},
   "outputs": [],
   "source": [
    "lic.set_index(\"license\").plot.bar()"
   ]
  },
  {
   "cell_type": "markdown",
   "id": "ff262f27-c624-4bb9-af04-9ddb9392e39d",
   "metadata": {},
   "source": [
    "### Using Bigquery on our custom data"
   ]
  },
  {
   "cell_type": "markdown",
   "id": "54a67e0e-19f0-4e8d-8d21-d092f7174509",
   "metadata": {},
   "source": [
    "### Example 1: BigQuery Table"
   ]
  },
  {
   "cell_type": "code",
   "execution_count": null,
   "id": "2390b292-d38a-4c33-a6a9-b05a6ceddf92",
   "metadata": {},
   "outputs": [],
   "source": [
    "config = bigquery.LoadJobConfig(source_format=\"PARQUET\", write_disposition=\"WRITE_TRUNCATE\")\n",
    "# Get this \"gsutil URI\" from your GCP account \n",
    "source = \"gs://s24_msyamkumar/hdma-wi-2021.parquet\"\n",
    "dataset = \"lec_demo\"\n",
    "job = bq.load_table_from_uri(source, f\"{project}.{dataset}.loans\", job_config=config)\n",
    "job.result()"
   ]
  },
  {
   "cell_type": "markdown",
   "id": "d25bf3d3-9126-472f-aed6-0abe03bce1bf",
   "metadata": {},
   "source": [
    "### Example 2: External Table (GCS)"
   ]
  },
  {
   "cell_type": "code",
   "execution_count": null,
   "id": "f7b2be51-9ce3-4339-967c-3cd2edcf4c70",
   "metadata": {},
   "outputs": [],
   "source": [
    "config = bigquery.ExternalConfig(source_format=\"PARQUET\")\n",
    "config.source_uris = [source]\n",
    "# config.autodetect = True\n",
    "table = bigquery.Table(f\"{project}.{dataset}.loans-external\")\n",
    "table.external_data_configuration = config\n",
    "bq.create_table(table, exists_ok=True)"
   ]
  },
  {
   "cell_type": "markdown",
   "id": "af1f83bf-824a-4a81-a42e-bb9f003e4206",
   "metadata": {},
   "source": [
    "### Example 3: external table (sheets)\n",
    "Form: https://forms.gle/wwqt8XBXmFj6pES56 <br>\n",
    "Sheet: https://docs.google.com/spreadsheets/d/1FfalqAWdzz01D1zIvBxsDWLW05-lvANWjjAj2vI4A04/"
   ]
  },
  {
   "cell_type": "code",
   "execution_count": null,
   "id": "fedadc5c-1a37-4756-a740-fc0b08bea963",
   "metadata": {},
   "outputs": [],
   "source": [
    "config = bigquery.ExternalConfig(source_format=\"GOOGLE_SHEETS\")\n",
    "config.source_uris = [\"https://docs.google.com/spreadsheets/d/1FfalqAWdzz01D1zIvBxsDWLW05-lvANWjjAj2vI4A04/\"]\n",
    "config.autodetect = True\n",
    "table = bigquery.Table(f\"{project}.{dataset}.applications\")\n",
    "table.external_data_configuration = config\n",
    "bq.create_table(table, exists_ok=True)"
   ]
  },
  {
   "cell_type": "code",
   "execution_count": null,
   "id": "887efb06-517f-4f01-a908-8b58def819d2",
   "metadata": {},
   "outputs": [],
   "source": [
    "%%bigquery\n",
    "SELECT *\n",
    "FROM `cs544-spring2024.test1.applications`"
   ]
  },
  {
   "cell_type": "markdown",
   "id": "dbd5cd8e-8d2b-4d72-aeeb-55928c86f8a7",
   "metadata": {},
   "source": [
    "### Geopandas GeoDataFrame\n",
    "\n",
    "- a geopandas GeoDataFrame is a subclass of pandas's DataFrame, and it has a geo column\n",
    "- `to_dataframe` gives a pandas DataFrame\n",
    "- `to_geodataframe` gives a geopandas GeoDataFrame"
   ]
  },
  {
   "cell_type": "code",
   "execution_count": null,
   "id": "244c9759-2c9f-4445-b064-3570e02d9cfa",
   "metadata": {},
   "outputs": [],
   "source": [
    "# FIPS code for WI is 55\n",
    "wi = bq.query(\"\"\"\n",
    "SELECT county_geom\n",
    "FROM bigquery-public-data.geo_us_boundaries.counties\n",
    "WHERE state_fips_code = '55'\n",
    "\"\"\").to_geodataframe()"
   ]
  },
  {
   "cell_type": "code",
   "execution_count": null,
   "id": "c9b49280-22ee-4f95-8de3-d50b419aec68",
   "metadata": {},
   "outputs": [],
   "source": [
    "type(wi)"
   ]
  },
  {
   "cell_type": "code",
   "execution_count": null,
   "id": "57b57cac-a0b2-4d5e-a827-ec3dd4780646",
   "metadata": {},
   "outputs": [],
   "source": [
    "wi.plot(color=\"0.9\", edgecolor=\"0\")"
   ]
  },
  {
   "cell_type": "markdown",
   "id": "1d35a88c-ee7e-4414-82f8-9762a8e5865d",
   "metadata": {},
   "source": [
    "### Export WI to our private table"
   ]
  },
  {
   "cell_type": "code",
   "execution_count": null,
   "id": "d16444a0-8e82-4a01-ac3e-0fd438e6ac86",
   "metadata": {},
   "outputs": [],
   "source": [
    "bq.query(\"\"\"\n",
    "CREATE OR REPLACE TABLE `???.???.wi`\n",
    "AS\n",
    "SELECT county_name, county_geom\n",
    "FROM bigquery-public-data.geo_us_boundaries.counties\n",
    "WHERE state_fips_code = '55'\n",
    "\"\"\").to_geodataframe()"
   ]
  },
  {
   "cell_type": "code",
   "execution_count": null,
   "id": "370ceb7d-0c8f-4c70-a675-0d0ed8f05c00",
   "metadata": {},
   "outputs": [],
   "source": [
    "wi = bq.query(\"SELECT * FROM ???.wi\").to_geodataframe()\n",
    "wi.head(3)"
   ]
  },
  {
   "cell_type": "code",
   "execution_count": null,
   "id": "b81e4df9-3289-4649-b5c2-395f3bed9319",
   "metadata": {},
   "outputs": [],
   "source": [
    "with open(\"wi.geojson\", \"w\") as f:\n",
    "    f.write(wi.to_json())"
   ]
  },
  {
   "cell_type": "markdown",
   "id": "b3e05734-6501-4742-95f6-2d59760bbcba",
   "metadata": {},
   "source": [
    "### ST_\\<SOME_FUNCTION\\>\n",
    "\n",
    "ST => Spacial Type"
   ]
  },
  {
   "cell_type": "code",
   "execution_count": null,
   "id": "bc867530-f1f0-47f5-bea2-415eded49d65",
   "metadata": {},
   "outputs": [],
   "source": [
    "bq.query(\"SELECT * FROM test2.wi\").to_geodataframe().plot(color=\"0.9\", edgecolor=\"0\")"
   ]
  },
  {
   "cell_type": "code",
   "execution_count": null,
   "id": "20f1e6fd-2d83-4ea4-bad7-6ce43099da6f",
   "metadata": {},
   "outputs": [],
   "source": [
    "bq.query(\"SELECT ST_UNION_AGG(county_geom) FROM test2.wi\").to_geodataframe().plot(color=\"0.9\", edgecolor=\"0\")"
   ]
  },
  {
   "cell_type": "code",
   "execution_count": null,
   "id": "e0c1c662-3fa4-4371-a750-2eeebfcf4f6d",
   "metadata": {},
   "outputs": [],
   "source": [
    "ax = bq.query(\"SELECT * FROM test2.wi\").to_geodataframe().plot(color=\"0.9\", edgecolor=\"0\")\n",
    "bq.query(\"SELECT ST_CENTROID(county_geom) FROM test2.wi\").to_geodataframe().plot(ax=ax)"
   ]
  },
  {
   "cell_type": "code",
   "execution_count": null,
   "id": "0c0ee89e-60ee-4a12-b21d-e40fde10ef97",
   "metadata": {},
   "outputs": [],
   "source": [
    "ax = bq.query(\"SELECT * FROM test2.wi\").to_geodataframe().plot(color=\"0.9\", edgecolor=\"0\")\n",
    "bq.query(\"SELECT ST_CENTROID_AGG(county_geom) FROM test2.wi\").to_geodataframe().plot(ax=ax)"
   ]
  },
  {
   "cell_type": "code",
   "execution_count": null,
   "id": "07ec949f-f4d9-40b7-ab45-9c855b521d0b",
   "metadata": {},
   "outputs": [],
   "source": [
    "bq.query(\"\"\"\n",
    "CREATE OR REPLACE TABLE test2.houses\n",
    "AS\n",
    "SELECT *, ST_GEOGPOINT(longitude, latitude) AS loc\n",
    "FROM test2.applications\n",
    "\"\"\").to_geodataframe()"
   ]
  },
  {
   "cell_type": "code",
   "execution_count": null,
   "id": "4eaedaf6-4144-4266-a872-30a57c70ea46",
   "metadata": {},
   "outputs": [],
   "source": [
    "ax = bq.query(\"SELECT * FROM test2.wi\").to_geodataframe().plot(color=\"0.9\", edgecolor=\"0\")\n",
    "bq.query(\"SELECT * FROM test2.houses\").to_geodataframe().plot(ax=ax)"
   ]
  },
  {
   "cell_type": "markdown",
   "id": "a37e4b7c-5c12-4145-95d4-e6c5cb9ae246",
   "metadata": {},
   "source": [
    "#### What are the ten houses closest to the WI capitol?  \n",
    "- ST_DISTANCE\n",
    "- ST_GEOGPOINT(-89.384107, 43.074715)"
   ]
  },
  {
   "cell_type": "code",
   "execution_count": null,
   "id": "92357bba-c1d8-4aa1-baf3-39c4609c91d4",
   "metadata": {},
   "outputs": [],
   "source": [
    "%%bigquery\n",
    "SELECT *, ST_DISTANCE(loc, ST_GEOGPOINT(-89.384107, 43.074715)) / 1000 AS km\n",
    "FROM test2.houses\n",
    "ORDER BY km ASC\n",
    "LIMIT 10"
   ]
  },
  {
   "cell_type": "code",
   "execution_count": null,
   "id": "ce9a741f-6906-400a-a9b9-28f2177aa757",
   "metadata": {},
   "outputs": [],
   "source": [
    "ax = bq.query(\"SELECT * FROM test2.wi\").to_geodataframe().plot(color=\"0.9\", edgecolor=\"0\")\n",
    "bq.query(\"\"\"\n",
    "SELECT *, ST_DISTANCE(loc, ST_GEOGPOINT(-89.384107, 43.074715)) / 1000 AS km\n",
    "FROM test2.houses\n",
    "ORDER BY km ASC\n",
    "LIMIT 10\n",
    "\"\"\").to_geodataframe().plot(ax=ax)"
   ]
  },
  {
   "cell_type": "code",
   "execution_count": null,
   "id": "db61f113-bfa3-4eec-955a-8999a7355282",
   "metadata": {},
   "outputs": [],
   "source": [
    "%%bigquery\n",
    "SELECT houses.*, wi.county_name\n",
    "FROM test2.houses CROSS JOIN test2.wi\n",
    "WHERE ST_Within(houses.loc, wi.county_geom)"
   ]
  },
  {
   "cell_type": "markdown",
   "id": "74ac46b0-3678-4e84-aa59-e2a48f318b06",
   "metadata": {},
   "source": [
    "### `ST_SNAPTOGRID`, `ST_GEOHASH`"
   ]
  },
  {
   "cell_type": "code",
   "execution_count": null,
   "id": "f3fd6aec-637d-49ce-b0e7-842ada89aca7",
   "metadata": {},
   "outputs": [],
   "source": [
    "ax = bq.query(\"SELECT * FROM test2.wi\").to_geodataframe().plot(color=\"0.9\", edgecolor=\"0\")\n",
    "\n",
    "# exact locations:\n",
    "bq.query(\"\"\"\n",
    "SELECT houses.*, wi.county_name\n",
    "FROM test2.houses CROSS JOIN test2.wi\n",
    "WHERE ST_Within(houses.loc, wi.county_geom)\n",
    "\"\"\").to_geodataframe().plot(ax=ax, color=\"k\")\n",
    "\n",
    "# approx locations:\n",
    "bq.query(\"\"\"\n",
    "SELECT ST_SNAPTOGRID(houses.loc, 0.1), wi.county_name\n",
    "FROM test2.houses CROSS JOIN test2.wi\n",
    "WHERE ST_Within(houses.loc, wi.county_geom)\n",
    "\"\"\").to_geodataframe().plot(ax=ax, color=\"r\")"
   ]
  },
  {
   "cell_type": "code",
   "execution_count": null,
   "id": "49297a88-514c-4b41-a21d-b1f2dfdfbe82",
   "metadata": {},
   "outputs": [],
   "source": [
    "bq.query(\"\"\"\n",
    "SELECT houses.loc, ST_GEOHASH(houses.loc, 3), wi.county_name\n",
    "FROM test2.houses CROSS JOIN test2.wi\n",
    "WHERE ST_Within(houses.loc, wi.county_geom)\n",
    "\"\"\").to_dataframe()"
   ]
  },
  {
   "cell_type": "markdown",
   "id": "f942f4ff-617f-4164-932a-6bf78fa04f9f",
   "metadata": {},
   "source": [
    "### Bigquery ML"
   ]
  },
  {
   "cell_type": "code",
   "execution_count": null,
   "id": "30b409c1-13fb-4bef-8e0b-491c54c4254d",
   "metadata": {},
   "outputs": [],
   "source": [
    "import pandas as pd\n",
    "import numpy as np\n",
    "df = pd.DataFrame({\"x1\": np.random.randint(0, 10, 100).astype(float), \n",
    "                   \"x2\": np.random.randint(0, 3, 100).astype(float)})\n",
    "df[\"y\"] = df[\"x1\"] + df[\"x2\"] + np.random.rand(len(df))\n",
    "df.head()"
   ]
  },
  {
   "cell_type": "code",
   "execution_count": null,
   "id": "98986a05-d0cb-4cc9-a635-7314d47d6103",
   "metadata": {},
   "outputs": [],
   "source": [
    "# gbq: google big query\n",
    "df.to_gbq(\"???.???.sampleml\", if_exists=\"replace\")"
   ]
  },
  {
   "cell_type": "code",
   "execution_count": null,
   "id": "b6cf754f-0b40-4920-9508-099168aea633",
   "metadata": {},
   "outputs": [],
   "source": [
    "%%bigquery\n",
    "CREATE OR REPLACE TABLE test2.traintest\n",
    "\n",
    "AS\n",
    "\n",
    "SELECT x1,x2,y,rand() < 0.25 AS test\n",
    "FROM test2.samp1"
   ]
  },
  {
   "cell_type": "code",
   "execution_count": null,
   "id": "d26e7536-008f-4385-a697-79b5bd13d28f",
   "metadata": {},
   "outputs": [],
   "source": [
    "%%bigquery\n",
    "CREATE OR REPLACE MODEL test2.lr\n",
    "OPTIONS(model_type=\"LINEAR_REG\", INPUT_LABEL_COLS=[\"y\"])\n",
    "\n",
    "AS\n",
    "\n",
    "select x1,x2,y\n",
    "from test2.traintest\n",
    "where NOT test"
   ]
  },
  {
   "cell_type": "code",
   "execution_count": null,
   "id": "0460cd01-3982-4ee7-9844-191c7633a016",
   "metadata": {},
   "outputs": [],
   "source": [
    "%%bigquery\n",
    "SELECT *\n",
    "FROM ML.WEIGHTS(MODEL test2.lr)"
   ]
  },
  {
   "cell_type": "code",
   "execution_count": null,
   "id": "037ae82e-b325-4bf3-8223-413109aaaff7",
   "metadata": {},
   "outputs": [],
   "source": [
    "%%bigquery\n",
    "SELECT *\n",
    "FROM ML.PREDICT(MODEL test2.lr, (\n",
    "    select x1,x2,y\n",
    "    from test2.traintest\n",
    "    where test\n",
    "))"
   ]
  },
  {
   "cell_type": "code",
   "execution_count": null,
   "id": "2dffa85f-5686-4ecd-826c-275073b4a289",
   "metadata": {},
   "outputs": [],
   "source": [
    "%%bigquery df\n",
    "SELECT *\n",
    "FROM ML.EVALUATE(MODEL test2.lr, (\n",
    "    select x1,x2,y\n",
    "    from test2.traintest\n",
    "    where test\n",
    "))"
   ]
  },
  {
   "cell_type": "code",
   "execution_count": null,
   "id": "5b8361a9-8023-4f0b-b5af-f21c4ee2a01a",
   "metadata": {},
   "outputs": [],
   "source": [
    "df"
   ]
  },
  {
   "cell_type": "code",
   "execution_count": null,
   "id": "e9d9e15a-01f9-4388-9482-4bc16e5be05d",
   "metadata": {},
   "outputs": [],
   "source": [
    "df.at[0, \"r2_score\"]"
   ]
  }
 ],
 "metadata": {
  "kernelspec": {
   "display_name": "Python 3 (ipykernel)",
   "language": "python",
   "name": "python3"
  },
  "language_info": {
   "codemirror_mode": {
    "name": "ipython",
    "version": 3
   },
   "file_extension": ".py",
   "mimetype": "text/x-python",
   "name": "python",
   "nbconvert_exporter": "python",
   "pygments_lexer": "ipython3",
   "version": "3.10.12"
  }
 },
 "nbformat": 4,
 "nbformat_minor": 5
}
