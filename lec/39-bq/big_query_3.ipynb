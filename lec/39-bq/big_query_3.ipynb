{
 "cells": [
  {
   "cell_type": "markdown",
   "id": "d9a0a3fb-6146-4db5-8e55-2e1c18426147",
   "metadata": {},
   "source": [
    "## Big Query 3 continued"
   ]
  },
  {
   "cell_type": "code",
   "execution_count": null,
   "id": "35dbd8fe-62a8-43d1-9a30-0644153d4f1a",
   "metadata": {},
   "outputs": [],
   "source": [
    "project = \"cs544-spring2024\" \n",
    "dataset = \"lec_demo\""
   ]
  },
  {
   "cell_type": "code",
   "execution_count": null,
   "id": "8236fd51-a976-46a8-9fcc-e6ab5c91fe9a",
   "metadata": {},
   "outputs": [],
   "source": [
    "# import statement\n",
    "from google.cloud import bigquery"
   ]
  },
  {
   "cell_type": "code",
   "execution_count": null,
   "id": "8c3ffacf-d53d-4639-b9bb-48f114d2e35e",
   "metadata": {},
   "outputs": [],
   "source": [
    "# bigquery Client\n",
    "bq = bigquery.Client()"
   ]
  },
  {
   "cell_type": "code",
   "execution_count": null,
   "id": "29e6aa90-5c53-4bf7-bdc7-d248450d4ec1",
   "metadata": {},
   "outputs": [],
   "source": [
    "%load_ext google.cloud.bigquery"
   ]
  },
  {
   "cell_type": "markdown",
   "id": "dbd5cd8e-8d2b-4d72-aeeb-55928c86f8a7",
   "metadata": {},
   "source": [
    "### Geopandas GeoDataFrame\n",
    "\n",
    "- Installation requirements: `pip3 install geopandas`\n",
    "- a geopandas GeoDataFrame is a subclass of pandas's DataFrame, and it has a geo column\n",
    "- `to_dataframe` gives a pandas DataFrame\n",
    "- `to_geodataframe` gives a geopandas GeoDataFrame"
   ]
  },
  {
   "cell_type": "code",
   "execution_count": null,
   "id": "3329ba05-03a2-42b9-be9b-2d774025bd80",
   "metadata": {},
   "outputs": [],
   "source": [
    "# FIPS code for WI is 55\n",
    "wi = bq.query(\"\"\"\n",
    "SELECT county_geom\n",
    "FROM bigquery-public-data.geo_us_boundaries.counties\n",
    "WHERE state_fips_code = '55'\n",
    "\"\"\").to_dataframe()"
   ]
  },
  {
   "cell_type": "code",
   "execution_count": null,
   "id": "1a32845b-1a4a-4290-acbe-edb7388373ca",
   "metadata": {},
   "outputs": [],
   "source": [
    "wi"
   ]
  },
  {
   "cell_type": "code",
   "execution_count": null,
   "id": "244c9759-2c9f-4445-b064-3570e02d9cfa",
   "metadata": {},
   "outputs": [],
   "source": [
    "# FIPS code for WI is 55\n",
    "wi = bq.query(\"\"\"\n",
    "SELECT county_geom\n",
    "FROM bigquery-public-data.geo_us_boundaries.counties\n",
    "WHERE state_fips_code = '55'\n",
    "\"\"\").to_geodataframe()"
   ]
  },
  {
   "cell_type": "code",
   "execution_count": null,
   "id": "ea14b68c-e8c9-4ede-bc9b-424c8c74cb49",
   "metadata": {},
   "outputs": [],
   "source": [
    "wi"
   ]
  },
  {
   "cell_type": "code",
   "execution_count": null,
   "id": "c9b49280-22ee-4f95-8de3-d50b419aec68",
   "metadata": {},
   "outputs": [],
   "source": [
    "type(wi)"
   ]
  },
  {
   "cell_type": "code",
   "execution_count": null,
   "id": "7e340276-5945-4606-9080-b274ef071254",
   "metadata": {},
   "outputs": [],
   "source": [
    "wi.plot()"
   ]
  },
  {
   "cell_type": "code",
   "execution_count": null,
   "id": "57b57cac-a0b2-4d5e-a827-ec3dd4780646",
   "metadata": {},
   "outputs": [],
   "source": [
    "wi.plot(color=\"0.9\", edgecolor=\"0\")"
   ]
  },
  {
   "cell_type": "markdown",
   "id": "1d35a88c-ee7e-4414-82f8-9762a8e5865d",
   "metadata": {},
   "source": [
    "### Export WI to our private table\n",
    "\n",
    "Why? So as to not keep querying the whole US data to retrieve just WI dataset."
   ]
  },
  {
   "cell_type": "code",
   "execution_count": null,
   "id": "d16444a0-8e82-4a01-ac3e-0fd438e6ac86",
   "metadata": {},
   "outputs": [],
   "source": [
    "bq.query(\"\"\"\n",
    "CREATE OR REPLACE TABLE `cs544-spring2024.lec_demo.wi`\n",
    "AS\n",
    "SELECT county_name, county_geom\n",
    "FROM bigquery-public-data.geo_us_boundaries.counties\n",
    "WHERE state_fips_code = '55'\n",
    "\"\"\").to_geodataframe()"
   ]
  },
  {
   "cell_type": "code",
   "execution_count": null,
   "id": "370ceb7d-0c8f-4c70-a675-0d0ed8f05c00",
   "metadata": {},
   "outputs": [],
   "source": [
    "wi = bq.query(\"SELECT * FROM lec_demo.wi\").to_geodataframe()\n",
    "wi.head(3)"
   ]
  },
  {
   "cell_type": "code",
   "execution_count": null,
   "id": "b81e4df9-3289-4649-b5c2-395f3bed9319",
   "metadata": {},
   "outputs": [],
   "source": [
    "with open(\"wi.geojson\", \"w\") as f:\n",
    "    f.write(wi.to_json())"
   ]
  },
  {
   "cell_type": "markdown",
   "id": "b3e05734-6501-4742-95f6-2d59760bbcba",
   "metadata": {},
   "source": [
    "### ST_\\<SOME_FUNCTION\\>\n",
    "\n",
    "ST => Spacial Type"
   ]
  },
  {
   "cell_type": "code",
   "execution_count": null,
   "id": "bc867530-f1f0-47f5-bea2-415eded49d65",
   "metadata": {},
   "outputs": [],
   "source": [
    "bq.query(\"SELECT * FROM lec_demo.wi\").to_geodataframe().plot(color=\"0.9\", edgecolor=\"0\")"
   ]
  },
  {
   "cell_type": "markdown",
   "id": "5f937941-aaeb-4962-89de-91af292d3014",
   "metadata": {},
   "source": [
    "### `ST_UNION_AGG`\n",
    "\n",
    "- could be used with `GROUP BY`"
   ]
  },
  {
   "cell_type": "code",
   "execution_count": null,
   "id": "20f1e6fd-2d83-4ea4-bad7-6ce43099da6f",
   "metadata": {},
   "outputs": [],
   "source": [
    "bq.query(\"SELECT ST_UNION_AGG(county_geom) FROM lec_demo.wi\").to_geodataframe().plot(color=\"0.9\", edgecolor=\"0\")"
   ]
  },
  {
   "cell_type": "markdown",
   "id": "23720b05-e8a2-4bf8-bffc-478642d88185",
   "metadata": {},
   "source": [
    "### `ST_CENTROID` and `ST_CENTROID_AGG`"
   ]
  },
  {
   "cell_type": "code",
   "execution_count": null,
   "id": "e0c1c662-3fa4-4371-a750-2eeebfcf4f6d",
   "metadata": {},
   "outputs": [],
   "source": [
    "ax = bq.query(\"SELECT * FROM lec_demo.wi\").to_geodataframe().plot(color=\"0.9\", edgecolor=\"0\")\n",
    "bq.query(\"SELECT ST_CENTROID(county_geom) FROM lec_demo.wi\").to_geodataframe().plot(ax=ax, color=\"r\")"
   ]
  },
  {
   "cell_type": "code",
   "execution_count": null,
   "id": "0c0ee89e-60ee-4a12-b21d-e40fde10ef97",
   "metadata": {},
   "outputs": [],
   "source": [
    "ax = bq.query(\"SELECT * FROM lec_demo.wi\").to_geodataframe().plot(color=\"0.9\", edgecolor=\"0\")\n",
    "bq.query(\"SELECT ST_CENTROID_AGG(county_geom) FROM lec_demo.wi\").to_geodataframe().plot(ax=ax, color=\"r\")"
   ]
  },
  {
   "cell_type": "markdown",
   "id": "6d52946a-957a-4b67-a4fb-4d6c9f985833",
   "metadata": {},
   "source": [
    "### `ST_GEOGPOINT`"
   ]
  },
  {
   "cell_type": "code",
   "execution_count": null,
   "id": "8a6d3239-8713-441b-8be0-45da9fa89044",
   "metadata": {},
   "outputs": [],
   "source": [
    "bq.query(\"\"\"\n",
    "SELECT *\n",
    "FROM lec_demo.applications\n",
    "\"\"\").to_dataframe()"
   ]
  },
  {
   "cell_type": "code",
   "execution_count": null,
   "id": "9da38c16-6b72-4641-8dfb-a8f10c30ee4e",
   "metadata": {},
   "outputs": [],
   "source": [
    "# doesn't work because we need geo column\n",
    "# lat / lon are just floats\n",
    "bq.query(\"\"\"\n",
    "SELECT *\n",
    "FROM lec_demo.applications\n",
    "\"\"\").to_geodataframe()"
   ]
  },
  {
   "cell_type": "code",
   "execution_count": null,
   "id": "1a3208ce-ad63-4812-acba-4d676001e041",
   "metadata": {},
   "outputs": [],
   "source": [
    "bq.query(\"\"\"\n",
    "SELECT *, ST_GEOGPOINT(longitude, latitude) AS loc\n",
    "FROM lec_demo.applications\n",
    "\"\"\").to_geodataframe()"
   ]
  },
  {
   "cell_type": "markdown",
   "id": "acacf298-4f35-48a9-9731-bf4409975884",
   "metadata": {},
   "source": [
    "#### Creating a `houses` table"
   ]
  },
  {
   "cell_type": "code",
   "execution_count": null,
   "id": "07ec949f-f4d9-40b7-ab45-9c855b521d0b",
   "metadata": {},
   "outputs": [],
   "source": [
    "bq.query(\"\"\"\n",
    "CREATE OR REPLACE TABLE lec_demo.houses\n",
    "AS\n",
    "SELECT *, ST_GEOGPOINT(longitude, latitude) AS loc\n",
    "FROM lec_demo.applications\n",
    "\"\"\").to_geodataframe()"
   ]
  },
  {
   "cell_type": "code",
   "execution_count": null,
   "id": "2bce6f64-502d-48e0-9462-f4dc0d6fae53",
   "metadata": {},
   "outputs": [],
   "source": [
    "ax = bq.query(\"SELECT * FROM lec_demo.wi\").to_geodataframe().plot(color=\"0.9\", edgecolor=\"0\")\n",
    "bq.query(\"SELECT * FROM lec_demo.houses\").to_geodataframe().plot(ax=ax)"
   ]
  },
  {
   "cell_type": "code",
   "execution_count": null,
   "id": "0e436a1d-43e8-4dfd-8d27-f7bd468949ce",
   "metadata": {},
   "outputs": [],
   "source": [
    "import geopandas\n",
    "world = geopandas.read_file(geopandas.datasets.get_path('naturalearth_lowres'))\n",
    "ax = world.plot(color=\"0.9\", edgecolor=\"0\")\n",
    "bq.query(\"SELECT * FROM lec_demo.houses\").to_geodataframe().plot(ax=ax, color=\"r\")"
   ]
  },
  {
   "cell_type": "markdown",
   "id": "a37e4b7c-5c12-4145-95d4-e6c5cb9ae246",
   "metadata": {},
   "source": [
    "#### What are the ten houses closest to the WI capitol?  \n",
    "- `ST_DISTANCE`\n",
    "- `ST_GEOGPOINT(-89.384107, 43.074715)`"
   ]
  },
  {
   "cell_type": "code",
   "execution_count": null,
   "id": "92357bba-c1d8-4aa1-baf3-39c4609c91d4",
   "metadata": {},
   "outputs": [],
   "source": [
    "%%bigquery\n",
    "SELECT *, ST_DISTANCE(loc, ST_GEOGPOINT(-89.384107, 43.074715)) / 1000 AS km\n",
    "FROM lec_demo.houses\n",
    "ORDER BY km ASC\n",
    "LIMIT 10"
   ]
  },
  {
   "cell_type": "code",
   "execution_count": null,
   "id": "ce9a741f-6906-400a-a9b9-28f2177aa757",
   "metadata": {},
   "outputs": [],
   "source": [
    "ax = bq.query(\"SELECT * FROM lec_demo.wi\").to_geodataframe().plot(color=\"0.9\", edgecolor=\"0\")\n",
    "bq.query(\"\"\"\n",
    "SELECT *, ST_DISTANCE(loc, ST_GEOGPOINT(-89.384107, 43.074715)) / 1000 AS km\n",
    "FROM lec_demo.houses\n",
    "ORDER BY km ASC\n",
    "LIMIT 10\n",
    "\"\"\").to_geodataframe().plot(ax=ax, color=\"r\")"
   ]
  },
  {
   "cell_type": "markdown",
   "id": "41ad72ac-a6b0-4c04-a19f-108b31c6d24e",
   "metadata": {},
   "source": [
    "### Spatial JOIN\n",
    "\n",
    "- `CROSS JOIN` followed by a filter using `ST_WITHIN` or `ST_CONTAINS`\n",
    "- or `INNER JOIN` with the filter inside `ON` clause\n",
    "  \n",
    "#### What houses are in WI?"
   ]
  },
  {
   "cell_type": "code",
   "execution_count": null,
   "id": "db61f113-bfa3-4eec-955a-8999a7355282",
   "metadata": {},
   "outputs": [],
   "source": [
    "%%bigquery\n",
    "SELECT houses.*, wi.county_name\n",
    "FROM lec_demo.houses CROSS JOIN lec_demo.wi\n",
    "WHERE ST_Within(houses.loc, wi.county_geom)"
   ]
  },
  {
   "cell_type": "code",
   "execution_count": null,
   "id": "a3924ef1-4d84-43d1-a980-61ab69de61d2",
   "metadata": {},
   "outputs": [],
   "source": [
    "ax = bq.query(\"SELECT * FROM lec_demo.wi\").to_geodataframe().plot(color=\"0.9\", edgecolor=\"0\")\n",
    "bq.query(\"\"\"\n",
    "SELECT houses.*, wi.county_name\n",
    "FROM lec_demo.houses CROSS JOIN lec_demo.wi\n",
    "WHERE ST_Within(houses.loc, wi.county_geom)\n",
    "\"\"\").to_geodataframe().plot(ax=ax, color=\"r\")"
   ]
  },
  {
   "cell_type": "markdown",
   "id": "74ac46b0-3678-4e84-aa59-e2a48f318b06",
   "metadata": {},
   "source": [
    "### `ST_SNAPTOGRID`, `ST_GEOHASH`\n",
    "\n",
    "- enables us to provide approximate location instead of actual location\n",
    "- very useful to avoid privacy concerns"
   ]
  },
  {
   "cell_type": "code",
   "execution_count": null,
   "id": "f3fd6aec-637d-49ce-b0e7-842ada89aca7",
   "metadata": {},
   "outputs": [],
   "source": [
    "ax = bq.query(\"SELECT * FROM lec_demo.wi\").to_geodataframe().plot(color=\"0.9\", edgecolor=\"0\")\n",
    "\n",
    "# exact locations:\n",
    "bq.query(\"\"\"\n",
    "SELECT houses.*, wi.county_name\n",
    "FROM lec_demo.houses CROSS JOIN lec_demo.wi\n",
    "WHERE ST_Within(houses.loc, wi.county_geom)\n",
    "\"\"\").to_geodataframe().plot(ax=ax, color=\"k\")\n",
    "\n",
    "# approx locations:\n",
    "bq.query(\"\"\"\n",
    "SELECT ST_SNAPTOGRID(houses.loc, 0.1), wi.county_name\n",
    "FROM lec_demo.houses CROSS JOIN lec_demo.wi\n",
    "WHERE ST_Within(houses.loc, wi.county_geom)\n",
    "\"\"\").to_geodataframe().plot(ax=ax, color=\"r\")"
   ]
  },
  {
   "cell_type": "code",
   "execution_count": null,
   "id": "49297a88-514c-4b41-a21d-b1f2dfdfbe82",
   "metadata": {},
   "outputs": [],
   "source": [
    "bq.query(\"\"\"\n",
    "SELECT houses.loc, ST_GEOHASH(houses.loc, 3), wi.county_name\n",
    "FROM lec_demo.houses CROSS JOIN lec_demo.wi\n",
    "WHERE ST_Within(houses.loc, wi.county_geom)\n",
    "\"\"\").to_dataframe()"
   ]
  },
  {
   "cell_type": "markdown",
   "id": "f942f4ff-617f-4164-932a-6bf78fa04f9f",
   "metadata": {},
   "source": [
    "### Bigquery ML"
   ]
  },
  {
   "cell_type": "code",
   "execution_count": null,
   "id": "30b409c1-13fb-4bef-8e0b-491c54c4254d",
   "metadata": {},
   "outputs": [],
   "source": [
    "import pandas as pd\n",
    "import numpy as np\n",
    "df = pd.DataFrame({\"x1\": np.random.randint(0, 10, 100).astype(float), \n",
    "                   \"x2\": np.random.randint(0, 3, 100).astype(float)})\n",
    "df[\"y\"] = df[\"x1\"] + df[\"x2\"] + np.random.rand(len(df))\n",
    "df.head()"
   ]
  },
  {
   "cell_type": "code",
   "execution_count": null,
   "id": "98986a05-d0cb-4cc9-a635-7314d47d6103",
   "metadata": {},
   "outputs": [],
   "source": [
    "# gbq: google big query\n",
    "df.to_gbq(f\"{project}.{dataset}.sampleml\", if_exists=\"replace\")"
   ]
  },
  {
   "cell_type": "markdown",
   "id": "7d181c9c-cb26-46d5-896f-a23630dc7549",
   "metadata": {},
   "source": [
    "### Train-test split using `rand()`"
   ]
  },
  {
   "cell_type": "code",
   "execution_count": null,
   "id": "fc0889e9-2900-4a78-be77-e23bba20278e",
   "metadata": {},
   "outputs": [],
   "source": [
    "%%bigquery\n",
    "SELECT x1,x2,y,rand() < 0.25 AS test\n",
    "FROM lec_demo.sampleml"
   ]
  },
  {
   "cell_type": "code",
   "execution_count": null,
   "id": "b6cf754f-0b40-4920-9508-099168aea633",
   "metadata": {},
   "outputs": [],
   "source": [
    "%%bigquery\n",
    "CREATE OR REPLACE TABLE lec_demo.traintest\n",
    "\n",
    "AS\n",
    "\n",
    "SELECT x1,x2,y,rand() < 0.25 AS test\n",
    "FROM lec_demo.sampleml"
   ]
  },
  {
   "cell_type": "markdown",
   "id": "34f6302a-8523-4f68-9bb7-b38e15547808",
   "metadata": {},
   "source": [
    "### Creating and training a `LINEAR_REG` model"
   ]
  },
  {
   "cell_type": "code",
   "execution_count": null,
   "id": "30b0667b-2443-4483-b5c0-b9810d2157ff",
   "metadata": {},
   "outputs": [],
   "source": [
    "%%bigquery \n",
    "select x1, x2, y\n",
    "from lec_demo.traintest\n",
    "where NOT test"
   ]
  },
  {
   "cell_type": "code",
   "execution_count": null,
   "id": "d26e7536-008f-4385-a697-79b5bd13d28f",
   "metadata": {},
   "outputs": [],
   "source": [
    "%%bigquery\n",
    "CREATE OR REPLACE MODEL lec_demo.lr\n",
    "OPTIONS(model_type=\"LINEAR_REG\", INPUT_LABEL_COLS=[\"y\"])\n",
    "\n",
    "AS\n",
    "\n",
    "select x1, x2, y\n",
    "from lec_demo.traintest\n",
    "where NOT test"
   ]
  },
  {
   "cell_type": "markdown",
   "id": "bc109dbc-77bc-4db8-b6e6-5c9da00bf014",
   "metadata": {},
   "source": [
    "### Model weights: `ML.WEIGHTS`"
   ]
  },
  {
   "cell_type": "code",
   "execution_count": null,
   "id": "0460cd01-3982-4ee7-9844-191c7633a016",
   "metadata": {},
   "outputs": [],
   "source": [
    "%%bigquery\n",
    "SELECT *\n",
    "FROM ML.WEIGHTS(MODEL lec_demo.lr)"
   ]
  },
  {
   "cell_type": "markdown",
   "id": "43c5941b-ccce-4590-bb8b-53f8760bebee",
   "metadata": {},
   "source": [
    "### Using the model to make predictions: `ML.PREDICT`"
   ]
  },
  {
   "cell_type": "code",
   "execution_count": null,
   "id": "037ae82e-b325-4bf3-8223-413109aaaff7",
   "metadata": {},
   "outputs": [],
   "source": [
    "%%bigquery\n",
    "SELECT *\n",
    "FROM ML.PREDICT(MODEL lec_demo.lr, (\n",
    "    select x1, x2, y\n",
    "    from lec_demo.traintest\n",
    "    where test\n",
    "))"
   ]
  },
  {
   "cell_type": "code",
   "execution_count": null,
   "id": "aeecbb81-6691-47fa-bb1c-939e455715fe",
   "metadata": {},
   "outputs": [],
   "source": [
    "%%bigquery\n",
    "SELECT *\n",
    "FROM ML.PREDICT(MODEL lec_demo.lr, (\n",
    "    select y, x1, x2\n",
    "    from lec_demo.traintest\n",
    "    where test\n",
    "))"
   ]
  },
  {
   "cell_type": "markdown",
   "id": "4bb03575-7291-47f8-959a-ae60357fde80",
   "metadata": {},
   "source": [
    "For `ML.PREDICT`, label column is optional."
   ]
  },
  {
   "cell_type": "code",
   "execution_count": null,
   "id": "63faa281-cb07-4187-bc21-bc40819b7508",
   "metadata": {},
   "outputs": [],
   "source": [
    "%%bigquery\n",
    "SELECT *\n",
    "FROM ML.PREDICT(MODEL lec_demo.lr, (\n",
    "    select x1, x2\n",
    "    from lec_demo.traintest\n",
    "    where test\n",
    "))"
   ]
  },
  {
   "cell_type": "markdown",
   "id": "0bb05c80-4cf3-46c9-bbc3-c473ed39f51e",
   "metadata": {},
   "source": [
    "### Evaluating how well the model is performing: `ML.EVALUATE`\n",
    "\n",
    "For `ML.EVALUATE`, label column is required."
   ]
  },
  {
   "cell_type": "code",
   "execution_count": null,
   "id": "a3fbbf01-602f-46a1-9350-092da9cabc2e",
   "metadata": {},
   "outputs": [],
   "source": [
    "%%bigquery df\n",
    "SELECT *\n",
    "FROM ML.EVALUATE(MODEL lec_demo.lr, (\n",
    "    select x1, x2\n",
    "    from lec_demo.traintest\n",
    "    where test\n",
    "))"
   ]
  },
  {
   "cell_type": "code",
   "execution_count": null,
   "id": "2dffa85f-5686-4ecd-826c-275073b4a289",
   "metadata": {},
   "outputs": [],
   "source": [
    "%%bigquery df\n",
    "SELECT *\n",
    "FROM ML.EVALUATE(MODEL lec_demo.lr, (\n",
    "    select x1, x2, y\n",
    "    from lec_demo.traintest\n",
    "    where test\n",
    "))"
   ]
  },
  {
   "cell_type": "code",
   "execution_count": null,
   "id": "5b8361a9-8023-4f0b-b5af-f21c4ee2a01a",
   "metadata": {},
   "outputs": [],
   "source": [
    "df"
   ]
  },
  {
   "cell_type": "code",
   "execution_count": null,
   "id": "e9d9e15a-01f9-4388-9482-4bc16e5be05d",
   "metadata": {},
   "outputs": [],
   "source": [
    "df.at[0, \"r2_score\"]"
   ]
  },
  {
   "cell_type": "markdown",
   "id": "09be4531-14db-4bdc-afcb-0611006cd9cb",
   "metadata": {},
   "source": [
    "**FINAL EXAM CUT OFF POINT**\n",
    "***"
   ]
  },
  {
   "cell_type": "markdown",
   "id": "98c58f53-77d0-4569-be5b-a9dd6049504c",
   "metadata": {},
   "source": [
    "### Transformers"
   ]
  },
  {
   "cell_type": "code",
   "execution_count": null,
   "id": "e30256ba-8f30-46e6-8558-062dc9543549",
   "metadata": {},
   "outputs": [],
   "source": [
    "df = pd.DataFrame({\"x1\": np.random.randint(0, 10, 100).astype(float), \n",
    "                   \"x2\": np.random.randint(0, 3, 100).astype(float)})\n",
    "df[\"y\"] = 2 * df[\"x1\"] ** 2 - 3 * df[\"x2\"] + np.random.rand(len(df))\n",
    "df.head()"
   ]
  },
  {
   "cell_type": "code",
   "execution_count": null,
   "id": "9e48bd29-51e5-456b-9191-6ef005eef2cb",
   "metadata": {},
   "outputs": [],
   "source": [
    "df.to_gbq(f\"{project}.{dataset}.tbl1\")"
   ]
  },
  {
   "cell_type": "code",
   "execution_count": null,
   "id": "6470e335-84de-4ad9-963d-74fbc287f356",
   "metadata": {},
   "outputs": [],
   "source": [
    "%%bigquery\n",
    "CREATE OR REPLACE MODEL lec_demo.m1\n",
    "OPTIONS(model_type=\"LINEAR_REG\", INPUT_LABEL_COLS=[\"y\"])\n",
    "\n",
    "AS\n",
    "\n",
    "select x1, x2, y\n",
    "from lec_demo.tbl1"
   ]
  },
  {
   "cell_type": "code",
   "execution_count": null,
   "id": "36eb7ddb-0857-4d8e-bd2b-fcd042cb37d2",
   "metadata": {},
   "outputs": [],
   "source": [
    "%%bigquery df\n",
    "SELECT *\n",
    "FROM ML.EVALUATE(MODEL lec_demo.m1, (\n",
    "    select x1, x2, y\n",
    "    from lec_demo.tbl1\n",
    "))"
   ]
  },
  {
   "cell_type": "code",
   "execution_count": null,
   "id": "03146d29-e6fb-4590-96ed-7c57d3e15b6b",
   "metadata": {},
   "outputs": [],
   "source": [
    "df"
   ]
  },
  {
   "cell_type": "code",
   "execution_count": null,
   "id": "25fbac15-6b73-4613-94dc-26ebaf4b7668",
   "metadata": {},
   "outputs": [],
   "source": [
    "%%bigquery\n",
    "select x1, POWER(x1, 2) AS x1_2, x2, POWER(x2, 2) AS x2_2, y\n",
    "from lec_demo.tbl1\n",
    "LIMIT 5"
   ]
  },
  {
   "cell_type": "code",
   "execution_count": null,
   "id": "fad7c4f1-b335-40a8-bbc7-75e66ffb891e",
   "metadata": {},
   "outputs": [],
   "source": [
    "%%bigquery\n",
    "CREATE OR REPLACE MODEL lec_demo.m2\n",
    "TRANSFORM(x1, POWER(x1, 2) AS x1_2, x2, POWER(x2, 2) AS x2_2, y)\n",
    "OPTIONS(model_type=\"LINEAR_REG\", INPUT_LABEL_COLS=[\"y\"])\n",
    "\n",
    "AS\n",
    "\n",
    "select x1, x2, y\n",
    "from lec_demo.tbl1"
   ]
  },
  {
   "cell_type": "code",
   "execution_count": null,
   "id": "5ff5923a-1c39-498c-a1ab-5b666683de92",
   "metadata": {},
   "outputs": [],
   "source": [
    "%%bigquery df\n",
    "SELECT *\n",
    "FROM ML.EVALUATE(MODEL lec_demo.m2, (\n",
    "    select x1, x2, y\n",
    "    from lec_demo.tbl1\n",
    "))"
   ]
  },
  {
   "cell_type": "code",
   "execution_count": null,
   "id": "ab8eec7e-8d83-4ab1-9e78-78f3a870db7b",
   "metadata": {},
   "outputs": [],
   "source": [
    "df"
   ]
  },
  {
   "cell_type": "markdown",
   "id": "d2210e82-5616-45b0-9fbc-d2c40ff6db59",
   "metadata": {},
   "source": [
    "#### Compare m1 to m2"
   ]
  },
  {
   "cell_type": "code",
   "execution_count": null,
   "id": "16515c1a-3773-4d5e-bedc-7f6efa188a22",
   "metadata": {},
   "outputs": [],
   "source": [
    "%%bigquery\n",
    "SELECT *\n",
    "FROM ML.EVALUATE(MODEL lec_demo.m1, (\n",
    "    select x1, x2, y\n",
    "    from lec_demo.tbl1\n",
    "))\n",
    "UNION ALL\n",
    "SELECT *\n",
    "FROM ML.EVALUATE(MODEL lec_demo.m2, (\n",
    "    select x1, x2, y\n",
    "    from lec_demo.tbl1\n",
    "))"
   ]
  },
  {
   "cell_type": "code",
   "execution_count": null,
   "id": "f20258f5-1327-4563-b952-cacc8a6f5bd7",
   "metadata": {},
   "outputs": [],
   "source": [
    "%%bigquery df\n",
    "SELECT \"m1\" as model, r2_score\n",
    "FROM ML.EVALUATE(MODEL lec_demo.m1, (\n",
    "    select x1, x2, y\n",
    "    from lec_demo.tbl1\n",
    "))\n",
    "UNION ALL\n",
    "SELECT \"m2\" as model, r2_score\n",
    "FROM ML.EVALUATE(MODEL lec_demo.m2, (\n",
    "    select x1, x2, y\n",
    "    from lec_demo.tbl1\n",
    "))"
   ]
  },
  {
   "cell_type": "code",
   "execution_count": null,
   "id": "82e14243-272f-44a7-8d03-2cde42b22dad",
   "metadata": {},
   "outputs": [],
   "source": [
    "df"
   ]
  },
  {
   "cell_type": "code",
   "execution_count": null,
   "id": "3fd01069-6692-4ee9-b18b-864f9195475b",
   "metadata": {},
   "outputs": [],
   "source": [
    "ax = df.set_index(\"model\").plot.bar(figsize=(3, 3))\n",
    "ax.set_ylabel(\"R^2 Score\")"
   ]
  },
  {
   "cell_type": "markdown",
   "id": "b43e9114-d480-4847-b0e3-60417026ff5e",
   "metadata": {},
   "source": [
    "### OneHot encoding example"
   ]
  },
  {
   "cell_type": "code",
   "execution_count": null,
   "id": "5d137e48-84c8-4a44-9bdc-a44f5f71b699",
   "metadata": {},
   "outputs": [],
   "source": [
    "df = pd.DataFrame({\"x1\": np.random.choice([\"A\", \"B\", \"C\"], 100), \n",
    "                   \"x2\": np.random.randint(0, 10, 100).astype(float)})\n",
    "df[\"y\"] = df[\"x1\"].map({\"A\":1, \"B\":5, \"C\":15}) + 2 * df[\"x2\"] + np.random.rand(len(df))\n",
    "df.head(3)"
   ]
  },
  {
   "cell_type": "code",
   "execution_count": null,
   "id": "e0dc5965-7f96-470b-b30a-946b380262db",
   "metadata": {},
   "outputs": [],
   "source": [
    "df.to_gbq(f\"{project}.{dataset}.tbl2\")"
   ]
  },
  {
   "cell_type": "code",
   "execution_count": null,
   "id": "c2155e16-bfc1-4f87-b000-c1db26b36b13",
   "metadata": {},
   "outputs": [],
   "source": [
    "%%bigquery\n",
    "CREATE MODEL lec_demo.m3\n",
    "OPTIONS(model_type=\"LINEAR_REG\", input_label_cols=[\"y\"])\n",
    "\n",
    "AS\n",
    "\n",
    "SELECT x1, x2, y\n",
    "FROM lec_demo.tbl2"
   ]
  },
  {
   "cell_type": "code",
   "execution_count": null,
   "id": "acddcaf3-bf6f-416f-8e56-637b1f41c0a4",
   "metadata": {},
   "outputs": [],
   "source": [
    "%%bigquery\n",
    "SELECT \"m3\" as model, r2_score\n",
    "FROM ML.EVALUATE(MODEL lec_demo.m3, (\n",
    "    select x1, x2, y\n",
    "    from lec_demo.tbl2\n",
    "))"
   ]
  },
  {
   "cell_type": "code",
   "execution_count": null,
   "id": "342514d2-711d-4a85-841a-db154f2a7b15",
   "metadata": {},
   "outputs": [],
   "source": [
    "%%bigquery df \n",
    "SELECT *\n",
    "FROM ML.WEIGHTS(MODEL lec_demo.m3)"
   ]
  },
  {
   "cell_type": "code",
   "execution_count": null,
   "id": "71f20713-e2d5-49e1-8ac3-9bfbd73d20e9",
   "metadata": {},
   "outputs": [],
   "source": [
    "df"
   ]
  },
  {
   "cell_type": "code",
   "execution_count": null,
   "id": "7c01ddc1-41ad-4afd-8af9-c9ac753ed014",
   "metadata": {},
   "outputs": [],
   "source": [
    "w = df.set_index(\"processed_input\").at[\"x1\", \"category_weights\"].tolist()\n",
    "w"
   ]
  },
  {
   "cell_type": "code",
   "execution_count": null,
   "id": "36e335c6-5716-4096-8f25-7baaba802ee0",
   "metadata": {},
   "outputs": [],
   "source": [
    "weights = pd.DataFrame(w)\n",
    "weights"
   ]
  },
  {
   "cell_type": "code",
   "execution_count": null,
   "id": "becc36a9-cd52-4539-8128-0780e13242bd",
   "metadata": {},
   "outputs": [],
   "source": [
    "weights.set_index(\"category\").plot.bar()"
   ]
  }
 ],
 "metadata": {
  "kernelspec": {
   "display_name": "Python 3 (ipykernel)",
   "language": "python",
   "name": "python3"
  },
  "language_info": {
   "codemirror_mode": {
    "name": "ipython",
    "version": 3
   },
   "file_extension": ".py",
   "mimetype": "text/x-python",
   "name": "python",
   "nbconvert_exporter": "python",
   "pygments_lexer": "ipython3",
   "version": "3.10.12"
  }
 },
 "nbformat": 4,
 "nbformat_minor": 5
}
